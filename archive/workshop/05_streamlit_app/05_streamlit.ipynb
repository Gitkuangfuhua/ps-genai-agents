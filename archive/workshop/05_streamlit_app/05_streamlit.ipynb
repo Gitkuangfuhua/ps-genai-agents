{
 "cells": [
  {
   "cell_type": "markdown",
   "metadata": {},
   "source": [
    "# Professional Services Retreat | GenAI Workshop"
   ]
  },
  {
   "cell_type": "markdown",
   "metadata": {},
   "source": [
    "# Streamlit"
   ]
  },
  {
   "cell_type": "markdown",
   "metadata": {},
   "source": [
    "We have included the Streamlit application that we developed for the Honda IQS POC. You may use it to interact with both the IQS or Patient Journey data.\n",
    "\n",
    "This application utilizes a Text2Cypher Graph Agent. The code to create the agent can be found [here](../../src/ps_genai_agents/agents/graph/text2cypher/text2cypher.py)."
   ]
  },
  {
   "cell_type": "markdown",
   "metadata": {},
   "source": [
    "Run the following from the command line and ensure that you are in the project.\n",
    "\n",
    "```\n",
    "poetry run streamlit run app.py\n",
    "```\n",
    "\n",
    "This should launch the Streamlit app on `http://localhost:8501/`."
   ]
  },
  {
   "cell_type": "markdown",
   "metadata": {},
   "source": [
    "You may switch between IQS and Patient Journey data with the radio toggle in the sidebar.\n",
    "\n",
    "We've included some example questions in the sidebar as well."
   ]
  },
  {
   "cell_type": "markdown",
   "metadata": {},
   "source": [
    "<!-- ![streamlit-app](./images/ps-genai-agents-streamlit.png) -->\n",
    "<div>\n",
    "<img src=\"./images/ps-genai-agents-streamlit.png\" width=\"1200\"/>\n",
    "</div>"
   ]
  }
 ],
 "metadata": {
  "kernelspec": {
   "display_name": "ps-genai-agents-lVTtXIGJ-py3.12",
   "language": "python",
   "name": "python3"
  },
  "language_info": {
   "codemirror_mode": {
    "name": "ipython",
    "version": 3
   },
   "file_extension": ".py",
   "mimetype": "text/x-python",
   "name": "python",
   "nbconvert_exporter": "python",
   "pygments_lexer": "ipython3",
   "version": "3.12.3"
  }
 },
 "nbformat": 4,
 "nbformat_minor": 2
}
