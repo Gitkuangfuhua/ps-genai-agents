{
 "cells": [
  {
   "cell_type": "markdown",
   "metadata": {},
   "source": [
    "# Multi Tool Agent"
   ]
  },
  {
   "cell_type": "markdown",
   "metadata": {},
   "source": [
    "This notebook demonstrates an agent that has many tools available to answer questions. If a tool isn't found, then it is able to generate novel Cypher to answer the question."
   ]
  },
  {
   "cell_type": "code",
   "execution_count": 1,
   "metadata": {},
   "outputs": [],
   "source": [
    "import sys\n",
    "\n",
    "DIR_SHIFT = \"../../\"\n",
    "sys.path.append(DIR_SHIFT)"
   ]
  },
  {
   "cell_type": "code",
   "execution_count": 2,
   "metadata": {},
   "outputs": [],
   "source": [
    "import nest_asyncio\n",
    "\n",
    "nest_asyncio.apply()"
   ]
  },
  {
   "cell_type": "code",
   "execution_count": 3,
   "metadata": {},
   "outputs": [],
   "source": [
    "import asyncio\n",
    "\n",
    "from IPython.display import Image, display\n",
    "from langchain_neo4j import Neo4jGraph\n",
    "from langchain_openai import ChatOpenAI\n",
    "\n",
    "from ps_genai_agents.components.state import OutputState\n",
    "from ps_genai_agents.retrievers.cypher_examples import YAMLCypherExampleRetriever\n",
    "from ps_genai_agents.workflows.multi_agent import create_multi_tool_workflow"
   ]
  },
  {
   "cell_type": "code",
   "execution_count": 4,
   "metadata": {},
   "outputs": [
    {
     "data": {
      "text/plain": [
       "True"
      ]
     },
     "execution_count": 4,
     "metadata": {},
     "output_type": "execute_result"
    }
   ],
   "source": [
    "from dotenv import load_dotenv\n",
    "\n",
    "load_dotenv()"
   ]
  },
  {
   "cell_type": "markdown",
   "metadata": {},
   "source": [
    "## Neo4j Graph"
   ]
  },
  {
   "cell_type": "code",
   "execution_count": 5,
   "metadata": {},
   "outputs": [],
   "source": [
    "graph = Neo4jGraph(enhanced_schema=True)"
   ]
  },
  {
   "cell_type": "code",
   "execution_count": 6,
   "metadata": {},
   "outputs": [
    {
     "name": "stdout",
     "output_type": "stream",
     "text": [
      "Node properties:\n",
      "- **Recipe**\n",
      "  - `id`: STRING Example: \"8096211\"\n",
      "  - `name`: STRING Example: \"veggie rainbow picnic pie\"\n",
      "  - `description`: STRING Example: \"packed with veggies, feta and egg, this vegetarian\"\n",
      "  - `skillLevel`: STRING Example: \"easy\"\n",
      "  - `cookingTimeMinutes`: INTEGER Example: \"100\"\n",
      "  - `preparationTimeMinutes`: INTEGER Example: \"45\"\n",
      "- **Ingredient**\n",
      "  - `name`: STRING Example: \"'00' flour\"\n",
      "- **Keyword**\n",
      "  - `name`: STRING Example: \"pesto\"\n",
      "- **DietType**\n",
      "  - `name`: STRING Example: \"dairy-free\"\n",
      "- **Author**\n",
      "  - `name`: STRING Example: \"\"\n",
      "- **Collection**\n",
      "  - `name`: STRING Example: \"15 minutes or less\"\n",
      "- **CypherQuery**\n",
      "  - `question`: STRING Example: \"What are some chocolate cakes I could make?\"\n",
      "  - `cypherStatement`: STRING Example: \"MATCH (:Collection {name: 'Chocolate cake'})<-[:CO\"\n",
      "  - `embeddingModel`: STRING Available options: ['text-embedding-ada-002']\n",
      "Relationship properties:\n",
      "\n",
      "The relationships:\n",
      "(:Recipe)-[:CONTAINS_INGREDIENT]->(:Ingredient)\n",
      "(:Recipe)-[:KEYWORD]->(:Keyword)\n",
      "(:Recipe)-[:DIET_TYPE]->(:DietType)\n",
      "(:Recipe)-[:COLLECTION]->(:Collection)\n",
      "(:Author)-[:WROTE]->(:Recipe)\n"
     ]
    }
   ],
   "source": [
    "print(graph.get_schema)"
   ]
  },
  {
   "cell_type": "markdown",
   "metadata": {},
   "source": [
    "## LLM Connections"
   ]
  },
  {
   "cell_type": "code",
   "execution_count": 7,
   "metadata": {},
   "outputs": [],
   "source": [
    "llm = ChatOpenAI(model=\"gpt-4o\", temperature=0)"
   ]
  },
  {
   "cell_type": "markdown",
   "metadata": {},
   "source": [
    "## Additional Configurations"
   ]
  },
  {
   "cell_type": "code",
   "execution_count": 8,
   "metadata": {},
   "outputs": [],
   "source": [
    "from data.bbc_recipes.queries import get_cypher_statements_dictionary, get_tool_schemas\n",
    "from ps_genai_agents.components.text2cypher import get_text2cypher_schema"
   ]
  },
  {
   "cell_type": "code",
   "execution_count": 9,
   "metadata": {},
   "outputs": [],
   "source": [
    "cypher_query_yaml_file_path = DIR_SHIFT + \"data/bbc_recipes/queries/queries.yml\"\n",
    "\n",
    "cypher_queries_for_tools = (\n",
    "    get_cypher_statements_dictionary()\n",
    ")  # this is used to find Cypher queries based on a name\n",
    "\n",
    "tool_schemas = (\n",
    "    get_tool_schemas() + [get_text2cypher_schema()]\n",
    ")  # these are Pydantic classes that define the available Cypher queries and their parameters\n",
    "\n",
    "cypher_example_retriever = YAMLCypherExampleRetriever(\n",
    "    cypher_query_yaml_file_path=cypher_query_yaml_file_path\n",
    ")"
   ]
  },
  {
   "cell_type": "code",
   "execution_count": 10,
   "metadata": {},
   "outputs": [],
   "source": [
    "scope_description = \"This application may answer questions related to cooking recipes and their authors.\""
   ]
  },
  {
   "cell_type": "code",
   "execution_count": 11,
   "metadata": {},
   "outputs": [],
   "source": [
    "agent = create_multi_tool_workflow(\n",
    "    llm=llm,\n",
    "    graph=graph,\n",
    "    tool_schemas=tool_schemas,\n",
    "    predefined_cypher_dict=cypher_queries_for_tools,\n",
    "    scope_description=scope_description,\n",
    "    cypher_example_retriever=cypher_example_retriever,\n",
    "    llm_cypher_validation=False,\n",
    "    attempt_cypher_execution_on_final_attempt=True,\n",
    "    default_to_text2cypher=False,\n",
    ")"
   ]
  },
  {
   "cell_type": "code",
   "execution_count": 12,
   "metadata": {},
   "outputs": [
    {
     "data": {
      "image/png": "[encoded data removed]",
      "text/plain": [
       "<IPython.core.display.Image object>"
      ]
     },
     "metadata": {},
     "output_type": "display_data"
    }
   ],
   "source": [
    "display(Image(agent.get_graph().draw_mermaid_png()))"
   ]
  },
  {
   "cell_type": "markdown",
   "metadata": {},
   "source": [
    "## Questions"
   ]
  },
  {
   "cell_type": "code",
   "execution_count": 13,
   "metadata": {},
   "outputs": [],
   "source": [
    "async def ask_question(question: str, debug: bool = False) -> OutputState:\n",
    "    \"\"\"wrapper to simplify asking questions in the notebook.\"\"\"\n",
    "\n",
    "    async def ask():\n",
    "        response = await agent.ainvoke({\"question\": question}, debug=debug)\n",
    "        return response\n",
    "\n",
    "    return asyncio.run(ask())\n",
    "\n",
    "\n",
    "def print_answer(response: OutputState) -> None:\n",
    "    print(response.get(\"question\"))\n",
    "    print(response.get(\"answer\"))\n",
    "\n",
    "\n",
    "def print_cypher_queries(response: OutputState) -> None:\n",
    "    [\n",
    "        print(c.get(\"task\", \"\") + \"\\n\\n\" + c.get(\"statement\", \"\") + \"\\n\\nParameters:\\n\" + str(c.get(\"parameters\", \"\")))\n",
    "        for c in response.get(\"cyphers\", list())\n",
    "    ] if response.get(\"cyphers\") is not None else \"\"\n",
    "\n",
    "\n",
    "def print_cypher_results(response: OutputState) -> None:\n",
    "    [\n",
    "        (\n",
    "            print(c.get(\"task\", \"\") + \"\\n\\n\"),\n",
    "            [print(r) for r in c.get(\"records\", \"\")],\n",
    "            print(\"\\n\\n\"),\n",
    "        )\n",
    "        for c in response.get(\"cyphers\", list())\n",
    "    ]\n",
    "\n",
    "\n",
    "def print_viz_results(response: OutputState) -> None:\n",
    "    [\n",
    "        (\n",
    "            print(v.get(\"task\") + \"\\n\\n\" + v.get(\"chart_description\") + \"\\n\\n\"),\n",
    "            display(v.get(\"chart\")),\n",
    "        )\n",
    "        for v in response.get(\"visualizations\")\n",
    "    ]"
   ]
  },
  {
   "cell_type": "markdown",
   "metadata": {},
   "source": [
    "### Text2Cypher Only Question"
   ]
  },
  {
   "cell_type": "markdown",
   "metadata": {},
   "source": [
    "We don't have tools that address these questions entirely, so we will need to use Text2Cypher to answer correctly. "
   ]
  },
  {
   "cell_type": "code",
   "execution_count": null,
   "metadata": {},
   "outputs": [],
   "source": [
    "response = await agent.ainvoke(\n",
    "    {\n",
    "        \"question\": \"How many authors have written a recipe?\"\n",
    "    },\n",
    "    debug=False,\n",
    ")"
   ]
  },
  {
   "cell_type": "code",
   "execution_count": 15,
   "metadata": {},
   "outputs": [
    {
     "name": "stdout",
     "output_type": "stream",
     "text": [
      "How many authors have written a recipe?\n",
      "**303 authors have written a recipe.**\n"
     ]
    }
   ],
   "source": [
    "print_answer(response)"
   ]
  },
  {
   "cell_type": "code",
   "execution_count": 16,
   "metadata": {},
   "outputs": [
    {
     "name": "stdout",
     "output_type": "stream",
     "text": [
      "How many unique authors are there in the dataset?\n",
      "\n",
      "MATCH (a:Author)\n",
      "RETURN count(DISTINCT a.name) AS uniqueAuthors\n",
      "\n",
      "Parameters:\n",
      "None\n",
      "How many recipes are there in the dataset?\n",
      "\n",
      "MATCH (r:Recipe)\n",
      "RETURN count(r) AS numberOfRecipes\n",
      "\n",
      "Parameters:\n",
      "None\n"
     ]
    }
   ],
   "source": [
    "print_cypher_queries(response)"
   ]
  },
  {
   "cell_type": "code",
   "execution_count": 17,
   "metadata": {},
   "outputs": [
    {
     "name": "stdout",
     "output_type": "stream",
     "text": [
      "['guardrails', 'planner', 'generate_cypher', 'validate_cypher', 'execute_cypher', 'text2cypher', 'generate_cypher', 'validate_cypher', 'execute_cypher', 'text2cypher', 'summarize', 'final_answer']\n"
     ]
    }
   ],
   "source": [
    "print(response.get(\"steps\"))"
   ]
  },
  {
   "cell_type": "markdown",
   "metadata": {},
   "source": [
    "### Question Using Predefined Cypher Tool"
   ]
  },
  {
   "cell_type": "markdown",
   "metadata": {},
   "source": [
    "We can use the `get_most_common_ingredients_an_author_uses` tool to address the following question. This reduces the number of LLM calls we have to make since we're not relying on Text2Cypher."
   ]
  },
  {
   "cell_type": "code",
   "execution_count": 18,
   "metadata": {},
   "outputs": [],
   "source": [
    "q2 = await agent.ainvoke(\n",
    "    {\"question\": \"What ingredients does emma lewis like to use most?\"}, debug=False\n",
    ")"
   ]
  },
  {
   "cell_type": "code",
   "execution_count": 19,
   "metadata": {},
   "outputs": [
    {
     "name": "stdout",
     "output_type": "stream",
     "text": [
      "What ingredients does emma lewis like to use most?\n",
      "- **Olive oil**: 39 recipes\n",
      "- **Butter**: 37 recipes\n",
      "- **Garlic clove**: 29 recipes\n",
      "- **Onion**: 24 recipes\n",
      "- **Egg**: 21 recipes\n",
      "- **Lemon**: 21 recipes\n",
      "- **Vegetable oil**: 18 recipes\n",
      "- **Plain flour**: 15 recipes\n",
      "- **Caster sugar**: 13 recipes\n",
      "- **Thyme**: 11 recipes\n"
     ]
    }
   ],
   "source": [
    "print_answer(q2)"
   ]
  },
  {
   "cell_type": "code",
   "execution_count": 20,
   "metadata": {},
   "outputs": [
    {
     "name": "stdout",
     "output_type": "stream",
     "text": [
      "What are the most frequently used ingredients by Emma Lewis?\n",
      "\n",
      "\n",
      "MATCH (:Author {name: $author})-[:WROTE]->(:Recipe)-[:CONTAINS_INGREDIENT]->(i:Ingredient)\n",
      "RETURN i.name as name, COUNT(*) as numRecipes\n",
      "ORDER BY numRecipes DESC\n",
      "LIMIT 10\n",
      "\n",
      "\n",
      "Parameters:\n",
      "{'author': 'emma lewis'}\n"
     ]
    }
   ],
   "source": [
    "print_cypher_queries(q2)"
   ]
  },
  {
   "cell_type": "code",
   "execution_count": 25,
   "metadata": {},
   "outputs": [
    {
     "name": "stdout",
     "output_type": "stream",
     "text": [
      "['guardrails', 'planner', 'execute_predefined_cypher', 'summarize', 'final_answer']\n"
     ]
    }
   ],
   "source": [
    "print(q2.get(\"steps\"))"
   ]
  },
  {
   "cell_type": "markdown",
   "metadata": {},
   "source": [
    "### Question Using Predefined Cypher and Text2Cypher"
   ]
  },
  {
   "cell_type": "markdown",
   "metadata": {},
   "source": [
    "This query requires Text2Cypher to answer which vehicle has the highest number of complaints but may use the `get_all_vehicle_names` tool to answer which vehicles the user may ask about."
   ]
  },
  {
   "cell_type": "code",
   "execution_count": null,
   "metadata": {},
   "outputs": [],
   "source": [
    "q3 = await agent.ainvoke(\n",
    "    {\n",
    "        \"question\": \"What are some easy recipes I can make? Also can you share how many ingredients you know about?\"\n",
    "    },\n",
    "    debug=False,\n",
    ")"
   ]
  },
  {
   "cell_type": "code",
   "execution_count": 22,
   "metadata": {},
   "outputs": [
    {
     "name": "stdout",
     "output_type": "stream",
     "text": [
      "What are some easy recipes I can make? Also can you share how many ingredients you know about?\n",
      "- **Apricot & Pistachio Frangipane Blondies**\n",
      "- **Camomile Tea with Honey**\n",
      "- **Pastry Snakes**\n",
      "- **Quick Banana Ice Cream Sandwiches**\n",
      "- **Red Onion with Peanut Butter & Chilli**\n",
      "\n",
      "I know about 3068 ingredients.\n"
     ]
    }
   ],
   "source": [
    "print_answer(q3)"
   ]
  },
  {
   "cell_type": "code",
   "execution_count": 23,
   "metadata": {},
   "outputs": [
    {
     "name": "stdout",
     "output_type": "stream",
     "text": [
      "What are some easy recipes I can make?\n",
      "\n",
      "\n",
      "MATCH (r:Recipe {skillLevel: \"easy\"})\n",
      "RETURN r.name as name\n",
      "LIMIT $number_of_recipes\n",
      "\n",
      "\n",
      "Parameters:\n",
      "{'number_of_recipes': 5}\n",
      "How many ingredients do you know about?\n",
      "\n",
      "MATCH (i:Ingredient)\n",
      "RETURN count(i) AS numberOfIngredients\n",
      "\n",
      "Parameters:\n",
      "None\n"
     ]
    }
   ],
   "source": [
    "print_cypher_queries(q3)"
   ]
  },
  {
   "cell_type": "code",
   "execution_count": 24,
   "metadata": {},
   "outputs": [
    {
     "name": "stdout",
     "output_type": "stream",
     "text": [
      "['guardrails', 'planner', 'execute_predefined_cypher', 'generate_cypher', 'validate_cypher', 'execute_cypher', 'text2cypher', 'summarize', 'final_answer']\n"
     ]
    }
   ],
   "source": [
    "print(q3.get(\"steps\"))"
   ]
  },
  {
   "cell_type": "code",
   "execution_count": null,
   "metadata": {},
   "outputs": [],
   "source": []
  }
 ],
 "metadata": {
  "kernelspec": {
   "display_name": "ps-genai-agents-lVTtXIGJ-py3.12",
   "language": "python",
   "name": "python3"
  },
  "language_info": {
   "codemirror_mode": {
    "name": "ipython",
    "version": 3
   },
   "file_extension": ".py",
   "mimetype": "text/x-python",
   "name": "python",
   "nbconvert_exporter": "python",
   "pygments_lexer": "ipython3",
   "version": "3.12.3"
  }
 },
 "nbformat": 4,
 "nbformat_minor": 2
}
