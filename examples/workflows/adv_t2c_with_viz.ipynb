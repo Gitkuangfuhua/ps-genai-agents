{
 "cells": [
  {
   "cell_type": "markdown",
   "metadata": {},
   "source": [
    "# Text2Cypher Workflow Demo Notebook"
   ]
  },
  {
   "cell_type": "markdown",
   "metadata": {},
   "source": [
    "This notebooks demonstrates a text2cypher workflow with visualization capabilities.\n",
    "\n",
    "It also does not use an LLM to validate generated Cypher. Instead it uses the Cypher validation functions from the ps_genai_agents package.\n",
    "\n",
    "This workflow uses similarity search to collect the most relevant Cypher examples for the Cypher generation step."
   ]
  },
  {
   "cell_type": "code",
   "execution_count": 1,
   "metadata": {},
   "outputs": [],
   "source": [
    "import sys\n",
    "\n",
    "DIR_SHIFT = \"../../\"\n",
    "sys.path.append(DIR_SHIFT)"
   ]
  },
  {
   "cell_type": "markdown",
   "metadata": {},
   "source": [
    "## Imports"
   ]
  },
  {
   "cell_type": "code",
   "execution_count": 2,
   "metadata": {},
   "outputs": [],
   "source": [
    "import nest_asyncio\n",
    "\n",
    "nest_asyncio.apply()"
   ]
  },
  {
   "cell_type": "code",
   "execution_count": 3,
   "metadata": {},
   "outputs": [],
   "source": [
    "import asyncio\n",
    "import os\n",
    "\n",
    "from IPython.display import Image, display\n",
    "from langchain_neo4j import Neo4jGraph\n",
    "from langchain_openai import ChatOpenAI, OpenAIEmbeddings\n",
    "from neo4j import GraphDatabase\n",
    "\n",
    "from ps_genai_agents.components.state import OutputState\n",
    "from ps_genai_agents.retrievers.cypher_examples import (\n",
    "    Neo4jVectorSearchCypherExampleRetriever,\n",
    ")\n",
    "from ps_genai_agents.workflows.multi_agent import (\n",
    "    create_text2cypher_with_visualization_workflow,\n",
    ")"
   ]
  },
  {
   "cell_type": "markdown",
   "metadata": {},
   "source": [
    "## Neo4j Graph"
   ]
  },
  {
   "cell_type": "markdown",
   "metadata": {},
   "source": [
    "This class handles interaction with our Neo4j database. We use `enhanced_schema` to gain more detail about the graph contents."
   ]
  },
  {
   "cell_type": "code",
   "execution_count": 4,
   "metadata": {},
   "outputs": [
    {
     "data": {
      "text/plain": [
       "True"
      ]
     },
     "execution_count": 4,
     "metadata": {},
     "output_type": "execute_result"
    }
   ],
   "source": [
    "from dotenv import load_dotenv\n",
    "\n",
    "load_dotenv()"
   ]
  },
  {
   "cell_type": "code",
   "execution_count": 5,
   "metadata": {},
   "outputs": [],
   "source": [
    "graph = Neo4jGraph(enhanced_schema=True)"
   ]
  },
  {
   "cell_type": "code",
   "execution_count": 6,
   "metadata": {},
   "outputs": [
    {
     "name": "stdout",
     "output_type": "stream",
     "text": [
      "Node properties:\n",
      "- **Customer**\n",
      "  - `id`: STRING Example: \"9A79438B\"\n",
      "  - `ageBucket`: STRING Example: \">=70\"\n",
      "  - `gender`: STRING Available options: ['Male', 'Female', '']\n",
      "- **Category**\n",
      "  - `id`: STRING Available options: ['Exterior', 'Driving Experience', 'Features/Controls/Displays (FCD)', 'Driving Assistance', 'Infotainment', 'Seats', 'Climate', 'Interior', 'Powertrain']\n",
      "- **Problem**\n",
      "  - `id`: STRING Example: \"EXT01\"\n",
      "  - `problem`: STRING Example: \"EXT01: Doors - Hard to open/close\"\n",
      "- **Question**\n",
      "  - `id`: INTEGER Min: 1, Max: 223\n",
      "  - `question`: STRING Example: \"#001 Doors Hard to Open/Close\"\n",
      "- **Vehicle**\n",
      "  - `id`: STRING Example: \"Acura Integra\"\n",
      "  - `totalProblems`: INTEGER Min: 2, Max: 10\n",
      "- **Verbatim**\n",
      "  - `id`: STRING Example: \"9A79438B\"\n",
      "  - `verbatim`: STRING Example: \"When the doors are locked and the driver's door is\"\n",
      "  - `verbatimText`: STRING Example: \"acura integra exterior ext01: doors - hard to open\"\n",
      "  - `ageBucket`: STRING Example: \">=70\"\n",
      "  - `severity`: FLOAT Example: \"1.0\"\n",
      "  - `gender`: STRING Example: \"Male\"\n",
      "  - `make`: STRING Example: \"Acura\"\n",
      "  - `model`: STRING Example: \"Integra\"\n",
      "  - `minAge`: INTEGER Example: \"70\"\n",
      "  - `maxAge`: INTEGER Example: \"100\"\n",
      "- **CypherQuery**\n",
      "  - `question`: STRING Example: \"What is the proportion of male to female complaina\"\n",
      "  - `cypherStatement`: STRING Example: \"MATCH (v:Verbatim {make: \"Honda\", model: \"Odyssey\"\"\n",
      "  - `embeddingModel`: STRING Available options: ['text-embedding-ada-002']\n",
      "Relationship properties:\n",
      "\n",
      "The relationships:\n",
      "(:Customer)-[:SUBMITTED]->(:Verbatim)\n",
      "(:Problem)-[:HAS_CATEGORY]->(:Category)\n",
      "(:Question)-[:HAS_PROBLEM]->(:Problem)\n",
      "(:Vehicle)-[:HAS_CATEGORY]->(:Category)\n",
      "(:Vehicle)-[:HAS_VERBATIM]->(:Verbatim)\n",
      "(:Verbatim)-[:HAS_CATEGORY]->(:Category)\n",
      "(:Verbatim)-[:HAS_PROBLEM]->(:Problem)\n",
      "(:Verbatim)-[:HAS_QUESTION]->(:Question)\n"
     ]
    }
   ],
   "source": [
    "print(graph.schema)"
   ]
  },
  {
   "cell_type": "markdown",
   "metadata": {},
   "source": [
    "## LLM"
   ]
  },
  {
   "cell_type": "markdown",
   "metadata": {},
   "source": [
    "We will be using an OpenAI LLM for this demo."
   ]
  },
  {
   "cell_type": "code",
   "execution_count": 7,
   "metadata": {},
   "outputs": [],
   "source": [
    "llm = ChatOpenAI(model=\"gpt-4o\", temperature=0)"
   ]
  },
  {
   "cell_type": "markdown",
   "metadata": {},
   "source": [
    "## Cypher Example Retriever"
   ]
  },
  {
   "cell_type": "markdown",
   "metadata": {},
   "source": [
    "This class is responsible for collecting and formatting Cypher examples for few shot prompting.\n",
    "\n",
    "Here we are selecting the k most similar examples from a vector store containing many Cypher examples. \n",
    "This allows us to have a larger functional scope while reducing the number of tokens sent to the LLM for processing."
   ]
  },
  {
   "cell_type": "code",
   "execution_count": 8,
   "metadata": {},
   "outputs": [],
   "source": [
    "embedder = OpenAIEmbeddings(model=\"text-embedding-ada-002\")"
   ]
  },
  {
   "cell_type": "code",
   "execution_count": 9,
   "metadata": {},
   "outputs": [],
   "source": [
    "neo4j_driver = GraphDatabase.driver(\n",
    "    uri=os.getenv(\"NEO4J_URI\"),\n",
    "    auth=(os.getenv(\"NEO4J_USERNAME\"), os.getenv(\"NEO4J_PASSWORD\")),\n",
    ")\n",
    "vector_index_name = \"cypher_query_vector_index\""
   ]
  },
  {
   "cell_type": "code",
   "execution_count": 10,
   "metadata": {},
   "outputs": [],
   "source": [
    "cypher_query_yaml_file_path = DIR_SHIFT + \"./data/iqs/queries/queries.yml\"\n",
    "cypher_example_retriever = Neo4jVectorSearchCypherExampleRetriever(\n",
    "    neo4j_driver=neo4j_driver, vector_index_name=vector_index_name, embedder=embedder\n",
    ")"
   ]
  },
  {
   "cell_type": "markdown",
   "metadata": {},
   "source": [
    "## Agent"
   ]
  },
  {
   "cell_type": "code",
   "execution_count": 11,
   "metadata": {},
   "outputs": [],
   "source": [
    "scope_description = \"This application may answer questions related to customer feedback on Honda vehicles.\""
   ]
  },
  {
   "cell_type": "code",
   "execution_count": 12,
   "metadata": {},
   "outputs": [],
   "source": [
    "agent = create_text2cypher_with_visualization_workflow(\n",
    "    llm=llm,\n",
    "    graph=graph,\n",
    "    scope_description=scope_description,\n",
    "    cypher_example_retriever=cypher_example_retriever,\n",
    "    # where llm cypher validation is turned off\n",
    "    llm_cypher_validation=False,\n",
    "    attempt_cypher_execution_on_final_attempt=True,\n",
    ")"
   ]
  },
  {
   "cell_type": "markdown",
   "metadata": {},
   "source": [
    "Here we can see the agent workflow. \n",
    "* The workflow always starts at `guardrails` where the input question is determined to be in scope or not.\n",
    "* The workflow always ends at `final_answer` where the generated contents are formatted to be returned to the user.\n",
    "* Dotted lines indicate conditional paths."
   ]
  },
  {
   "cell_type": "code",
   "execution_count": 13,
   "metadata": {},
   "outputs": [
    {
     "data": {
      "image/png": "[encoded data removed]",
      "text/plain": [
       "<IPython.core.display.Image object>"
      ]
     },
     "metadata": {},
     "output_type": "display_data"
    }
   ],
   "source": [
    "display(Image(agent.get_graph().draw_mermaid_png()))"
   ]
  },
  {
   "cell_type": "markdown",
   "metadata": {},
   "source": [
    "## Questions"
   ]
  },
  {
   "cell_type": "markdown",
   "metadata": {},
   "source": [
    "### Helper Functions"
   ]
  },
  {
   "cell_type": "code",
   "execution_count": 14,
   "metadata": {},
   "outputs": [],
   "source": [
    "async def ask_question(question: str, debug: bool = False) -> OutputState:\n",
    "    \"\"\"wrapper to simplify asking questions in the notebook.\"\"\"\n",
    "\n",
    "    async def ask():\n",
    "        response = await agent.ainvoke({\"question\": question}, debug=debug)\n",
    "        return response\n",
    "\n",
    "    return asyncio.run(ask())\n",
    "\n",
    "\n",
    "def print_answer(response: OutputState) -> None:\n",
    "    print(response.get(\"question\"))\n",
    "    print(response.get(\"answer\"))\n",
    "\n",
    "\n",
    "def print_cypher_queries(response: OutputState) -> None:\n",
    "    [\n",
    "        print(c.get(\"task\") + \"\\n\\n\" + c.get(\"statement\") + \"\\n\\n\")\n",
    "        for c in response.get(\"cyphers\")\n",
    "    ]\n",
    "\n",
    "\n",
    "def print_cypher_results(response: OutputState) -> None:\n",
    "    [\n",
    "        (\n",
    "            print(c.get(\"task\") + \"\\n\\n\"),\n",
    "            [print(r) for r in c.get(\"records\")],\n",
    "            print(\"\\n\\n\"),\n",
    "        )\n",
    "        for c in response.get(\"cyphers\")\n",
    "    ]\n",
    "\n",
    "\n",
    "def print_viz_results(response: OutputState) -> None:\n",
    "    [\n",
    "        (\n",
    "            print(v.get(\"task\") + \"\\n\\n\" + v.get(\"chart_description\") + \"\\n\\n\"),\n",
    "            display(v.get(\"chart\")),\n",
    "        )\n",
    "        for v in response.get(\"visualizations\")\n",
    "    ]"
   ]
  },
  {
   "cell_type": "markdown",
   "metadata": {},
   "source": [
    "The agent response is a Python dictionary with the following format:\n",
    "```python\n",
    "{\n",
    "    answer: str,\n",
    "    question: str,\n",
    "    steps: List[str],\n",
    "    cyphers: List[\n",
    "        subquestion: str,\n",
    "        statement: str,\n",
    "        errors: List[str],\n",
    "        records: List[Dict[str, Any]],\n",
    "        next_action: str,\n",
    "        steps: List[str],\n",
    "    ],\n",
    "    visualizations: List[\n",
    "        subquestion: str\n",
    "        chart: Any\n",
    "        chart_description: str\n",
    "        steps: List[str]\n",
    "    ]\n",
    "}\n",
    "```"
   ]
  },
  {
   "cell_type": "markdown",
   "metadata": {},
   "source": [
    "### 1. Out of Scope"
   ]
  },
  {
   "cell_type": "markdown",
   "metadata": {},
   "source": [
    "The agent can detect whether a question is in scope and avoid further processing."
   ]
  },
  {
   "cell_type": "code",
   "execution_count": 15,
   "metadata": {},
   "outputs": [],
   "source": [
    "q1 = await ask_question(\"What are the most common apple types?\")"
   ]
  },
  {
   "cell_type": "code",
   "execution_count": 16,
   "metadata": {},
   "outputs": [
    {
     "name": "stdout",
     "output_type": "stream",
     "text": [
      "What are the most common apple types?\n",
      "This question is out of scope. Therefore I cannot answer this question.\n"
     ]
    }
   ],
   "source": [
    "print_answer(q1)"
   ]
  },
  {
   "cell_type": "markdown",
   "metadata": {},
   "source": [
    "We can see the agent only performs 2 steps - only `guardrails` requires an LLM call."
   ]
  },
  {
   "cell_type": "code",
   "execution_count": 17,
   "metadata": {},
   "outputs": [
    {
     "data": {
      "text/plain": [
       "['guardrails', 'final_answer']"
      ]
     },
     "execution_count": 17,
     "metadata": {},
     "output_type": "execute_result"
    }
   ],
   "source": [
    "q1.get(\"steps\")"
   ]
  },
  {
   "cell_type": "markdown",
   "metadata": {},
   "source": [
    "### 2. Cypher Question without Visualization"
   ]
  },
  {
   "cell_type": "markdown",
   "metadata": {},
   "source": [
    "The agent is capable of creating Cypher queries to answer questions within the scope of the data."
   ]
  },
  {
   "cell_type": "code",
   "execution_count": 18,
   "metadata": {},
   "outputs": [],
   "source": [
    "q2 = await ask_question(\"How many vehicles are there?\", debug=False)"
   ]
  },
  {
   "cell_type": "code",
   "execution_count": 20,
   "metadata": {},
   "outputs": [
    {
     "name": "stdout",
     "output_type": "stream",
     "text": [
      "How many vehicles are there?\n",
      "There are 12 vehicles.\n"
     ]
    }
   ],
   "source": [
    "print_answer(q2)"
   ]
  },
  {
   "cell_type": "markdown",
   "metadata": {},
   "source": [
    "All Cypher queries are saved for evaluation."
   ]
  },
  {
   "cell_type": "code",
   "execution_count": 21,
   "metadata": {},
   "outputs": [
    {
     "name": "stdout",
     "output_type": "stream",
     "text": [
      "How many vehicles are there?\n",
      "\n",
      "MATCH (v:Vehicle)\n",
      "RETURN COUNT(v) AS totalVehicles\n",
      "\n",
      "\n"
     ]
    }
   ],
   "source": [
    "print_cypher_queries(q2)"
   ]
  },
  {
   "cell_type": "markdown",
   "metadata": {},
   "source": [
    "Results are saved as well for evaluation or futher processing."
   ]
  },
  {
   "cell_type": "code",
   "execution_count": 22,
   "metadata": {},
   "outputs": [
    {
     "name": "stdout",
     "output_type": "stream",
     "text": [
      "How many vehicles are there?\n",
      "\n",
      "\n",
      "{'totalVehicles': 12}\n",
      "\n",
      "\n",
      "\n"
     ]
    }
   ],
   "source": [
    "print_cypher_results(q2)"
   ]
  },
  {
   "cell_type": "markdown",
   "metadata": {},
   "source": [
    "### 3. Multi-Cypher Query Question without Visualization"
   ]
  },
  {
   "cell_type": "markdown",
   "metadata": {},
   "source": [
    "The agent is capable of splitting the input question into multiple subquestions. These will be individually addressed with their own Cypher queries. \n",
    "The final answer will summarize the query results together."
   ]
  },
  {
   "cell_type": "code",
   "execution_count": 17,
   "metadata": {},
   "outputs": [],
   "source": [
    "q3 = await ask_question(\n",
    "    \"Summarize the responses under fcd10 for honda pilot. What is the men to women proportion for these responses and what is the problem for fcd10?\",\n",
    "    debug=False,\n",
    ")"
   ]
  },
  {
   "cell_type": "code",
   "execution_count": 18,
   "metadata": {},
   "outputs": [
    {
     "name": "stdout",
     "output_type": "stream",
     "text": [
      "Summarize the responses under fcd10 for honda pilot. What is the men to women proportion for these responses and what is the problem for fcd10?\n",
      "- **Summary of Responses under FCD10 for Honda Pilot:**\n",
      "  - Users report that the touch system to lock and unlock doors is unreliable, often requiring multiple attempts or manual intervention.\n",
      "  - Some users experience issues where doors do not unlock from the outside, necessitating entry from another door.\n",
      "  - The auto-lock feature sometimes fails to lock the doors when the key fob is out of range.\n",
      "  - There are instances where the door locks instead of unlocking when the handle is touched.\n",
      "  - If someone tries to open the door while it is being unlocked, it may remain locked and become unresponsive for a few minutes.\n",
      "\n",
      "- **Men to Women Proportion:**\n",
      "  - Male to Female Ratio: 0.4\n",
      "\n",
      "- **Problem for FCD10:**\n",
      "  - Door locks - Broken/work inconsistently\n"
     ]
    }
   ],
   "source": [
    "print_answer(q3)"
   ]
  },
  {
   "cell_type": "code",
   "execution_count": 25,
   "metadata": {},
   "outputs": [
    {
     "name": "stdout",
     "output_type": "stream",
     "text": [
      "Summarize the responses under fcd10 for Honda Pilot, including the problem for fcd10.\n",
      "\n",
      "MATCH (p:Problem {id: \"FCD10\"})<-[:HAS_PROBLEM]-(v:Verbatim {make: \"Honda\", model: \"Pilot\"})\n",
      "RETURN p.problem AS problem, COLLECT(v.verbatim) AS responses\n",
      "\n",
      "\n",
      "Determine the men to women proportion for the responses under fcd10 for Honda Pilot.\n",
      "\n",
      "MATCH (p:Problem {id: \"FCD10\"})<-[:HAS_PROBLEM]-(v:Verbatim {make: \"Honda\", model: \"Pilot\"})\n",
      "WITH COUNT(v) AS totalResponses,\n",
      "     SUM(CASE WHEN v.gender = \"Male\" THEN 1 ELSE 0 END) AS males,\n",
      "     SUM(CASE WHEN v.gender = \"Female\" THEN 1 ELSE 0 END) AS females\n",
      "RETURN totalResponses, males, females, toFloat(males) / (CASE WHEN females = 0 THEN 1 ELSE females END) AS maleToFemaleRatio\n",
      "\n",
      "\n"
     ]
    }
   ],
   "source": [
    "print_cypher_queries(q3)"
   ]
  },
  {
   "cell_type": "markdown",
   "metadata": {},
   "source": [
    "### 4. Question with Visualization"
   ]
  },
  {
   "cell_type": "markdown",
   "metadata": {},
   "source": [
    "If visualization is requested, the agent will attempt to create either a bar, line or scatter plot to fit the results gathered from Neo4j."
   ]
  },
  {
   "cell_type": "code",
   "execution_count": 26,
   "metadata": {},
   "outputs": [
    {
     "data": {
      "image/png": "[encoded data removed]",
      "text/plain": [
       "<Figure size 640x480 with 1 Axes>"
      ]
     },
     "metadata": {},
     "output_type": "display_data"
    }
   ],
   "source": [
    "q4 = await ask_question(\"Show me in a chart which models have the most responses.\")"
   ]
  },
  {
   "cell_type": "markdown",
   "metadata": {},
   "source": [
    "We recieve a description along with each generated chart."
   ]
  },
  {
   "cell_type": "code",
   "execution_count": 27,
   "metadata": {},
   "outputs": [
    {
     "name": "stdout",
     "output_type": "stream",
     "text": [
      "Create a chart showing which models have the most responses.\n",
      "\n",
      "This bar chart displays the total number of responses for each car model, highlighting which models have the most responses. Each bar represents a different car model, with the height of the bar corresponding to the total number of responses received for that model.\n",
      "\n",
      "\n"
     ]
    },
    {
     "data": {
      "image/png": "[encoded data removed]",
      "text/plain": [
       "<Figure size 640x480 with 1 Axes>"
      ]
     },
     "metadata": {},
     "output_type": "display_data"
    }
   ],
   "source": [
    "print_viz_results(q4)"
   ]
  },
  {
   "cell_type": "markdown",
   "metadata": {},
   "source": [
    "We still recieve everything else in the result such as the summary and Cypher info."
   ]
  },
  {
   "cell_type": "code",
   "execution_count": 28,
   "metadata": {},
   "outputs": [
    {
     "name": "stdout",
     "output_type": "stream",
     "text": [
      "Show me in a chart which models have the most responses.\n",
      "- **CR-V**: 1347 responses\n",
      "- **Pilot**: 1261 responses\n",
      "- **Odyssey**: 1245 responses\n",
      "- **Ridgeline**: 1228 responses\n",
      "- **MDX**: 1199 responses\n",
      "- **Integra**: 1163 responses\n",
      "- **RDX**: 1110 responses\n",
      "- **HR-V**: 1080 responses\n",
      "- **Civic**: 965 responses\n",
      "- **Passport**: 904 responses\n",
      "- **Accord**: 559 responses\n",
      "- **TLX**: 319 responses\n"
     ]
    }
   ],
   "source": [
    "print_answer(q4)"
   ]
  },
  {
   "cell_type": "code",
   "execution_count": 29,
   "metadata": {},
   "outputs": [
    {
     "name": "stdout",
     "output_type": "stream",
     "text": [
      "Create a chart showing which models have the most responses.\n",
      "\n",
      "MATCH (v:Verbatim)\n",
      "RETURN v.model AS model, COUNT(v) AS totalResponses\n",
      "ORDER BY totalResponses DESC\n",
      "\n",
      "\n"
     ]
    }
   ],
   "source": [
    "print_cypher_queries(q4)"
   ]
  },
  {
   "cell_type": "code",
   "execution_count": null,
   "metadata": {},
   "outputs": [],
   "source": []
  }
 ],
 "metadata": {
  "kernelspec": {
   "display_name": "ps-genai-agents-lVTtXIGJ-py3.12",
   "language": "python",
   "name": "python3"
  },
  "language_info": {
   "codemirror_mode": {
    "name": "ipython",
    "version": 3
   },
   "file_extension": ".py",
   "mimetype": "text/x-python",
   "name": "python",
   "nbconvert_exporter": "python",
   "pygments_lexer": "ipython3",
   "version": "3.12.3"
  }
 },
 "nbformat": 4,
 "nbformat_minor": 2
}
