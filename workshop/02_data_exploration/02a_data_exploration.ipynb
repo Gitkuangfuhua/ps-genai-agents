{
 "cells": [
  {
   "cell_type": "markdown",
   "metadata": {},
   "source": [
    "# Professional Services Retreat | GenAI Workshop"
   ]
  },
  {
   "cell_type": "markdown",
   "metadata": {},
   "source": [
    "## Connect to Databases"
   ]
  },
  {
   "cell_type": "markdown",
   "metadata": {},
   "source": [
    "* Create a new project in Neo4j Desktop\n",
    "\n",
    "* Add two new connections for the patient journey and IQS graphs"
   ]
  },
  {
   "cell_type": "markdown",
   "metadata": {},
   "source": [
    "## IQS"
   ]
  },
  {
   "cell_type": "markdown",
   "metadata": {},
   "source": [
    "* Study conducted by J.D Power since 1987 called the Initial Quality Study. \n",
    "* Conducted against vehicle owners in the first 100 days of purchasing a vehicle.\n",
    "* Non-confidential and well structured."
   ]
  },
  {
   "cell_type": "markdown",
   "metadata": {},
   "source": [
    "### Data Model"
   ]
  },
  {
   "cell_type": "markdown",
   "metadata": {},
   "source": [
    "![data-model](./images/graph-model.png)"
   ]
  },
  {
   "cell_type": "markdown",
   "metadata": {},
   "source": [
    "## Patient Journey"
   ]
  },
  {
   "cell_type": "markdown",
   "metadata": {},
   "source": [
    "* Data created from Synthea, a patient population simulator which creates synthetic AND realistic patient data.\n",
    "* Model the patient journey, which is essentially the lifecycle of their interaction with medical providers, from birth to death.\n",
    "* Patients are connected to Payers (insurance providers) and will have any number of Encounters.\n",
    "* An Encounter represents any number of events with a provider (visits with doctor, procedures, condition diagnosis, prescriptions,etc)."
   ]
  },
  {
   "cell_type": "markdown",
   "metadata": {},
   "source": [
    "### Data Model"
   ]
  },
  {
   "cell_type": "markdown",
   "metadata": {},
   "source": [
    "![data-model](./images/patient-journey-data%20model-v2.png)"
   ]
  }
 ],
 "metadata": {
  "language_info": {
   "name": "python"
  }
 },
 "nbformat": 4,
 "nbformat_minor": 2
}
