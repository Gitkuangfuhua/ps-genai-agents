{
 "cells": [
  {
   "cell_type": "markdown",
   "metadata": {},
   "source": [
    "# Professional Services Retreat | GenAI Workshop"
   ]
  },
  {
   "cell_type": "markdown",
   "metadata": {},
   "source": [
    "# Text2Cypher Graph Agent Demo"
   ]
  },
  {
   "cell_type": "markdown",
   "metadata": {},
   "source": [
    "This notebook demonstrates how build and use a Text2Cypher graph agent."
   ]
  },
  {
   "cell_type": "markdown",
   "metadata": {},
   "source": [
    "## Imports"
   ]
  },
  {
   "cell_type": "code",
   "execution_count": 1,
   "metadata": {},
   "outputs": [
    {
     "name": "stdout",
     "output_type": "stream",
     "text": [
      ".env variables loaded!\n"
     ]
    }
   ],
   "source": [
    "import os\n",
    "import sys\n",
    "sys.path.append(\"../../\")\n",
    "\n",
    "from dotenv import load_dotenv\n",
    "from IPython.display import display, Markdown\n",
    "from langchain_openai import ChatOpenAI\n",
    "from langchain.graphs import Neo4jGraph\n",
    "\n",
    "load_dotenv()\n",
    "\n",
    "from src.ps_genai_agents.agents.graph.text2cypher import create_text2cypher_graph_agent\n",
    "\n",
    "(\n",
    "    print(\".env variables loaded!\")\n",
    "    if load_dotenv()\n",
    "    else print(\"Unable to load .env variables.\")\n",
    ")"
   ]
  },
  {
   "cell_type": "markdown",
   "metadata": {},
   "source": [
    "## LLM Connection"
   ]
  },
  {
   "cell_type": "markdown",
   "metadata": {},
   "source": [
    "The LLM we define here will be responsible for generating Cypher and summarizing the returned query results. In custom implementations you may decide to let different LLMs handle different tasks. Perhaps you can summarize with a lower-performance LLM in order to lower your application costs."
   ]
  },
  {
   "cell_type": "code",
   "execution_count": 2,
   "metadata": {},
   "outputs": [],
   "source": [
    "llm = ChatOpenAI(model=\"gpt-4o\")"
   ]
  },
  {
   "cell_type": "markdown",
   "metadata": {},
   "source": [
    "## Graph Connection"
   ]
  },
  {
   "cell_type": "markdown",
   "metadata": {},
   "source": [
    "The `LangChain` [`Neo4jGraph`](https://python.langchain.com/docs/integrations/providers/neo4j/#graphcypherqachain) class will be used to connect to our Aura instance. It will be used to automatically gather the graph schema and read from the database."
   ]
  },
  {
   "cell_type": "code",
   "execution_count": 3,
   "metadata": {},
   "outputs": [],
   "source": [
    "graph = Neo4jGraph(\n",
    "    url=os.environ.get(\"IQS_NEO4J_URI\"),\n",
    "    username=os.environ.get(\"IQS_NEO4J_USERNAME\"),\n",
    "    password=os.environ.get(\"IQS_NEO4J_PASSWORD\"),\n",
    "    refresh_schema=True,\n",
    ")"
   ]
  },
  {
   "cell_type": "markdown",
   "metadata": {
    "vscode": {
     "languageId": "sql"
    }
   },
   "source": [
    "## Example Queries"
   ]
  },
  {
   "cell_type": "markdown",
   "metadata": {},
   "source": [
    "We store our queries in a yaml file. This allows us to easily store and modify our queries. \n",
    "\n",
    "You may view the examples [here](../../data/iqs/queries/queries.yml)."
   ]
  },
  {
   "cell_type": "code",
   "execution_count": 4,
   "metadata": {},
   "outputs": [],
   "source": [
    "QUERY_LOCATION = \"../../data/iqs/queries/queries.yml\""
   ]
  },
  {
   "cell_type": "markdown",
   "metadata": {},
   "source": [
    "## Construct Agent"
   ]
  },
  {
   "cell_type": "markdown",
   "metadata": {},
   "source": [
    "Now we can use the `ps-genai-agent` function to construct a Text2Cypher agent. \n",
    "\n",
    "The code to construct the graph agent is in [this](../../src/ps_genai_agents/agents/graph/text2cypher/text2cypher.py) file."
   ]
  },
  {
   "cell_type": "code",
   "execution_count": 5,
   "metadata": {},
   "outputs": [],
   "source": [
    "agent = create_text2cypher_graph_agent(chat_llm=llm, neo4j_graph=graph, example_queries_location=QUERY_LOCATION)"
   ]
  },
  {
   "cell_type": "markdown",
   "metadata": {},
   "source": [
    "### Architecture"
   ]
  },
  {
   "cell_type": "markdown",
   "metadata": {},
   "source": [
    "Let's take a look at the architecture of our agent."
   ]
  },
  {
   "cell_type": "markdown",
   "metadata": {},
   "source": [
    "We see that there are four nodes in our architecture (Ignore `__start__` and `__end__`)\n",
    "* agent \n",
    "  * This is the input node. At this step the user's question is broken into subquestions and it's decided whether the question is in scope.\n",
    "* text2cypher \n",
    "  * This node will generate a cypher query for the given question or subquestion and run it against the database. \n",
    "  * Results are gathered in the `state`.\n",
    "* error \n",
    "  * This node will either explain why the agent can't answer a question or summarize any results that the agent has gathered so far.\n",
    "* final_answer\n",
    "  * This node will return a `Response` object containing the information gathered during the request.\n",
    "\n",
    "\n",
    "\n",
    "There are two types of edges in our architecture\n",
    "* conditional edges\n",
    "  * These edges exist where a node may have many options for the next action. The LLM decides which path should be taken.\n",
    "  * Dotted lines\n",
    "* regular edges\n",
    "  * These edges exist where only a single path is defined.\n",
    "  * Solid lines\n"
   ]
  },
  {
   "cell_type": "markdown",
   "metadata": {},
   "source": [
    "![text2cypher-graph-architecture](./images/text2cypher-graph-agent.png)"
   ]
  },
  {
   "cell_type": "markdown",
   "metadata": {},
   "source": [
    "Notice that the Text2Cypher node contains an edge with itself. \n",
    "\n",
    "This is because when multiple subquestions are found, we must process each one individually with the Text2Cypher node. \n",
    "\n",
    "This will create a sequence of Text2Cypher nodes in the workflow."
   ]
  },
  {
   "cell_type": "markdown",
   "metadata": {},
   "source": [
    "### Nodes"
   ]
  },
  {
   "cell_type": "markdown",
   "metadata": {},
   "source": [
    "Each node outputs a dictionary with keys that map to attributes in the `state`. Only attributes that should be modified need to be provided in the `return` statement.\n",
    "\n",
    "The Text2Cypher node is shown below. \n",
    "\n",
    "First we grab the first item in the `agent_outcome` queue and process the contained question with Text2Cypher. Then we then return the outputs so they can be mapped onto our `state`.\n",
    "\n",
    "In line 8 we call `execute_text2cypher` which handles the actual tool call and result formatting.\n",
    "\n",
    "The `tool_params` variable is a dictionary containing argument-value pairs to pass to the Text2Cypher tool."
   ]
  },
  {
   "cell_type": "markdown",
   "metadata": {},
   "source": [
    "```Python\n",
    "def text2cypher_node(data: Dict[str, Any]) -> Dict[str, Any]:\n",
    "\n",
    "    agent_action = data.get(\"agent_outcome\")\n",
    "    intermediate_steps = list()\n",
    "\n",
    "    tool_params = agent_action[0].tool_input\n",
    "\n",
    "    output = execute_text2cypher(tool_params)\n",
    "    intermediate_steps.append(output[\"intermediate_steps\"][0])\n",
    "    agent_outcome = (\n",
    "        agent_action[1:]\n",
    "        if len(agent_action) > 1\n",
    "        else [\n",
    "            AgentAction(\n",
    "                tool=\"final_answer\",\n",
    "                tool_input=\"\",\n",
    "                log=\"No more actions to perform. Moving to summarization step.\",\n",
    "            )\n",
    "        ]\n",
    "    )\n",
    "\n",
    "    return {\n",
    "        \"agent_outcome\": agent_outcome,\n",
    "        \"intermediate_steps\": intermediate_steps,\n",
    "        \"cypher\": output.get(\"cypher\"),\n",
    "        \"cypher_result\": output.get(\"cypher_result\"),\n",
    "    }\n",
    "```"
   ]
  },
  {
   "cell_type": "markdown",
   "metadata": {},
   "source": [
    "### State"
   ]
  },
  {
   "cell_type": "markdown",
   "metadata": {},
   "source": [
    "The state variable is passed to each node and informs which action should be taken. Different agents will likely have different states. For example the vector search agent will have an attribute for tracking node source IDs for citations. \n",
    "\n",
    "We annotate attributes with `operator.add` to inform `LangGraph` that new values should be appended to the list, not replace the previous values. This allows us to track results from multi-hop workflows.\n",
    "\n",
    "You may view the code for the `state` [here](../../src/ps_genai_agents/agents/graph/text2cypher/state.py)."
   ]
  },
  {
   "cell_type": "markdown",
   "metadata": {},
   "source": [
    "```python\n",
    "class AgentState(TypedDict):\n",
    "    # The input string\n",
    "    input: str\n",
    "    # The sub questions identified in the user input\n",
    "    sub_questions: Annotated[Union[List[str], None], operator.add]\n",
    "    # The list of previous messages in the conversation\n",
    "    chat_history: List[BaseMessage]\n",
    "    # The outcome of a given call to the agent\n",
    "    # Needs `None` as a valid type, since this is what this will start as\n",
    "    agent_outcome: Union[AgentAction, AgentFinish, None]\n",
    "    # List of actions and corresponding observations\n",
    "    # Here we annotate this with `operator.add` to indicate that operations to\n",
    "    # this state should be ADDED to the existing values (not overwrite it)\n",
    "    intermediate_steps: Annotated[List[tuple[AgentAction, str]], operator.add]\n",
    "    # The cypher query ran\n",
    "    cypher: Annotated[Union[List[str], None], operator.add]\n",
    "    # The result of the cypher query\n",
    "    cypher_result: Annotated[Union[List[Any], None], operator.add]\n",
    "```"
   ]
  },
  {
   "cell_type": "markdown",
   "metadata": {},
   "source": [
    "## Questions"
   ]
  },
  {
   "cell_type": "code",
   "execution_count": 6,
   "metadata": {},
   "outputs": [],
   "source": [
    "# function to print markdown\n",
    "def print_markdown(text):\n",
    "    display(Markdown(text))"
   ]
  },
  {
   "cell_type": "code",
   "execution_count": 10,
   "metadata": {},
   "outputs": [],
   "source": [
    "%%capture # suppress printing this cell. Comment out this line to see each step of the agent.\n",
    "res = agent.invoke(\n",
    "    {\n",
    "        \"input\": \"What are the total responses under seat23 for honda civic, what is the male to female proportion for these responses and what is the problem for seat23?\",\n",
    "        \"chat_history\": [],\n",
    "    }\n",
    ")"
   ]
  },
  {
   "cell_type": "code",
   "execution_count": 12,
   "metadata": {},
   "outputs": [
    {
     "name": "stdout",
     "output_type": "stream",
     "text": [
      "\n",
      "Question:\n",
      "What are the total responses under seat23 for honda civic, what is the male to female proportion for these responses and what is the problem for seat23?\n",
      "\n",
      "Sub Questions:\n",
      "What are the total responses under seat23 for honda civic?\n",
      "What is the male to female proportion for responses under seat23 for honda civic?\n",
      "What is the problem for seat23?\n",
      "\n",
      "            \n",
      "Cypher:\n",
      "\n",
      "MATCH (p:Problem {id: \"SEAT23\"})<-[:HAS_PROBLEM]-(v:Verbatim {make: \"Honda\", model: \"Civic\"})\n",
      "WITH p, COUNT(v) AS totalResponses\n",
      "RETURN totalResponses\n",
      "\n",
      "\n",
      "cypher\n",
      "MATCH (p:Problem {id: \"SEAT23\"})<-[:HAS_PROBLEM]-(v:Verbatim {make: \"Honda\", model: \"Civic\"})\n",
      "WITH COUNT(v) AS totalResponses, \n",
      "     SUM(CASE WHEN v.gender = \"Male\" THEN 1 ELSE 0 END) AS males,\n",
      "     SUM(CASE WHEN v.gender = \"Female\" THEN 1 ELSE 0 END) AS females\n",
      "RETURN totalResponses, males, females, toFloat(males) / (CASE WHEN females = 0 THEN 1 ELSE females END) AS maleToFemaleRatio\n",
      "\n",
      "\n",
      "\n",
      "MATCH (p:Problem {id: \"SEAT23\"})\n",
      "RETURN p.problem AS problem\n",
      "\n",
      "\n",
      "\n",
      "\n",
      "Cypher Result:\n",
      "[[{'totalResponses': 10}], [{'totalResponses': 10, 'males': 7, 'females': 3, 'maleToFemaleRatio': 2.3333333333333335}], [{'problem': 'SEAT23: Seat materials scuff/soil easily'}]]\n",
      "            \n",
      "Final Response:\n",
      "- Total responses under SEAT23: 10\n",
      "- Male to female proportion: 2.33 (7 males, 3 females)\n",
      "- Problem: Seat materials scuff/soil easily\n",
      "        \n"
     ]
    }
   ],
   "source": [
    "res[\"agent_outcome\"].display()"
   ]
  },
  {
   "cell_type": "code",
   "execution_count": 13,
   "metadata": {},
   "outputs": [
    {
     "data": {
      "text/markdown": [
       "- Total responses under SEAT23: 10\n",
       "- Male to female proportion: 2.33 (7 males, 3 females)\n",
       "- Problem: Seat materials scuff/soil easily"
      ],
      "text/plain": [
       "<IPython.core.display.Markdown object>"
      ]
     },
     "metadata": {},
     "output_type": "display_data"
    }
   ],
   "source": [
    "print_markdown(res.get(\"agent_outcome\").answer)"
   ]
  },
  {
   "cell_type": "code",
   "execution_count": 14,
   "metadata": {},
   "outputs": [],
   "source": [
    "%%capture\n",
    "res = agent.invoke({\"input\": \"What are the top 5 problems about seats for each age buckets for men over the age of 53?\", \"chat_history\": list()})"
   ]
  },
  {
   "cell_type": "code",
   "execution_count": 15,
   "metadata": {},
   "outputs": [
    {
     "name": "stdout",
     "output_type": "stream",
     "text": [
      "\n",
      "Question:\n",
      "What are the top 5 problems about seats for each age buckets for men over the age of 53?\n",
      "\n",
      "Sub Questions:\n",
      "What are the top 5 problems about seats for each age bucket for men over the age of 53?\n",
      "\n",
      "            \n",
      "Cypher:\n",
      "cypher\n",
      "MATCH (v:Verbatim)-[:HAS_PROBLEM]->(p:Problem)\n",
      "WHERE toLower(v.verbatimText) CONTAINS 'seat' AND v.gender = 'Male' AND v.minAge > 53 AND v.ageBucket IS NOT NULL\n",
      "WITH v.ageBucket AS ageBucket, p.problem AS problem, collect(v.verbatim) AS responses\n",
      "WITH ageBucket, problem, size(responses) AS total, responses\n",
      "WITH * ORDER BY ageBucket, total DESC\n",
      "WITH ageBucket, COLLECT(problem) AS problems, COLLECT(total) AS totals, COLLECT(responses) AS responsesList\n",
      "RETURN ageBucket, problems[..5] AS problem, totals[..5] AS total, responsesList[..5] AS responses\n",
      "LIMIT 5\n",
      "\n",
      "\n",
      "\n",
      "\n",
      "Cypher Result:\n",
      "[[{'ageBucket': '55-59', 'problem': ['SEAT04: Seats have insufficient range of adjustment', 'INFO20: Not enough power plugs/USB ports', 'SEAT18: Seat - Excessively uncomfortable', 'SEAT17: Seat - Squeaks/rattles/loose/abnormal noises', 'SEAT97: Other Seat Problem(s)'], 'total': [4, 4, 4, 4, 3], 'responses': [['Bottom seat cushion is on the short side. The end/length of the seat only reaches about 2inches shy of my knee making it uncomfortable on longer drives', 'I am 6 feet tall.. Not a good fit with longer legs', 'I’m 6’3”. A couple more inches of leg room would be nice.', 'Should have more front tilt range for me'], ['Come on guys?! In todays family-EVERYONE HAS A DEVICE THAT NEEDS CHARGING!!! There should be more conveniently place usb ports for every seat.', 'Could do with usb charging port for the back seats', 'Could use some in back seat.', 'It would be very helpful if the RTL model had plugs in the rear for passengers.  I do not believe it currently does.  Only the one/two on the dash and the ports in the center console, which are problematic for passengers to use from the back seat.'], ['Front and back passenger seats are not very comfortable for long drives', 'Hard seats, not comfortable at all.', 'Not enough padding, uncomfortable on longer trips', 'We had a 2011 odyssey, the seats were the most comfortable I have ever had in a vehicle.  The 2023 model has smaller, harder seats which are NOT comfortable like the earlier model.'], ['Rear passenger side seat squeaks when going over bumps.  If you collapse the seat the squeak goes away.  I am planning on taking it to the dealership so they can fix it.', 'Squeaks when exiting car.', 'The rattling  noise was coming from the inside of driver seat. Dealer fixed it having the seat removed, readjusted and tightened the loose seat part inside.', 'there is a squeak or rattle you hear when on bumpy road from the passenger side of the car.'], ['Missing the feature to adjust passanger seat height', 'No lumbar adjustment - needed.  Also, the armrest on the driver side is slopped toward the driver causing your arm to fall off.', 'both front seat belts make vibration/ rattling noises at the hight adjustment lever']]}, {'ageBucket': '60-64', 'problem': ['SEAT04: Seats have insufficient range of adjustment', 'SEAT09: Heated seats - Do not heat fast enough/maintain temperature', 'SEAT10: Cooled/ventilated seats - Do not cool fast enough/maintain temperature/excessively noisy', 'SEAT22: Seat material imperfection', 'SEAT23: Seat materials scuff/soil easily'], 'total': [8, 2, 2, 2, 2], 'responses': [['How hard would it be to put a full range seat like the drivers seat in the front passenger seat?   Did i not already pay enough for the elite trim.level? (Copied from SEAT97): Front passenger height....cant adjust', \"I have a short torso, so I wish seat adjusted a little higher. I'm used to driving pick up trucks so it just feels I am sitting too low, but I'm getting used to it already.\", 'It is understandable that cost control is important to balance car design and sales. Having said that, it would seem that adding a height adjustment to the passenger seat should not be a big deal. Honda\\'s seat position tends to sit low (noticed this even on top-trim Civic, Accords, CR-Vs). My wife is 5\\'2\" and she barely able to view over the hood. Passenger also do need to feel confident when being driven around and difficulty seeing the front makes the experience uncomfortable. I am getting a raised seat cushion for my wife!', \"My wife is usually in the passenger seat and doesn't like sitting higher than me the driver.  Would like height adjustment to lower the passenger seat.\", 'Not enough leg room', \"The passenger front seat only has a forward/back and recline feature-cannot raise or lower seat. Maybe it doesn't work?\", 'can adjust the height so it feels like you are sitting in a hole.', 'passenger side should have adjustments equal to driver side, height and lumber should be included'], ['It seems like on 2 of 3 that it barely gets warm', \"Seats do not get warm enough or stay warm when compared to other vehicles I've owed.\"], ['Ventilated seats are somewhat noisy', 'You can barely feel the cool air.  I have been in other brands of cars and the cool air blows a lot stronger and cools much faster.'], ['Leather seat contains ripples', 'Poor stretch and stiching'], ['Material does not seem durable enough', 'The seat materials are easily creased and any food or drink seem to be difficult to clean.']]}, {'ageBucket': '65-69', 'problem': ['SEAT04: Seats have insufficient range of adjustment', 'SEAT15: Seat belt uncomfortable', 'INFO20: Not enough power plugs/USB ports', 'SEAT23: Seat materials scuff/soil easily', 'SEAT22: Seat material imperfection'], 'total': [8, 3, 3, 3, 3], 'responses': [['(Copied from SEAT97): Front passenger seat has no up down adjustment', '(Copied from SEAT97): Front passenger seat needs a height adjustment', '(Copied from SEAT97): I wish the passenger seat had hieght adjustment.', '(Copied from SEAT97): The passenger seat does not height adjust', 'I feel like the seats are to reclined from the build out and it makes the seat angled down on your buttocks making it difficult to get out .', \"The 2023 Ridgeline driver's seat does not raise up high enough for my body style (thin).  This is my third Ridgeline since 2006 and the earlier models had adequate height adjustment for my body style.\", 'driver seat will adjust up put it also goes clposer to dash', \"the passenger seat can only be adjusted forwarded or backwards.  The driver's seat is limited with height and forward and backwards.  If you are tall, this is a problem.\"], ['(Copied from SEAT97): front seat belts the sholder harness cuts the neck area', 'it cuts across my lower throat, it should be adjustable to lower it to chest heigth', 'too tight'], ['More USB ports for multiple devices and people, rear seat mainly.', 'None in the backseat', 'Would like the rear seat to come standard with USB ports on the basic model.  Not just the upper models.'], ['Prefer leather to suede, in part because it is easier to clean.', 'White seats suede hold too much dirt', 'the seat material seems to pick up dry skin particles easily'], ['Front passenger seat cover (leather) was not attached properly.  Flaps came out during our first trip.  Took it back ti the dealer who fixed it and said that it had never been attached at the factory.', 'I bought a \"new\" 2023 Ridgeline that had 421 miles on it.  Dealer advised it had to be driven long distance to the dealer.  When I went to sit in the vehicle, the driver\\'s seat was at the lowest position, and it appeared to have wrinkles in the leather.  Then I found that the seat did not raise up as higher than my previous Ridgelines.  Not sure why the seat is different than before but it is.', 'The side seat bolsters on both driver and passenger have wrinkly finish and not snug.']]}, {'ageBucket': '>=70', 'problem': ['SEAT04: Seats have insufficient range of adjustment', 'SEAT18: Seat - Excessively uncomfortable', 'SEAT97: Other Seat Problem(s)', 'SEAT15: Seat belt uncomfortable', 'SEAT03: Seat adjustment - Controls DTU'], 'total': [29, 9, 8, 6, 6], 'responses': [['(Copied from INT97): Passenger seat too low and cannot be raised.', '(Copied from SEAT97): Passanger seat has no height adjustment', '(Copied from SEAT97): Wish I would have researched more on passenger seat with no height adjustment. My wife will not ride in that seat,  to low.  She drives I ride.', \"Can't  see over the hood\", 'DRIVER SEATING DOES NOT HAVE ENOUGH LEG ROOM FOR LONG LEGGED DRIVER', 'Difficult to get it just right', 'Driver and passenger seat does not go high enough.', 'Even after sliding the second row seat back there is still not enough room between the second row and the drivers seat.', 'Feels like sitting on ground because seat height cannot be adjusted. Wife 5’4 especially difficult time feeling comfortable in passenger seat .', 'Front passenger seat cannot be raised so passenger view view forward and sideward is blocked. Had to purchase a booster seat.', 'Front seats height adjustment does not go high enough for me or my wife.', 'I am the driver and am 5’8”, my wife is 5’3””.  I find the rear adjustment too little to comfortly leave the van. My wife has great difficulty lining up with the seat when entering the van.  Her seat having no up or down adjstment makes entering the car painful as she has to reach the handle above the door to pull herself up to the seat.', 'I would have liked to have full power passenger seats.  Height adjustment range of driver seat could be better.', 'I would like to sit higher than the seat adjustment permits. I and front seat passengers use a pillow to provide additional height', \"I'm 5ft 7inches.  Would like a little more height adjustment foe visibility\", 'No height adjustment available.', 'Occupants are average size adults.  The driver and passenger seats to not move far enough back to provide the most comfortable leg room, and the height adjustment does not seem to work independently from the for/aft adjustment.', 'Passenger seat is too damn low.  Same as my 2020 Civic', 'SEAT IS VERY LOW AND CANNOT BE ADJUSTED UP', 'Short people have problems with the limited range of adjustments.  Seat belts are uncomfortable for them.', 'The passenger seat needs to have the same adjustments the drivers seat has.', 'There is little tilt in the front seats giving a flat short seat that is uncomfortable on long drives', \"Tilt is insufficient to take pressure off just behind and under my knee. Seat is also too deep in length and at butt.. Sufficient height can't be acheived.\", 'Wife needs to use a cushion when driving . Seat is too low for her. She is 5’1” . Passenger seat sits too low for her; it is also too low for me and I’m 6 foot. There is no adjustment . Electric seat adjustments should be standard .', 'Wish front passenger seat had full range as drivers seat', 'Would like to have more rearward range, and without lowering seat as well.', 'cannot move the seat far enough for my convenience.', \"driver's seat does not adjust high enough for my 5ft 2in wife. (Copied from SEAT97): drivers seat and steering wheel not aligned which becomes a problem when you are short and need to sit close up to the wheel..\", 'no height or lumbar adjustment'], ['(Copied from INT97): Front seats hard not soft enough', '(Copied from INT97): Lumbar seating preferred due to comfort on longer rides.', 'Driver seat on this van and three previously owned, have too little support towards back portion of seat. Feels like a ‘hole’ developes. Needs more support. .', 'Driver seat too long and too raised aat under knee area. Butt area too deep.', \"Just completed a 4 hr drive. Sets in our HRV are better by far and these seats don't compare to my 2020 accord for comfort\", 'Seat is too firm snd low quality', 'The front seats are too short for legs and will not move up on the front. Too flat a seat.', 'The passenger front seat has no up or down height adjustment.  This results in my wife having great difficulty and shoulder pain  in entering and departing the van.  The front passenger seat has no armrest adjustment, its position is fixed and tied to the backrest angle.  In our case that results in the armrest being uncomfortable and useless.', \"it's like sitting on a piece of plywood no cushioning at all\"], ['(Copied from FCD97): On initial start and drive the seat belt display stays on an excessively long time even when the belts are latched immediately on start', '(Copied from INT97): Seat belt hard to snap in. Too short, or in wrong position / location.', '(Copied from INT97): Seat belt hard to use', '(Copied from INT97): The seat bottom fabric is not tacked down at the bottom of the seat near the console on one of the front seats.', '(Copied from INT97): leather seat bottoms seem to be stretching out leaving a valley', 'Seat belt buckle in the front seats are hard to get to for fastening the seat belt  Need extenders!', 'So when someone sits in the front passenger seat and gets out of the car it seems that the software thinks they are still seated and the seatbelt warning starts to ding.  I have had to reach across while driving to plug in the seat belt even tho no one is sitting there.', 'difficult to reach back/grasp belt behind me.'], ['Belt for a short person on front passenger side rides too high, along the neck of the passenger.', 'Difficult to latch up before taking off', 'Hard to click in. Hard to reach.', 'Seat belts are to low to latch. I purchased seat belt extensions for all seats on all my Odysseys. This 2023 latch is the lowest.', 'belt usually is on my neck', 'difficult to reach/grasp from tetracted position. cuts across neck when buckled.'], ['Both the front driver’s and passenger’s front seats have too limited adjustment ranges.', 'For whatever reason, it took me awhile to easily get the second row seats to in a flat position. I now know how to do it.', 'I titled the seat back to grab a nap. It took me a while to realize there were two levers.', 'Overerly complicated', 'The passenger is unable to adjust the height of the seat', 'the front passenger seat controls are limited and do not provide sufficient comfort for different size incividuals.']]}]]\n",
      "            \n",
      "Final Response:\n",
      "- **Age 55-59:**\n",
      "  - Insufficient range of seat adjustment\n",
      "  - Not enough power plugs/USB ports\n",
      "  - Seats excessively uncomfortable\n",
      "  - Seats squeak/rattle/loose/abnormal noises\n",
      "  - Other seat problems\n",
      "\n",
      "- **Age 60-64:**\n",
      "  - Insufficient range of seat adjustment\n",
      "  - Heated seats do not heat fast enough/maintain temperature\n",
      "  - Cooled/ventilated seats do not cool fast enough/maintain temperature/excessively noisy\n",
      "  - Seat material imperfection\n",
      "  - Seat materials scuff/soil easily\n",
      "\n",
      "- **Age 65-69:**\n",
      "  - Insufficient range of seat adjustment\n",
      "  - Seat belt uncomfortable\n",
      "  - Not enough power plugs/USB ports\n",
      "  - Seat materials scuff/soil easily\n",
      "  - Seat material imperfection\n",
      "\n",
      "- **Age >=70:**\n",
      "  - Insufficient range of seat adjustment\n",
      "  - Seats excessively uncomfortable\n",
      "  - Other seat problems\n",
      "  - Seat belt uncomfortable\n",
      "  - Seat adjustment controls difficult to use\n",
      "        \n"
     ]
    }
   ],
   "source": [
    "res.get(\"agent_outcome\").display()"
   ]
  },
  {
   "cell_type": "code",
   "execution_count": 16,
   "metadata": {},
   "outputs": [
    {
     "data": {
      "text/markdown": [
       "- **Age 55-59:**\n",
       "  - Insufficient range of seat adjustment\n",
       "  - Not enough power plugs/USB ports\n",
       "  - Seats excessively uncomfortable\n",
       "  - Seats squeak/rattle/loose/abnormal noises\n",
       "  - Other seat problems\n",
       "\n",
       "- **Age 60-64:**\n",
       "  - Insufficient range of seat adjustment\n",
       "  - Heated seats do not heat fast enough/maintain temperature\n",
       "  - Cooled/ventilated seats do not cool fast enough/maintain temperature/excessively noisy\n",
       "  - Seat material imperfection\n",
       "  - Seat materials scuff/soil easily\n",
       "\n",
       "- **Age 65-69:**\n",
       "  - Insufficient range of seat adjustment\n",
       "  - Seat belt uncomfortable\n",
       "  - Not enough power plugs/USB ports\n",
       "  - Seat materials scuff/soil easily\n",
       "  - Seat material imperfection\n",
       "\n",
       "- **Age >=70:**\n",
       "  - Insufficient range of seat adjustment\n",
       "  - Seats excessively uncomfortable\n",
       "  - Other seat problems\n",
       "  - Seat belt uncomfortable\n",
       "  - Seat adjustment controls difficult to use"
      ],
      "text/plain": [
       "<IPython.core.display.Markdown object>"
      ]
     },
     "metadata": {},
     "output_type": "display_data"
    }
   ],
   "source": [
    "print_markdown(res.get(\"agent_outcome\").answer)"
   ]
  },
  {
   "cell_type": "code",
   "execution_count": 17,
   "metadata": {},
   "outputs": [],
   "source": [
    "%%capture\n",
    "res = agent.invoke({\"input\": \"Please summarize the verbatims for 2023 RDX for question 010 Trunk/TG Touch-Free Sensor DTU and create categories for the problems. As an output, I want the summary, corresponding categories and their verbatims\", \"chat_history\": list()})"
   ]
  },
  {
   "cell_type": "code",
   "execution_count": 18,
   "metadata": {},
   "outputs": [
    {
     "name": "stdout",
     "output_type": "stream",
     "text": [
      "\n",
      "Question:\n",
      "Please summarize the verbatims for 2023 RDX for question 010 Trunk/TG Touch-Free Sensor DTU and create categories for the problems. As an output, I want the summary, corresponding categories and their verbatims\n",
      "\n",
      "Sub Questions:\n",
      "Summarize the verbatims for 2023 RDX for question 010 Trunk/TG Touch-Free Sensor DTU and create categories for the problems. Provide the summary, corresponding categories, and their verbatims.\n",
      "\n",
      "            \n",
      "Cypher:\n",
      "cypher\n",
      "MATCH (q:Question{id: 10})<-[:HAS_QUESTION]-(v:Verbatim)\n",
      "WHERE v.model = 'RDX' AND v.verbatimText IS NOT NULL\n",
      "WITH v, COLLECT(v.verbatim) AS verbatims\n",
      "MATCH (v)-[:HAS_CATEGORY]->(c:Category)\n",
      "RETURN c.id AS category, verbatims\n",
      "\n",
      "\n",
      "\n",
      "\n",
      "Cypher Result:\n",
      "[[{'category': 'Exterior', 'verbatims': ['when I move my foot under sensor sometimes the tailgate opens and sometimes it does not. It seems to be hit or miss.']}, {'category': 'Exterior', 'verbatims': ['foot release does not work consistently']}, {'category': 'Exterior', 'verbatims': ['At times, the leg action does not close the tailgate.  Other times, when i am loading/unloading the trunk and have my feet under the vehicle, the tailgate closes.']}, {'category': 'Exterior', 'verbatims': ['My wife and I have not found a consistent place to activate the sensor. We move our feet all along the rear of the car and sometimes it opens others it doesn’t.']}, {'category': 'Exterior', 'verbatims': ['this feature doesnt work consistently']}, {'category': 'Exterior', 'verbatims': ['Using my leg to open the back tailgate had not been reliable.']}, {'category': 'Exterior', 'verbatims': ['Haven’t been able to get this feature to work consistently.']}, {'category': 'Exterior', 'verbatims': ['sensor to open tailgate with foot does not work a good amount of the time']}, {'category': 'Exterior', 'verbatims': [\"Hatch touch-free sensor doesn't work consistently.  Perhaps a marking in sight would help indicate where the sensor is located.\"]}, {'category': 'Exterior', 'verbatims': ['When placing my foot under the sensor, it does not open/close. If it read a larger area it would be easier to use! Otherwise I use the button']}, {'category': 'Exterior', 'verbatims': ['Wave foot under sensor multiple times and unable to open.']}, {'category': 'Exterior', 'verbatims': ['I can’t figure out this feature.']}, {'category': 'Exterior', 'verbatims': [\"Trunck/hatch/tailgate touch free sensor doesn't work consistently. I have to continually place my foot under the tailgate to activate. Sometimes it doesn't activate so I use the tailgate button to open.\"]}, {'category': 'Exterior', 'verbatims': ['Sometimes it just does not work.']}, {'category': 'Exterior', 'verbatims': ['My foot underneath doesn’t always open the trunk. I sometimes have to hit the button in order for it to open.']}, {'category': 'Exterior', 'verbatims': ['Putting your foot under the back of the trunk only opens the lift gate 50% of the time']}, {'category': 'Exterior', 'verbatims': ['Touch free sensor doesn’t seem to be responsive. I’ve had to wave my foot around it three or four times and after a four second delay, it triggers the mechanism to open the hatch']}, {'category': 'Exterior', 'verbatims': ['When I kick under the tail gate there ocassions when it doesn’t open']}, {'category': 'Exterior', 'verbatims': [\"doesn't work\"]}, {'category': 'Exterior', 'verbatims': ['Works some times']}, {'category': 'Exterior', 'verbatims': ['Hard to locate it and it takes several times to get it to work']}, {'category': 'Exterior', 'verbatims': [\"The location of the latch.  You have to be precise in touching the latch or it won't open.\"]}, {'category': 'Exterior', 'verbatims': ['Getting used to using this feature. I may not have my foot in the correct location to activate the hatch.']}]]\n",
      "            \n",
      "Final Response:\n",
      "**Summary:**\n",
      "\n",
      "Many users report that the touch-free tailgate sensor on the 2023 RDX does not work consistently. They often have difficulty locating the sensor, and even when they do, it frequently requires multiple attempts to activate. Some suggest that a larger detection area or a visual marker could improve usability.\n",
      "\n",
      "**Categories and Verbatims:**\n",
      "\n",
      "- **Inconsistent Operation:**\n",
      "  - \"when I move my foot under sensor sometimes the tailgate opens and sometimes it does not. It seems to be hit or miss.\"\n",
      "  - \"foot release does not work consistently\"\n",
      "  - \"this feature doesnt work consistently\"\n",
      "  - \"Haven’t been able to get this feature to work consistently.\"\n",
      "  - \"sensor to open tailgate with foot does not work a good amount of the time\"\n",
      "  - \"Using my leg to open the back tailgate had not been reliable.\"\n",
      "  - \"Sometimes it just does not work.\"\n",
      "  - \"My foot underneath doesn’t always open the trunk. I sometimes have to hit the button in order for it to open.\"\n",
      "  - \"Putting your foot under the back of the trunk only opens the lift gate 50% of the time\"\n",
      "  - \"Wave foot under sensor multiple times and unable to open.\"\n",
      "  - \"When I kick under the tail gate there ocassions when it doesn’t open\"\n",
      "  - \"Works some times\"\n",
      "  - \"Touch free sensor doesn’t seem to be responsive. I’ve had to wave my foot around it three or four times and after a four second delay, it triggers the mechanism to open the hatch\"\n",
      "  - \"When placing my foot under the sensor, it does not open/close. If it read a larger area it would be easier to use! Otherwise I use the button\"\n",
      "  - \"doesn't work\"\n",
      "\n",
      "- **Difficulty Locating Sensor:**\n",
      "  - \"My wife and I have not found a consistent place to activate the sensor. We move our feet all along the rear of the car and sometimes it opens others it doesn’t.\"\n",
      "  - \"Hatch touch-free sensor doesn't work consistently. Perhaps a marking in sight would help indicate where the sensor is located.\"\n",
      "  - \"Hard to locate it and it takes several times to get it to work\"\n",
      "  - \"The location of the latch. You have to be precise in touching the latch or it won't open.\"\n",
      "  - \"Getting used to using this feature. I may not have my foot in the correct location to activate the hatch.\"\n",
      "  - \"I can’t figure out this feature.\"\n",
      "  - \"Trunck/hatch/tailgate touch free sensor doesn't work consistently. I have to continually place my foot under the tailgate to activate. Sometimes it doesn't activate so I use the tailgate button to open.\"\n",
      "        \n"
     ]
    }
   ],
   "source": [
    "res.get(\"agent_outcome\").display()"
   ]
  },
  {
   "cell_type": "code",
   "execution_count": 19,
   "metadata": {},
   "outputs": [
    {
     "data": {
      "text/markdown": [
       "**Summary:**\n",
       "\n",
       "Many users report that the touch-free tailgate sensor on the 2023 RDX does not work consistently. They often have difficulty locating the sensor, and even when they do, it frequently requires multiple attempts to activate. Some suggest that a larger detection area or a visual marker could improve usability.\n",
       "\n",
       "**Categories and Verbatims:**\n",
       "\n",
       "- **Inconsistent Operation:**\n",
       "  - \"when I move my foot under sensor sometimes the tailgate opens and sometimes it does not. It seems to be hit or miss.\"\n",
       "  - \"foot release does not work consistently\"\n",
       "  - \"this feature doesnt work consistently\"\n",
       "  - \"Haven’t been able to get this feature to work consistently.\"\n",
       "  - \"sensor to open tailgate with foot does not work a good amount of the time\"\n",
       "  - \"Using my leg to open the back tailgate had not been reliable.\"\n",
       "  - \"Sometimes it just does not work.\"\n",
       "  - \"My foot underneath doesn’t always open the trunk. I sometimes have to hit the button in order for it to open.\"\n",
       "  - \"Putting your foot under the back of the trunk only opens the lift gate 50% of the time\"\n",
       "  - \"Wave foot under sensor multiple times and unable to open.\"\n",
       "  - \"When I kick under the tail gate there ocassions when it doesn’t open\"\n",
       "  - \"Works some times\"\n",
       "  - \"Touch free sensor doesn’t seem to be responsive. I’ve had to wave my foot around it three or four times and after a four second delay, it triggers the mechanism to open the hatch\"\n",
       "  - \"When placing my foot under the sensor, it does not open/close. If it read a larger area it would be easier to use! Otherwise I use the button\"\n",
       "  - \"doesn't work\"\n",
       "\n",
       "- **Difficulty Locating Sensor:**\n",
       "  - \"My wife and I have not found a consistent place to activate the sensor. We move our feet all along the rear of the car and sometimes it opens others it doesn’t.\"\n",
       "  - \"Hatch touch-free sensor doesn't work consistently. Perhaps a marking in sight would help indicate where the sensor is located.\"\n",
       "  - \"Hard to locate it and it takes several times to get it to work\"\n",
       "  - \"The location of the latch. You have to be precise in touching the latch or it won't open.\"\n",
       "  - \"Getting used to using this feature. I may not have my foot in the correct location to activate the hatch.\"\n",
       "  - \"I can’t figure out this feature.\"\n",
       "  - \"Trunck/hatch/tailgate touch free sensor doesn't work consistently. I have to continually place my foot under the tailgate to activate. Sometimes it doesn't activate so I use the tailgate button to open.\""
      ],
      "text/plain": [
       "<IPython.core.display.Markdown object>"
      ]
     },
     "metadata": {},
     "output_type": "display_data"
    }
   ],
   "source": [
    "print_markdown(res.get(\"agent_outcome\").answer)"
   ]
  },
  {
   "cell_type": "code",
   "execution_count": 20,
   "metadata": {},
   "outputs": [],
   "source": [
    "%%capture\n",
    "res = agent.invoke({\"input\": \"What are the top 5 problems about seats for each age buckets for men over the age of 53?\", \"chat_history\": []})"
   ]
  },
  {
   "cell_type": "code",
   "execution_count": 21,
   "metadata": {},
   "outputs": [
    {
     "name": "stdout",
     "output_type": "stream",
     "text": [
      "\n",
      "Question:\n",
      "What are the top 5 problems about seats for each age buckets for men over the age of 53?\n",
      "\n",
      "Sub Questions:\n",
      "What are the top 5 problems about seats for each age buckets for men over the age of 53?\n",
      "\n",
      "            \n",
      "Cypher:\n",
      "\n",
      "MATCH (v:Verbatim)-[:HAS_PROBLEM]->(p:Problem)\n",
      "WHERE toLower(v.verbatimText) CONTAINS 'seat' AND v.gender = \"Male\" AND v.minAge > 53\n",
      "WITH v.ageBucket AS ageBucket, p.problem AS problem, COLLECT(v.verbatim) AS responses\n",
      "WITH ageBucket, problem, SIZE(responses) AS total, responses\n",
      "WITH * ORDER BY ageBucket, total DESC\n",
      "WITH ageBucket, COLLECT(problem) AS problems, COLLECT(total) AS totals, COLLECT(responses) AS responsesList\n",
      "RETURN ageBucket, problems[..5] AS problem, totals[..5] AS total, responsesList[..5] AS reponses\n",
      "LIMIT 5\n",
      "\n",
      "\n",
      "\n",
      "\n",
      "Cypher Result:\n",
      "[[{'ageBucket': '55-59', 'problem': ['SEAT04: Seats have insufficient range of adjustment', 'INFO20: Not enough power plugs/USB ports', 'SEAT18: Seat - Excessively uncomfortable', 'SEAT17: Seat - Squeaks/rattles/loose/abnormal noises', 'SEAT97: Other Seat Problem(s)'], 'total': [4, 4, 4, 4, 3], 'reponses': [['Bottom seat cushion is on the short side. The end/length of the seat only reaches about 2inches shy of my knee making it uncomfortable on longer drives', 'I am 6 feet tall.. Not a good fit with longer legs', 'I’m 6’3”. A couple more inches of leg room would be nice.', 'Should have more front tilt range for me'], ['Come on guys?! In todays family-EVERYONE HAS A DEVICE THAT NEEDS CHARGING!!! There should be more conveniently place usb ports for every seat.', 'Could do with usb charging port for the back seats', 'Could use some in back seat.', 'It would be very helpful if the RTL model had plugs in the rear for passengers.  I do not believe it currently does.  Only the one/two on the dash and the ports in the center console, which are problematic for passengers to use from the back seat.'], ['Front and back passenger seats are not very comfortable for long drives', 'Hard seats, not comfortable at all.', 'Not enough padding, uncomfortable on longer trips', 'We had a 2011 odyssey, the seats were the most comfortable I have ever had in a vehicle.  The 2023 model has smaller, harder seats which are NOT comfortable like the earlier model.'], ['Rear passenger side seat squeaks when going over bumps.  If you collapse the seat the squeak goes away.  I am planning on taking it to the dealership so they can fix it.', 'Squeaks when exiting car.', 'The rattling  noise was coming from the inside of driver seat. Dealer fixed it having the seat removed, readjusted and tightened the loose seat part inside.', 'there is a squeak or rattle you hear when on bumpy road from the passenger side of the car.'], ['Missing the feature to adjust passanger seat height', 'No lumbar adjustment - needed.  Also, the armrest on the driver side is slopped toward the driver causing your arm to fall off.', 'both front seat belts make vibration/ rattling noises at the hight adjustment lever']]}, {'ageBucket': '60-64', 'problem': ['SEAT04: Seats have insufficient range of adjustment', 'SEAT09: Heated seats - Do not heat fast enough/maintain temperature', 'SEAT10: Cooled/ventilated seats - Do not cool fast enough/maintain temperature/excessively noisy', 'SEAT22: Seat material imperfection', 'SEAT23: Seat materials scuff/soil easily'], 'total': [8, 2, 2, 2, 2], 'reponses': [['How hard would it be to put a full range seat like the drivers seat in the front passenger seat?   Did i not already pay enough for the elite trim.level? (Copied from SEAT97): Front passenger height....cant adjust', \"I have a short torso, so I wish seat adjusted a little higher. I'm used to driving pick up trucks so it just feels I am sitting too low, but I'm getting used to it already.\", 'It is understandable that cost control is important to balance car design and sales. Having said that, it would seem that adding a height adjustment to the passenger seat should not be a big deal. Honda\\'s seat position tends to sit low (noticed this even on top-trim Civic, Accords, CR-Vs). My wife is 5\\'2\" and she barely able to view over the hood. Passenger also do need to feel confident when being driven around and difficulty seeing the front makes the experience uncomfortable. I am getting a raised seat cushion for my wife!', \"My wife is usually in the passenger seat and doesn't like sitting higher than me the driver.  Would like height adjustment to lower the passenger seat.\", 'Not enough leg room', \"The passenger front seat only has a forward/back and recline feature-cannot raise or lower seat. Maybe it doesn't work?\", 'can adjust the height so it feels like you are sitting in a hole.', 'passenger side should have adjustments equal to driver side, height and lumber should be included'], ['It seems like on 2 of 3 that it barely gets warm', \"Seats do not get warm enough or stay warm when compared to other vehicles I've owed.\"], ['Ventilated seats are somewhat noisy', 'You can barely feel the cool air.  I have been in other brands of cars and the cool air blows a lot stronger and cools much faster.'], ['Leather seat contains ripples', 'Poor stretch and stiching'], ['Material does not seem durable enough', 'The seat materials are easily creased and any food or drink seem to be difficult to clean.']]}, {'ageBucket': '65-69', 'problem': ['SEAT04: Seats have insufficient range of adjustment', 'SEAT15: Seat belt uncomfortable', 'INFO20: Not enough power plugs/USB ports', 'SEAT23: Seat materials scuff/soil easily', 'SEAT22: Seat material imperfection'], 'total': [8, 3, 3, 3, 3], 'reponses': [['(Copied from SEAT97): Front passenger seat has no up down adjustment', '(Copied from SEAT97): Front passenger seat needs a height adjustment', '(Copied from SEAT97): I wish the passenger seat had hieght adjustment.', '(Copied from SEAT97): The passenger seat does not height adjust', 'I feel like the seats are to reclined from the build out and it makes the seat angled down on your buttocks making it difficult to get out .', \"The 2023 Ridgeline driver's seat does not raise up high enough for my body style (thin).  This is my third Ridgeline since 2006 and the earlier models had adequate height adjustment for my body style.\", 'driver seat will adjust up put it also goes clposer to dash', \"the passenger seat can only be adjusted forwarded or backwards.  The driver's seat is limited with height and forward and backwards.  If you are tall, this is a problem.\"], ['(Copied from SEAT97): front seat belts the sholder harness cuts the neck area', 'it cuts across my lower throat, it should be adjustable to lower it to chest heigth', 'too tight'], ['More USB ports for multiple devices and people, rear seat mainly.', 'None in the backseat', 'Would like the rear seat to come standard with USB ports on the basic model.  Not just the upper models.'], ['Prefer leather to suede, in part because it is easier to clean.', 'White seats suede hold too much dirt', 'the seat material seems to pick up dry skin particles easily'], ['Front passenger seat cover (leather) was not attached properly.  Flaps came out during our first trip.  Took it back ti the dealer who fixed it and said that it had never been attached at the factory.', 'I bought a \"new\" 2023 Ridgeline that had 421 miles on it.  Dealer advised it had to be driven long distance to the dealer.  When I went to sit in the vehicle, the driver\\'s seat was at the lowest position, and it appeared to have wrinkles in the leather.  Then I found that the seat did not raise up as higher than my previous Ridgelines.  Not sure why the seat is different than before but it is.', 'The side seat bolsters on both driver and passenger have wrinkly finish and not snug.']]}, {'ageBucket': '>=70', 'problem': ['SEAT04: Seats have insufficient range of adjustment', 'SEAT18: Seat - Excessively uncomfortable', 'SEAT97: Other Seat Problem(s)', 'SEAT15: Seat belt uncomfortable', 'SEAT03: Seat adjustment - Controls DTU'], 'total': [29, 9, 8, 6, 6], 'reponses': [['(Copied from INT97): Passenger seat too low and cannot be raised.', '(Copied from SEAT97): Passanger seat has no height adjustment', '(Copied from SEAT97): Wish I would have researched more on passenger seat with no height adjustment. My wife will not ride in that seat,  to low.  She drives I ride.', \"Can't  see over the hood\", 'DRIVER SEATING DOES NOT HAVE ENOUGH LEG ROOM FOR LONG LEGGED DRIVER', 'Difficult to get it just right', 'Driver and passenger seat does not go high enough.', 'Even after sliding the second row seat back there is still not enough room between the second row and the drivers seat.', 'Feels like sitting on ground because seat height cannot be adjusted. Wife 5’4 especially difficult time feeling comfortable in passenger seat .', 'Front passenger seat cannot be raised so passenger view view forward and sideward is blocked. Had to purchase a booster seat.', 'Front seats height adjustment does not go high enough for me or my wife.', 'I am the driver and am 5’8”, my wife is 5’3””.  I find the rear adjustment too little to comfortly leave the van. My wife has great difficulty lining up with the seat when entering the van.  Her seat having no up or down adjstment makes entering the car painful as she has to reach the handle above the door to pull herself up to the seat.', 'I would have liked to have full power passenger seats.  Height adjustment range of driver seat could be better.', 'I would like to sit higher than the seat adjustment permits. I and front seat passengers use a pillow to provide additional height', \"I'm 5ft 7inches.  Would like a little more height adjustment foe visibility\", 'No height adjustment available.', 'Occupants are average size adults.  The driver and passenger seats to not move far enough back to provide the most comfortable leg room, and the height adjustment does not seem to work independently from the for/aft adjustment.', 'Passenger seat is too damn low.  Same as my 2020 Civic', 'SEAT IS VERY LOW AND CANNOT BE ADJUSTED UP', 'Short people have problems with the limited range of adjustments.  Seat belts are uncomfortable for them.', 'The passenger seat needs to have the same adjustments the drivers seat has.', 'There is little tilt in the front seats giving a flat short seat that is uncomfortable on long drives', \"Tilt is insufficient to take pressure off just behind and under my knee. Seat is also too deep in length and at butt.. Sufficient height can't be acheived.\", 'Wife needs to use a cushion when driving . Seat is too low for her. She is 5’1” . Passenger seat sits too low for her; it is also too low for me and I’m 6 foot. There is no adjustment . Electric seat adjustments should be standard .', 'Wish front passenger seat had full range as drivers seat', 'Would like to have more rearward range, and without lowering seat as well.', 'cannot move the seat far enough for my convenience.', \"driver's seat does not adjust high enough for my 5ft 2in wife. (Copied from SEAT97): drivers seat and steering wheel not aligned which becomes a problem when you are short and need to sit close up to the wheel..\", 'no height or lumbar adjustment'], ['(Copied from INT97): Front seats hard not soft enough', '(Copied from INT97): Lumbar seating preferred due to comfort on longer rides.', 'Driver seat on this van and three previously owned, have too little support towards back portion of seat. Feels like a ‘hole’ developes. Needs more support. .', 'Driver seat too long and too raised aat under knee area. Butt area too deep.', \"Just completed a 4 hr drive. Sets in our HRV are better by far and these seats don't compare to my 2020 accord for comfort\", 'Seat is too firm snd low quality', 'The front seats are too short for legs and will not move up on the front. Too flat a seat.', 'The passenger front seat has no up or down height adjustment.  This results in my wife having great difficulty and shoulder pain  in entering and departing the van.  The front passenger seat has no armrest adjustment, its position is fixed and tied to the backrest angle.  In our case that results in the armrest being uncomfortable and useless.', \"it's like sitting on a piece of plywood no cushioning at all\"], ['(Copied from FCD97): On initial start and drive the seat belt display stays on an excessively long time even when the belts are latched immediately on start', '(Copied from INT97): Seat belt hard to snap in. Too short, or in wrong position / location.', '(Copied from INT97): Seat belt hard to use', '(Copied from INT97): The seat bottom fabric is not tacked down at the bottom of the seat near the console on one of the front seats.', '(Copied from INT97): leather seat bottoms seem to be stretching out leaving a valley', 'Seat belt buckle in the front seats are hard to get to for fastening the seat belt  Need extenders!', 'So when someone sits in the front passenger seat and gets out of the car it seems that the software thinks they are still seated and the seatbelt warning starts to ding.  I have had to reach across while driving to plug in the seat belt even tho no one is sitting there.', 'difficult to reach back/grasp belt behind me.'], ['Belt for a short person on front passenger side rides too high, along the neck of the passenger.', 'Difficult to latch up before taking off', 'Hard to click in. Hard to reach.', 'Seat belts are to low to latch. I purchased seat belt extensions for all seats on all my Odysseys. This 2023 latch is the lowest.', 'belt usually is on my neck', 'difficult to reach/grasp from tetracted position. cuts across neck when buckled.'], ['Both the front driver’s and passenger’s front seats have too limited adjustment ranges.', 'For whatever reason, it took me awhile to easily get the second row seats to in a flat position. I now know how to do it.', 'I titled the seat back to grab a nap. It took me a while to realize there were two levers.', 'Overerly complicated', 'The passenger is unable to adjust the height of the seat', 'the front passenger seat controls are limited and do not provide sufficient comfort for different size incividuals.']]}]]\n",
      "            \n",
      "Final Response:\n",
      "- **55-59 Age Bucket:**\n",
      "  - Seats have insufficient range of adjustment\n",
      "  - Not enough power plugs/USB ports\n",
      "  - Seat excessively uncomfortable\n",
      "  - Seat squeaks/rattles/loose/abnormal noises\n",
      "  - Other seat problems\n",
      "\n",
      "- **60-64 Age Bucket:**\n",
      "  - Seats have insufficient range of adjustment\n",
      "  - Heated seats do not heat fast enough/maintain temperature\n",
      "  - Cooled/ventilated seats do not cool fast enough/maintain temperature/excessively noisy\n",
      "  - Seat material imperfection\n",
      "  - Seat materials scuff/soil easily\n",
      "\n",
      "- **65-69 Age Bucket:**\n",
      "  - Seats have insufficient range of adjustment\n",
      "  - Seat belt uncomfortable\n",
      "  - Not enough power plugs/USB ports\n",
      "  - Seat materials scuff/soil easily\n",
      "  - Seat material imperfection\n",
      "\n",
      "- **70 and Above Age Bucket:**\n",
      "  - Seats have insufficient range of adjustment\n",
      "  - Seat excessively uncomfortable\n",
      "  - Other seat problems\n",
      "  - Seat belt uncomfortable\n",
      "  - Seat adjustment controls difficult to use\n",
      "        \n"
     ]
    }
   ],
   "source": [
    "res.get(\"agent_outcome\").display()"
   ]
  },
  {
   "cell_type": "code",
   "execution_count": 22,
   "metadata": {},
   "outputs": [
    {
     "data": {
      "text/markdown": [
       "- **55-59 Age Bucket:**\n",
       "  - Seats have insufficient range of adjustment\n",
       "  - Not enough power plugs/USB ports\n",
       "  - Seat excessively uncomfortable\n",
       "  - Seat squeaks/rattles/loose/abnormal noises\n",
       "  - Other seat problems\n",
       "\n",
       "- **60-64 Age Bucket:**\n",
       "  - Seats have insufficient range of adjustment\n",
       "  - Heated seats do not heat fast enough/maintain temperature\n",
       "  - Cooled/ventilated seats do not cool fast enough/maintain temperature/excessively noisy\n",
       "  - Seat material imperfection\n",
       "  - Seat materials scuff/soil easily\n",
       "\n",
       "- **65-69 Age Bucket:**\n",
       "  - Seats have insufficient range of adjustment\n",
       "  - Seat belt uncomfortable\n",
       "  - Not enough power plugs/USB ports\n",
       "  - Seat materials scuff/soil easily\n",
       "  - Seat material imperfection\n",
       "\n",
       "- **70 and Above Age Bucket:**\n",
       "  - Seats have insufficient range of adjustment\n",
       "  - Seat excessively uncomfortable\n",
       "  - Other seat problems\n",
       "  - Seat belt uncomfortable\n",
       "  - Seat adjustment controls difficult to use"
      ],
      "text/plain": [
       "<IPython.core.display.Markdown object>"
      ]
     },
     "metadata": {},
     "output_type": "display_data"
    }
   ],
   "source": [
    "print_markdown(res.get(\"agent_outcome\").answer)"
   ]
  }
 ],
 "metadata": {
  "kernelspec": {
   "display_name": "ps-genai-agents-lVTtXIGJ-py3.12",
   "language": "python",
   "name": "python3"
  },
  "language_info": {
   "codemirror_mode": {
    "name": "ipython",
    "version": 3
   },
   "file_extension": ".py",
   "mimetype": "text/x-python",
   "name": "python",
   "nbconvert_exporter": "python",
   "pygments_lexer": "ipython3",
   "version": "3.12.3"
  }
 },
 "nbformat": 4,
 "nbformat_minor": 2
}
