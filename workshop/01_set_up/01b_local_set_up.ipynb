{
 "cells": [
  {
   "cell_type": "markdown",
   "metadata": {},
   "source": [
    "# Professional Services Retreat | GenAI Workshop"
   ]
  },
  {
   "cell_type": "markdown",
   "metadata": {},
   "source": [
    "## Background\n",
    "\n",
    "This workshop is based on the `ps-genai-agents` internal project. `ps-genai-agents` refactors and builds on the work done for the Honda GenAI POC and aims to develop LLM agents that are able to work with a variety of datasets. \n",
    "\n",
    "These agents are built using the `LangGraph` library which lets us define workflows within a graph architecture. These workflows may contain a variety of retrieval tools such as vector search and Text2Cypher. We may also implement tools for tasks such as generating charts or domain-specific word look ups.\n",
    "\n",
    "You can find the project on GitHub [here](https://github.com/neo4j-field/ps-genai-agents)"
   ]
  },
  {
   "cell_type": "markdown",
   "metadata": {},
   "source": [
    "## Dependency Set Up\n",
    "\n",
    "In order to run the code in this workshop we will have to install `Python 3.10` or greater and `Poetry` to manage our dependencies. We also use `Graphviz` to visualize our agent architecture. While this isn't required, it's useful in understanding how agents work.\n",
    "\n",
    "*If possible we recommend avoiding Python 3.12 due to it causing a LangChain error in some notebooks.*"
   ]
  },
  {
   "cell_type": "markdown",
   "metadata": {},
   "source": [
    "### Python\n",
    "\n",
    "We'll need `Python` $\\ge$ 3.10 to run the project.\n",
    "\n",
    "To install `Python` click on this [link](https://www.python.org/downloads/) and follow the instructions on the page."
   ]
  },
  {
   "cell_type": "markdown",
   "metadata": {},
   "source": [
    "### Poetry\n",
    "\n",
    "This project uses `Poetry` to manage dependencies. \n",
    "\n",
    "You can find the install instructions [here](https://python-poetry.org/docs/#installing-with-pipx)"
   ]
  },
  {
   "cell_type": "markdown",
   "metadata": {},
   "source": [
    "### Graphviz [Optional]\n",
    "\n",
    "`Graphviz` is optional and only required to visualize the graph architecture. We won't need it in this workshop, but we use it to visualize agents in the `ps-genai-agents` project.\n",
    "\n",
    "You can find install instructions [here](https://graphviz.org/download/)\n",
    "\n",
    "Once installed we can install the `Python` package `pygraphviz`. \n",
    "\n",
    "For Mac we can run the following command from the Terminal: (Assumes `Poetry` installed)\n",
    "\n",
    "```\n",
    "poetry run python3 -m pip install -U --no-cache-dir  \\\n",
    "            --config-settings=\"--global-option=build_ext\" \\\n",
    "            --config-settings=\"--global-option=-I$(brew --prefix graphviz)/include/\" \\\n",
    "            --config-settings=\"--global-option=-L$(brew --prefix graphviz)/lib/\" \\\n",
    "            pygraphviz\n",
    "```\n",
    "\n",
    "For Windows / Linux - you'll have to do some research on how to properly install this. `¯\\_(ツ)_/¯`"
   ]
  },
  {
   "cell_type": "markdown",
   "metadata": {},
   "source": [
    "## Workshop Set Up\n",
    "\n",
    "Once we have `Python` and `Poetry` installed, we can install our project dependencies. \n",
    "\n",
    "Run either of the following from the command line to install dependencies to a `Poetry` managed virtual environment. \n",
    "\n",
    "```\n",
    "make workshop\n",
    "```\n",
    "\n",
    "OR \n",
    "\n",
    "```\n",
    "poetry config virtualenvs.in-project true\n",
    "poetry install --with ui\n",
    "```\n",
    "\n",
    "`ps-genai-agents` uses a `Makefile` to organize initialization, formatting and testing. Both of the above commands will perform the same function. \n",
    "\n",
    "If we don't receive any errors then we can continue to the next step."
   ]
  },
  {
   "cell_type": "markdown",
   "metadata": {},
   "source": [
    "## Known Bugs"
   ]
  },
  {
   "cell_type": "markdown",
   "metadata": {},
   "source": [
    "### Python 3.12 LangChain Bug\n",
    "* `recursive_guard` keyword argument missing error may occur when using Python 3.12. Currently the solution is to downgrade to Python 3.11."
   ]
  },
  {
   "cell_type": "markdown",
   "metadata": {},
   "source": []
  }
 ],
 "metadata": {
  "language_info": {
   "name": "python"
  }
 },
 "nbformat": 4,
 "nbformat_minor": 2
}
