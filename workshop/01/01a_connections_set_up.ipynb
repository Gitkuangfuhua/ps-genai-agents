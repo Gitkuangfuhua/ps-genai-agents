{
 "cells": [
  {
   "cell_type": "markdown",
   "metadata": {},
   "source": [
    "# Professional Services Retreat | GenAI Workshop"
   ]
  },
  {
   "cell_type": "markdown",
   "metadata": {},
   "source": [
    "## Background\n",
    "\n",
    "This workshop is based on the `ps-genai-agents` intenral project. `ps-genai-agents` refactors and builds on the work done for the Honda GenAI POC and aims to develop LLM agents that are able to work with a variety of datasets. \n",
    "\n",
    "These agents are built using the `LangGraph` library which lets us define workflows within a graph architecture. These workflows may contain a variety of retrieval tools such as vector search and Text2Cypher. We may also implement tools for tasks such as generating charts or domain-specific word look ups.\n",
    "\n",
    "You can find the project on GitHub [here](https://github.com/neo4j-field/ps-genai-agents)\n"
   ]
  },
  {
   "cell_type": "markdown",
   "metadata": {},
   "source": [
    "## .env File\n",
    "\n",
    "Ensure that you've place the provided `.env` file in the project root directory. This will allow the project to connect to both the IQS and Patient Journey Aura instances. It also contains an OpenAI API key that we will be using. This key will only be valid for the duration of the retreat."
   ]
  }
 ],
 "metadata": {
  "kernelspec": {
   "display_name": "ps-genai-agents-lVTtXIGJ-py3.12",
   "language": "python",
   "name": "python3"
  },
  "language_info": {
   "codemirror_mode": {
    "name": "ipython",
    "version": 3
   },
   "file_extension": ".py",
   "mimetype": "text/x-python",
   "name": "python",
   "nbconvert_exporter": "python",
   "pygments_lexer": "ipython3",
   "version": "3.12.3"
  }
 },
 "nbformat": 4,
 "nbformat_minor": 2
}
