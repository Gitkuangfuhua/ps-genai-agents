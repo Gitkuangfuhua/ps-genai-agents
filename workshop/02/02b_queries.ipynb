{
 "cells": [
  {
   "cell_type": "markdown",
   "metadata": {},
   "source": [
    "# Professional Services Retreat | GenAI Workshop"
   ]
  },
  {
   "cell_type": "markdown",
   "metadata": {},
   "source": [
    "# Queries"
   ]
  },
  {
   "cell_type": "markdown",
   "metadata": {},
   "source": [
    "Example query selection will make or break your Text2Cypher application. The examples must cover the scope of anticipated questions, while not being too numerous that they eat up the context window. They also must represent the significant nodes, relationships, properties and traversals related to the use cases.\n",
    "\n",
    "Here we will take a look at the queries we curated for the IQS Text2Cypher agent. These queries may be found in the [queries.yml](../../data/iqs/queries/queries.yml) file located at `data/iqs/queries/queries.yml`. \n",
    "\n",
    "You may also view the patient journey [queries.yml](../../data/patient_journey/queries/queries.yml) file at `data/patient_journey/queries/queries.yml`. "
   ]
  },
  {
   "cell_type": "markdown",
   "metadata": {},
   "source": [
    "## Imports"
   ]
  },
  {
   "cell_type": "code",
   "execution_count": 1,
   "metadata": {},
   "outputs": [],
   "source": [
    "import sys\n",
    "\n",
    "sys.path.append(\"../../\")\n",
    "from src.ps_genai_agents.prompts.queries import get_example_queries"
   ]
  },
  {
   "cell_type": "markdown",
   "metadata": {},
   "source": [
    "## First Example"
   ]
  },
  {
   "cell_type": "code",
   "execution_count": 2,
   "metadata": {},
   "outputs": [],
   "source": [
    "iqs_queries = get_example_queries(\"../../data/iqs/queries/queries.yml\")"
   ]
  },
  {
   "cell_type": "code",
   "execution_count": 6,
   "metadata": {},
   "outputs": [],
   "source": [
    "def pretty_print(query) -> None:\n",
    "    # we need double curley braces for injecting into a formatted string later. \n",
    "    # We can remove for this notebook example.\n",
    "    cql = query.get(\"assistant\").replace(\"{{\", \"{\")\n",
    "    cql = cql.replace(\"}}\", \"}\")\n",
    "    print(query.get(\"human\"), \"\\n\")\n",
    "    print(cql)"
   ]
  },
  {
   "cell_type": "markdown",
   "metadata": {},
   "source": [
    "We decided to include this query in the examples because it demonstrates a few concepts\n",
    "* **aggregation**: We are asking for a proportion to be calculated\n",
    "* **multiple filters**: We must filter on gender, complaint topic and vehicle type"
   ]
  },
  {
   "cell_type": "code",
   "execution_count": 7,
   "metadata": {},
   "outputs": [
    {
     "name": "stdout",
     "output_type": "stream",
     "text": [
      "What is the proportion of male to female complainants about cup holders in the Honda Odyssey? \n",
      "\n",
      "MATCH (v:Verbatim {make: \"Honda\", model: \"Odyssey\"})\n",
      "  WHERE v.verbatimText CONTAINS \"cup holder\"\n",
      "WITH SUM(COUNT {MATCH (v:Verbatim) WHERE v.gender = \"Male\" RETURN v}) AS males, \n",
      "     SUM(COUNT {MATCH (v:Verbatim) WHERE v.gender = \"Female\" RETURN v}) AS females\n",
      "RETURN males, females, toFloat(males) / (CASE WHEN females = 0 THEN 1 ELSE females END)  AS maleToFemale\n"
     ]
    }
   ],
   "source": [
    "pretty_print(iqs_queries[0])"
   ]
  },
  {
   "cell_type": "markdown",
   "metadata": {},
   "source": [
    "## Second Example"
   ]
  },
  {
   "cell_type": "markdown",
   "metadata": {},
   "source": [
    "We chose this query because it demostrates \n",
    "* **multiple filters**: We must filter on many properties\n",
    "* **null checks**: We only collect verbatims that are not empty\n",
    "* **UNION**: We must use UNION to gather male and female results\n",
    "* **COLLECT**: We must collect the verbatims into a list for future processing"
   ]
  },
  {
   "cell_type": "code",
   "execution_count": 8,
   "metadata": {},
   "outputs": [
    {
     "name": "stdout",
     "output_type": "stream",
     "text": [
      "How similar or different are the verbatims for males and females aged 30-34 for all Acura models? \n",
      "\n",
      "MATCH (v:Verbatim) \n",
      "WHERE v.gender = \"Male\" AND v.make = \"Acura\" AND v.minAge >= 30 AND v.maxAge <= 34 AND isEmpty(v.verbatim) = false\n",
      "WITH collect(v.verbatim) as content\n",
      "RETURN \"Male\" as gender, content LIMIT 50\n",
      "UNION\n",
      "MATCH (v:Verbatim) \n",
      "WHERE v.gender = \"Female\" AND v.make = \"Acura\" AND v.minAge >= 30 AND v.maxAge <= 34 AND isEmpty(v.verbatim) = false\n",
      "WITH collect(v.verbatim) as content\n",
      "RETURN \"Female\" as gender, content LIMIT 50\n"
     ]
    }
   ],
   "source": [
    "pretty_print(iqs_queries[-2])"
   ]
  },
  {
   "cell_type": "markdown",
   "metadata": {},
   "source": [
    "## Graph Exploration"
   ]
  },
  {
   "cell_type": "markdown",
   "metadata": {},
   "source": [
    "Explore the [queries.yml](../../data/iqs/queries/queries.yml) file and run these queries for yourself to get a feel for the data. \n",
    "\n",
    "Notice that we don't include simple queries for question such as \n",
    "* \"How many vehicle types are there?\"\n",
    "\n",
    "or\n",
    "* \"How many nodes are in the graph?\"\n",
    "\n",
    "The Cypher for these questions is simple and should be inferrable by more complicated examples provided to the LLM. \n",
    "\n",
    "You may test these simple queries later on and see that the Text2Cypher agent is capable of answering them just fine."
   ]
  }
 ],
 "metadata": {
  "kernelspec": {
   "display_name": "ps-genai-agents-lVTtXIGJ-py3.12",
   "language": "python",
   "name": "python3"
  },
  "language_info": {
   "codemirror_mode": {
    "name": "ipython",
    "version": 3
   },
   "file_extension": ".py",
   "mimetype": "text/x-python",
   "name": "python",
   "nbconvert_exporter": "python",
   "pygments_lexer": "ipython3",
   "version": "3.12.3"
  }
 },
 "nbformat": 4,
 "nbformat_minor": 2
}
