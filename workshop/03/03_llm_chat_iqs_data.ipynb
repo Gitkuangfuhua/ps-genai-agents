{
 "cells": [
  {
   "cell_type": "markdown",
   "metadata": {},
   "source": [
    "# Professional Services Retreat | GenAI Workshop"
   ]
  },
  {
   "cell_type": "markdown",
   "metadata": {},
   "source": [
    "# LLM Chat Notebook"
   ]
  },
  {
   "cell_type": "markdown",
   "metadata": {},
   "source": [
    "This notebook will walkthrough how to build a simple LLM chat function."
   ]
  },
  {
   "cell_type": "markdown",
   "metadata": {},
   "source": [
    "## Imports"
   ]
  },
  {
   "cell_type": "code",
   "execution_count": 1,
   "metadata": {},
   "outputs": [
    {
     "name": "stdout",
     "output_type": "stream",
     "text": [
      ".env variables loaded!\n"
     ]
    }
   ],
   "source": [
    "import os\n",
    "import sys\n",
    "\n",
    "sys.path.append(\"../../\")\n",
    "\n",
    "from dotenv import load_dotenv\n",
    "from langchain_openai import ChatOpenAI\n",
    "from langchain.chains import GraphCypherQAChain\n",
    "from langchain.chains.graph_qa.cypher import construct_schema\n",
    "from langchain.graphs import Neo4jGraph\n",
    "import json\n",
    "\n",
    "from src.ps_genai_agents.prompts import create_graphqa_chain_cypher_prompt, create_final_summary_prompt\n",
    "from src.ps_genai_agents.agents.graph.text2cypher.types.response import Response as Text2CypherResponse\n",
    "\n",
    "\n",
    "(\n",
    "    print(\".env variables loaded!\")\n",
    "    if load_dotenv()\n",
    "    else print(\"Unable to load .env variables.\")\n",
    ")"
   ]
  },
  {
   "cell_type": "markdown",
   "metadata": {},
   "source": [
    "## Graph Connection"
   ]
  },
  {
   "cell_type": "markdown",
   "metadata": {},
   "source": [
    "The LangChain `Neo4jGraph` class will be used to connect to our Aura instance. It will be used to gather the graph schema and read from the database."
   ]
  },
  {
   "cell_type": "code",
   "execution_count": 2,
   "metadata": {},
   "outputs": [],
   "source": [
    "graph = Neo4jGraph(\n",
    "    url=os.environ.get(\"IQS_NEO4J_URI\"),\n",
    "    username=os.environ.get(\"IQS_NEO4J_USERNAME\"),\n",
    "    password=os.environ.get(\"IQS_NEO4J_PASSWORD\"),\n",
    "    refresh_schema=True,\n",
    ")"
   ]
  },
  {
   "cell_type": "markdown",
   "metadata": {},
   "source": [
    "## Prompt Creation"
   ]
  },
  {
   "cell_type": "markdown",
   "metadata": {},
   "source": [
    "The `ps-genai-agents` project contains functions to create Text2Cypher prompts easily. Since we'll be using LangChain's implementation of Text2Cypher we will only need to provide a file path to our query examples yaml. "
   ]
  },
  {
   "cell_type": "code",
   "execution_count": 3,
   "metadata": {},
   "outputs": [],
   "source": [
    "cypher_prompt = create_graphqa_chain_cypher_prompt(examples_yaml_path=\"../../data/iqs/queries/queries.yml\")"
   ]
  },
  {
   "cell_type": "markdown",
   "metadata": {},
   "source": [
    "## LLM Connection"
   ]
  },
  {
   "cell_type": "markdown",
   "metadata": {},
   "source": [
    "We will use OpenAI LLMs for this workshop. You can try Text2Cypher with any LLM, but more recent LLMs will likely perform much better. Feel free to test older models such as `gpt-3.5` and compare results."
   ]
  },
  {
   "cell_type": "code",
   "execution_count": 4,
   "metadata": {},
   "outputs": [],
   "source": [
    "llm = ChatOpenAI(model=\"gpt-4o\")"
   ]
  },
  {
   "cell_type": "markdown",
   "metadata": {},
   "source": [
    "## Text2Cypher"
   ]
  },
  {
   "cell_type": "markdown",
   "metadata": {},
   "source": [
    "We will use LangChain's [`GraphCypherQAChain`](https://python.langchain.com/v0.1/docs/integrations/graphs/neo4j_cypher/) to handle our Text2Cypher workflow. This Chain class will automatically retrieve the current graph schema and validate the generated Cypher behind the scenes.\n",
    "\n",
    "A [chain](https://python.langchain.com/v0.1/docs/modules/chains/) refers to a sequence of calls. In this case these calls include the graph schema retrieval, Cypher generation and querying Neo4j."
   ]
  },
  {
   "cell_type": "code",
   "execution_count": 5,
   "metadata": {},
   "outputs": [],
   "source": [
    "chain = GraphCypherQAChain.from_llm(\n",
    "    llm,\n",
    "    graph=graph,\n",
    "    cypher_prompt=cypher_prompt,\n",
    "    verbose=True,\n",
    "    return_direct=True,\n",
    "    return_intermediate_steps=True,\n",
    ")"
   ]
  },
  {
   "cell_type": "markdown",
   "metadata": {},
   "source": [
    "We can see how the schema is formatted with the `GraphCypherQAChain` property `graph_schema`."
   ]
  },
  {
   "cell_type": "code",
   "execution_count": 6,
   "metadata": {},
   "outputs": [
    {
     "name": "stdout",
     "output_type": "stream",
     "text": [
      "Node properties are the following:\n",
      "Customer {id: STRING, ageBucket: STRING, gender: STRING},Category {id: STRING},Problem {id: STRING, problem: STRING},Question {id: INTEGER, question: STRING},Vehicle {id: STRING, totalProblems: INTEGER},Verbatim {id: STRING, verbatim: STRING, verbatimText: STRING, ageBucket: STRING, severity: FLOAT, gender: STRING, make: STRING, model: STRING, minAge: INTEGER, maxAge: INTEGER, adaEmbedding: LIST, titanEmbedding: LIST}\n",
      "Relationship properties are the following:\n",
      "\n",
      "The relationships are the following:\n",
      "(:Customer)-[:SUBMITTED]->(:Verbatim),(:Problem)-[:HAS_CATEGORY]->(:Category),(:Question)-[:HAS_PROBLEM]->(:Problem),(:Vehicle)-[:HAS_CATEGORY]->(:Category),(:Vehicle)-[:HAS_VERBATIM]->(:Verbatim),(:Verbatim)-[:HAS_CATEGORY]->(:Category),(:Verbatim)-[:HAS_PROBLEM]->(:Problem),(:Verbatim)-[:HAS_QUESTION]->(:Question)\n"
     ]
    }
   ],
   "source": [
    "print(chain.graph_schema)"
   ]
  },
  {
   "cell_type": "markdown",
   "metadata": {},
   "source": [
    "## Chat Function"
   ]
  },
  {
   "cell_type": "markdown",
   "metadata": {},
   "source": [
    "Here we define a simple chat function to make our lives easier.\n",
    "\n",
    "This function will:\n",
    "* Generate Cypher from the user question\n",
    "* Query the Neo4j database\n",
    "* Summarize the query results\n",
    "* Return a Response object containing call information and results"
   ]
  },
  {
   "cell_type": "code",
   "execution_count": 7,
   "metadata": {},
   "outputs": [],
   "source": [
    "def chat(question: str) -> Text2CypherResponse:\n",
    "    # Retrieve the Results from Neo4j\n",
    "    r = chain(question)\n",
    "    print(r)\n",
    "\n",
    "    # Summarize the Results\n",
    "    summary_prompt = create_final_summary_prompt(\n",
    "        tool_execution_result=json.dumps(r[\"result\"]), question=r[\"query\"]\n",
    "    )\n",
    "    summary = llm.invoke(summary_prompt)\n",
    "    return Text2CypherResponse(question=question, answer=summary.content, cypher=[r[\"intermediate_steps\"][0][\"query\"]], cypher_result=[r[\"result\"]])"
   ]
  },
  {
   "cell_type": "markdown",
   "metadata": {},
   "source": [
    "## Questions"
   ]
  },
  {
   "cell_type": "markdown",
   "metadata": {},
   "source": [
    "### Please summarize the verbatims for 2023 RDX for question 010 Trunk/TG Touch-Free Sensor DTU and create categories for the problems. As an output, I want the summary, corresponding categories and their verbatims"
   ]
  },
  {
   "cell_type": "code",
   "execution_count": 8,
   "metadata": {},
   "outputs": [
    {
     "name": "stdout",
     "output_type": "stream",
     "text": [
      "\n",
      "\n",
      "\u001b[1m> Entering new GraphCypherQAChain chain...\u001b[0m\n"
     ]
    },
    {
     "name": "stderr",
     "output_type": "stream",
     "text": [
      "/var/folders/7_/vqs74z3j5hscgzbt0ydbmqyw0000gq/T/ipykernel_98369/156406921.py:3: LangChainDeprecationWarning: The method `Chain.__call__` was deprecated in langchain 0.1.0 and will be removed in 1.0. Use invoke instead.\n",
      "  r = chain(question)\n"
     ]
    },
    {
     "name": "stdout",
     "output_type": "stream",
     "text": [
      "Generated Cypher:\n",
      "\u001b[32;1m\u001b[1;3m\n",
      "MATCH (q:Question {id: 10})<-[:HAS_QUESTION]-(v:Verbatim {model: \"RDX\"})\n",
      "WITH v\n",
      "RETURN v.verbatim AS verbatim, v.make AS make, v.model AS model, v.ageBucket AS ageBucket, v.severity AS severity, v.gender AS gender, v.verbatimText AS verbatimText\n",
      "\u001b[0m\n",
      "\n",
      "\u001b[1m> Finished chain.\u001b[0m\n",
      "{'query': 'Please summarize the verbatims for 2023 RDX for question 010 Trunk/TG Touch-Free Sensor DTU and create categories for the problems. As an output, I want the summary, corresponding categories and their verbatims', 'result': [{'verbatim': 'when I move my foot under sensor sometimes the tailgate opens and sometimes it does not. It seems to be hit or miss.', 'make': 'Acura', 'model': 'RDX', 'ageBucket': '65-69', 'severity': 2.0, 'gender': 'Male', 'verbatimText': \"acura rdx exterior ext10: trunk/hatch/tailgate - touch-free sensor doesn't work consistently/dtu #010 trunk/tg touch-free sensor dtu when i move my foot under sensor sometimes the tailgate opens and sometimes it does not. it seems to be hit or miss.\"}, {'verbatim': 'foot release does not work consistently', 'make': 'Acura', 'model': 'RDX', 'ageBucket': '>=70', 'severity': 2.0, 'gender': 'Male', 'verbatimText': \"acura rdx exterior ext10: trunk/hatch/tailgate - touch-free sensor doesn't work consistently/dtu #010 trunk/tg touch-free sensor dtu foot release does not work consistently\"}, {'verbatim': 'At times, the leg action does not close the tailgate.  Other times, when i am loading/unloading the trunk and have my feet under the vehicle, the tailgate closes.', 'make': 'Acura', 'model': 'RDX', 'ageBucket': None, 'severity': 3.0, 'gender': 'Male', 'verbatimText': \"acura rdx exterior ext10: trunk/hatch/tailgate - touch-free sensor doesn't work consistently/dtu #010 trunk/tg touch-free sensor dtu at times, the leg action does not close the tailgate.  other times, when i am loading/unloading the trunk and have my feet under the vehicle, the tailgate closes.\"}, {'verbatim': 'My wife and I have not found a consistent place to activate the sensor. We move our feet all along the rear of the car and sometimes it opens others it doesn’t.', 'make': 'Acura', 'model': 'RDX', 'ageBucket': '>=70', 'severity': 3.0, 'gender': 'Male', 'verbatimText': \"acura rdx exterior ext10: trunk/hatch/tailgate - touch-free sensor doesn't work consistently/dtu #010 trunk/tg touch-free sensor dtu my wife and i have not found a consistent place to activate the sensor. we move our feet all along the rear of the car and sometimes it opens others it doesn’t.\"}, {'verbatim': 'this feature doesnt work consistently', 'make': 'Acura', 'model': 'RDX', 'ageBucket': None, 'severity': 3.0, 'gender': '', 'verbatimText': \"acura rdx exterior ext10: trunk/hatch/tailgate - touch-free sensor doesn't work consistently/dtu #010 trunk/tg touch-free sensor dtu this feature doesnt work consistently\"}, {'verbatim': 'Using my leg to open the back tailgate had not been reliable.', 'make': 'Acura', 'model': 'RDX', 'ageBucket': None, 'severity': 1.0, 'gender': '', 'verbatimText': \"acura rdx exterior ext10: trunk/hatch/tailgate - touch-free sensor doesn't work consistently/dtu #010 trunk/tg touch-free sensor dtu using my leg to open the back tailgate had not been reliable.\"}, {'verbatim': 'Haven’t been able to get this feature to work consistently.', 'make': 'Acura', 'model': 'RDX', 'ageBucket': None, 'severity': 1.0, 'gender': 'Male', 'verbatimText': \"acura rdx exterior ext10: trunk/hatch/tailgate - touch-free sensor doesn't work consistently/dtu #010 trunk/tg touch-free sensor dtu haven’t been able to get this feature to work consistently.\"}, {'verbatim': 'sensor to open tailgate with foot does not work a good amount of the time', 'make': 'Acura', 'model': 'RDX', 'ageBucket': '55-59', 'severity': 2.0, 'gender': 'Male', 'verbatimText': \"acura rdx exterior ext10: trunk/hatch/tailgate - touch-free sensor doesn't work consistently/dtu #010 trunk/tg touch-free sensor dtu sensor to open tailgate with foot does not work a good amount of the time\"}, {'verbatim': \"Hatch touch-free sensor doesn't work consistently.  Perhaps a marking in sight would help indicate where the sensor is located.\", 'make': 'Acura', 'model': 'RDX', 'ageBucket': '55-59', 'severity': 1.0, 'gender': 'Male', 'verbatimText': \"acura rdx exterior ext10: trunk/hatch/tailgate - touch-free sensor doesn't work consistently/dtu #010 trunk/tg touch-free sensor dtu hatch touch-free sensor doesn't work consistently.  perhaps a marking in sight would help indicate where the sensor is located.\"}, {'verbatim': 'When placing my foot under the sensor, it does not open/close. If it read a larger area it would be easier to use! Otherwise I use the button', 'make': 'Acura', 'model': 'RDX', 'ageBucket': None, 'severity': 2.0, 'gender': '', 'verbatimText': \"acura rdx exterior ext10: trunk/hatch/tailgate - touch-free sensor doesn't work consistently/dtu #010 trunk/tg touch-free sensor dtu when placing my foot under the sensor, it does not open/close. if it read a larger area it would be easier to use! otherwise i use the button\"}], 'intermediate_steps': [{'query': '\\nMATCH (q:Question {id: 10})<-[:HAS_QUESTION]-(v:Verbatim {model: \"RDX\"})\\nWITH v\\nRETURN v.verbatim AS verbatim, v.make AS make, v.model AS model, v.ageBucket AS ageBucket, v.severity AS severity, v.gender AS gender, v.verbatimText AS verbatimText\\n'}]}\n"
     ]
    }
   ],
   "source": [
    "response = chat(\"Please summarize the verbatims for 2023 RDX for question 010 Trunk/TG Touch-Free Sensor DTU and create categories for the problems. As an output, I want the summary, corresponding categories and their verbatims\")"
   ]
  },
  {
   "cell_type": "code",
   "execution_count": 9,
   "metadata": {},
   "outputs": [
    {
     "name": "stdout",
     "output_type": "stream",
     "text": [
      "\n",
      "Question:\n",
      "Please summarize the verbatims for 2023 RDX for question 010 Trunk/TG Touch-Free Sensor DTU and create categories for the problems. As an output, I want the summary, corresponding categories and their verbatims\n",
      "\n",
      "Cypher:\n",
      "\n",
      "MATCH (q:Question {id: 10})<-[:HAS_QUESTION]-(v:Verbatim {model: \"RDX\"})\n",
      "WITH v\n",
      "RETURN v.verbatim AS verbatim, v.make AS make, v.model AS model, v.ageBucket AS ageBucket, v.severity AS severity, v.gender AS gender, v.verbatimText AS verbatimText\n",
      "\n",
      "\n",
      "\n",
      "\n",
      "Cypher Result:\n",
      "[[{'verbatim': 'when I move my foot under sensor sometimes the tailgate opens and sometimes it does not. It seems to be hit or miss.', 'make': 'Acura', 'model': 'RDX', 'ageBucket': '65-69', 'severity': 2.0, 'gender': 'Male', 'verbatimText': \"acura rdx exterior ext10: trunk/hatch/tailgate - touch-free sensor doesn't work consistently/dtu #010 trunk/tg touch-free sensor dtu when i move my foot under sensor sometimes the tailgate opens and sometimes it does not. it seems to be hit or miss.\"}, {'verbatim': 'foot release does not work consistently', 'make': 'Acura', 'model': 'RDX', 'ageBucket': '>=70', 'severity': 2.0, 'gender': 'Male', 'verbatimText': \"acura rdx exterior ext10: trunk/hatch/tailgate - touch-free sensor doesn't work consistently/dtu #010 trunk/tg touch-free sensor dtu foot release does not work consistently\"}, {'verbatim': 'At times, the leg action does not close the tailgate.  Other times, when i am loading/unloading the trunk and have my feet under the vehicle, the tailgate closes.', 'make': 'Acura', 'model': 'RDX', 'ageBucket': None, 'severity': 3.0, 'gender': 'Male', 'verbatimText': \"acura rdx exterior ext10: trunk/hatch/tailgate - touch-free sensor doesn't work consistently/dtu #010 trunk/tg touch-free sensor dtu at times, the leg action does not close the tailgate.  other times, when i am loading/unloading the trunk and have my feet under the vehicle, the tailgate closes.\"}, {'verbatim': 'My wife and I have not found a consistent place to activate the sensor. We move our feet all along the rear of the car and sometimes it opens others it doesn’t.', 'make': 'Acura', 'model': 'RDX', 'ageBucket': '>=70', 'severity': 3.0, 'gender': 'Male', 'verbatimText': \"acura rdx exterior ext10: trunk/hatch/tailgate - touch-free sensor doesn't work consistently/dtu #010 trunk/tg touch-free sensor dtu my wife and i have not found a consistent place to activate the sensor. we move our feet all along the rear of the car and sometimes it opens others it doesn’t.\"}, {'verbatim': 'this feature doesnt work consistently', 'make': 'Acura', 'model': 'RDX', 'ageBucket': None, 'severity': 3.0, 'gender': '', 'verbatimText': \"acura rdx exterior ext10: trunk/hatch/tailgate - touch-free sensor doesn't work consistently/dtu #010 trunk/tg touch-free sensor dtu this feature doesnt work consistently\"}, {'verbatim': 'Using my leg to open the back tailgate had not been reliable.', 'make': 'Acura', 'model': 'RDX', 'ageBucket': None, 'severity': 1.0, 'gender': '', 'verbatimText': \"acura rdx exterior ext10: trunk/hatch/tailgate - touch-free sensor doesn't work consistently/dtu #010 trunk/tg touch-free sensor dtu using my leg to open the back tailgate had not been reliable.\"}, {'verbatim': 'Haven’t been able to get this feature to work consistently.', 'make': 'Acura', 'model': 'RDX', 'ageBucket': None, 'severity': 1.0, 'gender': 'Male', 'verbatimText': \"acura rdx exterior ext10: trunk/hatch/tailgate - touch-free sensor doesn't work consistently/dtu #010 trunk/tg touch-free sensor dtu haven’t been able to get this feature to work consistently.\"}, {'verbatim': 'sensor to open tailgate with foot does not work a good amount of the time', 'make': 'Acura', 'model': 'RDX', 'ageBucket': '55-59', 'severity': 2.0, 'gender': 'Male', 'verbatimText': \"acura rdx exterior ext10: trunk/hatch/tailgate - touch-free sensor doesn't work consistently/dtu #010 trunk/tg touch-free sensor dtu sensor to open tailgate with foot does not work a good amount of the time\"}, {'verbatim': \"Hatch touch-free sensor doesn't work consistently.  Perhaps a marking in sight would help indicate where the sensor is located.\", 'make': 'Acura', 'model': 'RDX', 'ageBucket': '55-59', 'severity': 1.0, 'gender': 'Male', 'verbatimText': \"acura rdx exterior ext10: trunk/hatch/tailgate - touch-free sensor doesn't work consistently/dtu #010 trunk/tg touch-free sensor dtu hatch touch-free sensor doesn't work consistently.  perhaps a marking in sight would help indicate where the sensor is located.\"}, {'verbatim': 'When placing my foot under the sensor, it does not open/close. If it read a larger area it would be easier to use! Otherwise I use the button', 'make': 'Acura', 'model': 'RDX', 'ageBucket': None, 'severity': 2.0, 'gender': '', 'verbatimText': \"acura rdx exterior ext10: trunk/hatch/tailgate - touch-free sensor doesn't work consistently/dtu #010 trunk/tg touch-free sensor dtu when placing my foot under the sensor, it does not open/close. if it read a larger area it would be easier to use! otherwise i use the button\"}]]\n",
      "            \n",
      "Final Response:\n",
      "**Summary:**\n",
      "The 2023 Acura RDX owners have reported issues with the touch-free sensor for the trunk/tailgate. The primary concerns are inconsistency in sensor activation, difficulty in finding the correct spot to activate the sensor, and unreliable performance when using leg movements to open or close the tailgate. Some owners suggested that a visual marker could help in locating the sensor more easily.\n",
      "\n",
      "**Categories and Verbatims:**\n",
      "\n",
      "1. **Inconsistent Sensor Activation:**\n",
      "    - \"when I move my foot under sensor sometimes the tailgate opens and sometimes it does not. It seems to be hit or miss.\"\n",
      "    - \"foot release does not work consistently\"\n",
      "    - \"Using my leg to open the back tailgate had not been reliable.\"\n",
      "    - \"Haven’t been able to get this feature to work consistently.\"\n",
      "    - \"sensor to open tailgate with foot does not work a good amount of the time\"\n",
      "    - \"Hatch touch-free sensor doesn't work consistently. Perhaps a marking in sight would help indicate where the sensor is located.\"\n",
      "    - \"When placing my foot under the sensor, it does not open/close. If it read a larger area it would be easier to use! Otherwise I use the button\"\n",
      "\n",
      "2. **Difficulty Finding Sensor Activation Spot:**\n",
      "    - \"My wife and I have not found a consistent place to activate the sensor. We move our feet all along the rear of the car and sometimes it opens others it doesn’t.\"\n",
      "\n",
      "3. **Unreliable Performance During Use:**\n",
      "    - \"At times, the leg action does not close the tailgate. Other times, when I am loading/unloading the trunk and have my feet under the vehicle, the tailgate closes.\"\n",
      "\n",
      "4. **General Inconsistency:**\n",
      "    - \"this feature doesn't work consistently\"\n",
      "        \n"
     ]
    }
   ],
   "source": [
    "response.display()"
   ]
  },
  {
   "cell_type": "markdown",
   "metadata": {},
   "source": [
    "### What are the top 5 problems about seats for each age buckets for men over the age of 53?"
   ]
  },
  {
   "cell_type": "code",
   "execution_count": 10,
   "metadata": {},
   "outputs": [
    {
     "name": "stdout",
     "output_type": "stream",
     "text": [
      "\n",
      "\n",
      "\u001b[1m> Entering new GraphCypherQAChain chain...\u001b[0m\n",
      "Generated Cypher:\n",
      "\u001b[32;1m\u001b[1;3mcypher\n",
      "MATCH (p:Problem {id: \"SEAT23\"})<-[:HAS_PROBLEM]-(v:Verbatim)\n",
      "WHERE v.minAge > 53 AND v.gender = \"Male\" AND v.verbatimText CONTAINS 'seat'\n",
      "WITH v.ageBucket AS ageBucket, p.problem AS problem, COLLECT(v.verbatim) AS responses\n",
      "WITH ageBucket, problem, SIZE(responses) AS total, responses\n",
      "WITH * ORDER BY ageBucket, total DESC\n",
      "WITH ageBucket, COLLECT(problem) AS problems, COLLECT(total) AS totals, COLLECT(responses) AS responsesList\n",
      "RETURN ageBucket, problems[..5] AS problem, totals[..5] AS total, responsesList[..5] AS responses\n",
      "LIMIT 5\n",
      "\u001b[0m\n",
      "\n",
      "\u001b[1m> Finished chain.\u001b[0m\n",
      "{'query': 'What are the top 5 problems about seats for each age buckets for men over the age of 53?', 'result': [{'ageBucket': '55-59', 'problem': ['SEAT23: Seat materials scuff/soil easily'], 'total': [2], 'responses': [['The seats pick up dirt easily, and are somewhat difficult to keep clean.', 'The alcantara front seating material in the beige is easily soiled.']]}, {'ageBucket': '60-64', 'problem': ['SEAT23: Seat materials scuff/soil easily'], 'total': [2], 'responses': [['Material does not seem durable enough', 'The seat materials are easily creased and any food or drink seem to be difficult to clean.']]}, {'ageBucket': '65-69', 'problem': ['SEAT23: Seat materials scuff/soil easily'], 'total': [3], 'responses': [['Prefer leather to suede, in part because it is easier to clean.', 'White seats suede hold too much dirt', 'the seat material seems to pick up dry skin particles easily']]}, {'ageBucket': '>=70', 'problem': ['SEAT23: Seat materials scuff/soil easily'], 'total': [5], 'responses': [['The suede like seats show every piece if dust .', \"Dog's toenail punctured the soft leather of the seat the first time we had the dog in the backseat.\", \"It seems once something gets on the seat it's difficult to remove.   I noticed little white specks on the seat that I can't remove.   I've not tried the seat cleaner, which may take care of this problem.\", 'Black cloth seats show dirt/lint easily. Black door panels show shoe scuffs & skin cells on arm rests.', 'When the black seats get soiled , the spots seem to seep into the small holes and are now permanent.']]}], 'intermediate_steps': [{'query': 'cypher\\nMATCH (p:Problem {id: \"SEAT23\"})<-[:HAS_PROBLEM]-(v:Verbatim)\\nWHERE v.minAge > 53 AND v.gender = \"Male\" AND v.verbatimText CONTAINS \\'seat\\'\\nWITH v.ageBucket AS ageBucket, p.problem AS problem, COLLECT(v.verbatim) AS responses\\nWITH ageBucket, problem, SIZE(responses) AS total, responses\\nWITH * ORDER BY ageBucket, total DESC\\nWITH ageBucket, COLLECT(problem) AS problems, COLLECT(total) AS totals, COLLECT(responses) AS responsesList\\nRETURN ageBucket, problems[..5] AS problem, totals[..5] AS total, responsesList[..5] AS responses\\nLIMIT 5\\n'}]}\n"
     ]
    }
   ],
   "source": [
    "response = chat(\"What are the top 5 problems about seats for each age buckets for men over the age of 53?\")"
   ]
  },
  {
   "cell_type": "code",
   "execution_count": 11,
   "metadata": {},
   "outputs": [
    {
     "name": "stdout",
     "output_type": "stream",
     "text": [
      "\n",
      "Question:\n",
      "What are the top 5 problems about seats for each age buckets for men over the age of 53?\n",
      "\n",
      "Cypher:\n",
      "cypher\n",
      "MATCH (p:Problem {id: \"SEAT23\"})<-[:HAS_PROBLEM]-(v:Verbatim)\n",
      "WHERE v.minAge > 53 AND v.gender = \"Male\" AND v.verbatimText CONTAINS 'seat'\n",
      "WITH v.ageBucket AS ageBucket, p.problem AS problem, COLLECT(v.verbatim) AS responses\n",
      "WITH ageBucket, problem, SIZE(responses) AS total, responses\n",
      "WITH * ORDER BY ageBucket, total DESC\n",
      "WITH ageBucket, COLLECT(problem) AS problems, COLLECT(total) AS totals, COLLECT(responses) AS responsesList\n",
      "RETURN ageBucket, problems[..5] AS problem, totals[..5] AS total, responsesList[..5] AS responses\n",
      "LIMIT 5\n",
      "\n",
      "\n",
      "\n",
      "\n",
      "Cypher Result:\n",
      "[[{'ageBucket': '55-59', 'problem': ['SEAT23: Seat materials scuff/soil easily'], 'total': [2], 'responses': [['The seats pick up dirt easily, and are somewhat difficult to keep clean.', 'The alcantara front seating material in the beige is easily soiled.']]}, {'ageBucket': '60-64', 'problem': ['SEAT23: Seat materials scuff/soil easily'], 'total': [2], 'responses': [['Material does not seem durable enough', 'The seat materials are easily creased and any food or drink seem to be difficult to clean.']]}, {'ageBucket': '65-69', 'problem': ['SEAT23: Seat materials scuff/soil easily'], 'total': [3], 'responses': [['Prefer leather to suede, in part because it is easier to clean.', 'White seats suede hold too much dirt', 'the seat material seems to pick up dry skin particles easily']]}, {'ageBucket': '>=70', 'problem': ['SEAT23: Seat materials scuff/soil easily'], 'total': [5], 'responses': [['The suede like seats show every piece if dust .', \"Dog's toenail punctured the soft leather of the seat the first time we had the dog in the backseat.\", \"It seems once something gets on the seat it's difficult to remove.   I noticed little white specks on the seat that I can't remove.   I've not tried the seat cleaner, which may take care of this problem.\", 'Black cloth seats show dirt/lint easily. Black door panels show shoe scuffs & skin cells on arm rests.', 'When the black seats get soiled , the spots seem to seep into the small holes and are now permanent.']]}]]\n",
      "            \n",
      "Final Response:\n",
      "**Age Bucket 55-59:**\n",
      "1. The seats pick up dirt easily, and are somewhat difficult to keep clean.\n",
      "2. The alcantara front seating material in the beige is easily soiled.\n",
      "\n",
      "**Age Bucket 60-64:**\n",
      "1. Material does not seem durable enough.\n",
      "2. The seat materials are easily creased and any food or drink seem to be difficult to clean.\n",
      "\n",
      "**Age Bucket 65-69:**\n",
      "1. Prefer leather to suede, in part because it is easier to clean.\n",
      "2. White seats suede hold too much dirt.\n",
      "3. The seat material seems to pick up dry skin particles easily.\n",
      "\n",
      "**Age Bucket >=70:**\n",
      "1. The suede like seats show every piece of dust.\n",
      "2. Dog's toenail punctured the soft leather of the seat the first time we had the dog in the backseat.\n",
      "3. It seems once something gets on the seat it's difficult to remove. I noticed little white specks on the seat that I can't remove. I've not tried the seat cleaner, which may take care of this problem.\n",
      "4. Black cloth seats show dirt/lint easily. Black door panels show shoe scuffs & skin cells on arm rests.\n",
      "5. When the black seats get soiled, the spots seem to seep into the small holes and are now permanent.\n",
      "        \n"
     ]
    }
   ],
   "source": [
    "response.display()"
   ]
  },
  {
   "cell_type": "markdown",
   "metadata": {},
   "source": [
    "### What are the total responses under seat23 for honda civic, what is the male to female proportion for these responses and what is the problem for seat23?"
   ]
  },
  {
   "cell_type": "code",
   "execution_count": 12,
   "metadata": {},
   "outputs": [
    {
     "name": "stdout",
     "output_type": "stream",
     "text": [
      "\n",
      "\n",
      "\u001b[1m> Entering new GraphCypherQAChain chain...\u001b[0m\n",
      "Generated Cypher:\n",
      "\u001b[32;1m\u001b[1;3mcypher\n",
      "MATCH (p:Problem {id: \"SEAT23\"})<-[:HAS_PROBLEM]-(v:Verbatim {make: \"Honda\", model: \"Civic\"})\n",
      "WITH p.problem AS problem, COUNT(v) AS totalResponses, \n",
      "     SUM(CASE WHEN v.gender = \"Male\" THEN 1 ELSE 0 END) AS males,\n",
      "     SUM(CASE WHEN v.gender = \"Female\" THEN 1 ELSE 0 END) AS females\n",
      "RETURN totalResponses, males, females, toFloat(males) / (CASE WHEN females = 0 THEN 1 ELSE females END) AS maleToFemaleRatio, problem\n",
      "\u001b[0m\n",
      "\n",
      "\u001b[1m> Finished chain.\u001b[0m\n",
      "{'query': 'What are the total responses under seat23 for honda civic, what is the male to female proportion for these responses and what is the problem for seat23?', 'result': [{'totalResponses': 10, 'males': 7, 'females': 3, 'maleToFemaleRatio': 2.3333333333333335, 'problem': 'SEAT23: Seat materials scuff/soil easily'}], 'intermediate_steps': [{'query': 'cypher\\nMATCH (p:Problem {id: \"SEAT23\"})<-[:HAS_PROBLEM]-(v:Verbatim {make: \"Honda\", model: \"Civic\"})\\nWITH p.problem AS problem, COUNT(v) AS totalResponses, \\n     SUM(CASE WHEN v.gender = \"Male\" THEN 1 ELSE 0 END) AS males,\\n     SUM(CASE WHEN v.gender = \"Female\" THEN 1 ELSE 0 END) AS females\\nRETURN totalResponses, males, females, toFloat(males) / (CASE WHEN females = 0 THEN 1 ELSE females END) AS maleToFemaleRatio, problem\\n'}]}\n"
     ]
    }
   ],
   "source": [
    "response = chat(\"What are the total responses under seat23 for honda civic, what is the male to female proportion for these responses and what is the problem for seat23?\")"
   ]
  },
  {
   "cell_type": "code",
   "execution_count": 13,
   "metadata": {},
   "outputs": [
    {
     "name": "stdout",
     "output_type": "stream",
     "text": [
      "\n",
      "Question:\n",
      "What are the total responses under seat23 for honda civic, what is the male to female proportion for these responses and what is the problem for seat23?\n",
      "\n",
      "Cypher:\n",
      "cypher\n",
      "MATCH (p:Problem {id: \"SEAT23\"})<-[:HAS_PROBLEM]-(v:Verbatim {make: \"Honda\", model: \"Civic\"})\n",
      "WITH p.problem AS problem, COUNT(v) AS totalResponses, \n",
      "     SUM(CASE WHEN v.gender = \"Male\" THEN 1 ELSE 0 END) AS males,\n",
      "     SUM(CASE WHEN v.gender = \"Female\" THEN 1 ELSE 0 END) AS females\n",
      "RETURN totalResponses, males, females, toFloat(males) / (CASE WHEN females = 0 THEN 1 ELSE females END) AS maleToFemaleRatio, problem\n",
      "\n",
      "\n",
      "\n",
      "\n",
      "Cypher Result:\n",
      "[[{'totalResponses': 10, 'males': 7, 'females': 3, 'maleToFemaleRatio': 2.3333333333333335, 'problem': 'SEAT23: Seat materials scuff/soil easily'}]]\n",
      "            \n",
      "Final Response:\n",
      "Total responses: 10  \n",
      "Male to Female Ratio: 2.33  \n",
      "Problem: SEAT23: Seat materials scuff/soil easily\n",
      "        \n"
     ]
    }
   ],
   "source": [
    "response.display()"
   ]
  }
 ],
 "metadata": {
  "kernelspec": {
   "display_name": "ps-genai-agents-lVTtXIGJ-py3.12",
   "language": "python",
   "name": "python3"
  },
  "language_info": {
   "codemirror_mode": {
    "name": "ipython",
    "version": 3
   },
   "file_extension": ".py",
   "mimetype": "text/x-python",
   "name": "python",
   "nbconvert_exporter": "python",
   "pygments_lexer": "ipython3",
   "version": "3.12.3"
  }
 },
 "nbformat": 4,
 "nbformat_minor": 2
}
