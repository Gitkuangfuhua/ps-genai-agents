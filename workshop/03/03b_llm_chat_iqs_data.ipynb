{
 "cells": [
  {
   "cell_type": "markdown",
   "metadata": {},
   "source": [
    "# Professional Services Retreat | GenAI Workshop"
   ]
  },
  {
   "cell_type": "markdown",
   "metadata": {},
   "source": [
    "# LLM Chat Notebook"
   ]
  },
  {
   "cell_type": "markdown",
   "metadata": {},
   "source": [
    "This notebook will walkthrough how to build a simple LLM chat function."
   ]
  },
  {
   "cell_type": "markdown",
   "metadata": {},
   "source": [
    "## Imports"
   ]
  },
  {
   "cell_type": "code",
   "execution_count": 1,
   "metadata": {},
   "outputs": [
    {
     "name": "stdout",
     "output_type": "stream",
     "text": [
      ".env variables loaded!\n"
     ]
    }
   ],
   "source": [
    "import os\n",
    "import sys\n",
    "\n",
    "sys.path.append(\"../../\")\n",
    "\n",
    "from dotenv import load_dotenv\n",
    "from IPython.display import display, Markdown\n",
    "from langchain_openai import ChatOpenAI\n",
    "from langchain.chains.graph_qa.cypher import GraphCypherQAChain\n",
    "from langchain.graphs import Neo4jGraph\n",
    "\n",
    "from src.ps_genai_agents.prompts import create_graphqa_chain_cypher_prompt, create_final_summary_prompt\n",
    "from src.ps_genai_agents.agents.graph.text2cypher.types.response import Response as Text2CypherResponse\n",
    "\n",
    "\n",
    "(\n",
    "    print(\".env variables loaded!\")\n",
    "    if load_dotenv()\n",
    "    else print(\"Unable to load .env variables.\")\n",
    ")"
   ]
  },
  {
   "cell_type": "markdown",
   "metadata": {},
   "source": [
    "## Graph Connection"
   ]
  },
  {
   "cell_type": "markdown",
   "metadata": {},
   "source": [
    "The `LangChain` [`Neo4jGraph`](https://python.langchain.com/docs/integrations/providers/neo4j/#graphcypherqachain) class will be used to connect to our Aura instance. It will be used to automatically gather the graph schema and read from the database."
   ]
  },
  {
   "cell_type": "code",
   "execution_count": 2,
   "metadata": {},
   "outputs": [],
   "source": [
    "graph = Neo4jGraph(\n",
    "    url=os.environ.get(\"IQS_NEO4J_URI\"),\n",
    "    username=os.environ.get(\"IQS_NEO4J_USERNAME\"),\n",
    "    password=os.environ.get(\"IQS_NEO4J_PASSWORD\"),\n",
    "    refresh_schema=True,\n",
    ")"
   ]
  },
  {
   "cell_type": "markdown",
   "metadata": {},
   "source": [
    "## Prompt Creation"
   ]
  },
  {
   "cell_type": "markdown",
   "metadata": {},
   "source": [
    "The `ps-genai-agents` project contains functions to create Text2Cypher prompts easily. Since we'll be using LangChain's implementation of Text2Cypher we will only need to provide a file path to our query examples yaml. the `ps-genai-agents` and `LangChain` libraries will handle formatting our examples and injecting them into the prompt.\n",
    "\n",
    "We can view the code for these prompt creation functions [here](../../src/ps_genai_agents/prompts/cypher_prompts.py).\n",
    "\n",
    "Note that we have two Cypher generation prompts. One for `neo4j_graphrag` and one for `LangChain`. "
   ]
  },
  {
   "cell_type": "code",
   "execution_count": 3,
   "metadata": {},
   "outputs": [],
   "source": [
    "cypher_prompt = create_graphqa_chain_cypher_prompt(examples_yaml_path=\"../../data/iqs/queries/queries.yml\")"
   ]
  },
  {
   "cell_type": "markdown",
   "metadata": {},
   "source": [
    "## LLM Connection"
   ]
  },
  {
   "cell_type": "markdown",
   "metadata": {},
   "source": [
    "We will use OpenAI LLMs for this workshop. You can try Text2Cypher with any LLM, but more recent LLMs will likely perform much better. Feel free to test older models such as `gpt-3.5` and compare results.\n",
    "\n",
    "You may find a list of OpenAI models [here](https://platform.openai.com/docs/models)."
   ]
  },
  {
   "cell_type": "code",
   "execution_count": 4,
   "metadata": {},
   "outputs": [],
   "source": [
    "llm = ChatOpenAI(model=\"gpt-4o\")"
   ]
  },
  {
   "cell_type": "markdown",
   "metadata": {},
   "source": [
    "## Text2Cypher"
   ]
  },
  {
   "cell_type": "markdown",
   "metadata": {},
   "source": [
    "We will use LangChain's [`GraphCypherQAChain`](https://python.langchain.com/v0.1/docs/integrations/graphs/neo4j_cypher/) to handle our Text2Cypher workflow. This Chain class will automatically retrieve the current graph schema and validate the generated Cypher behind the scenes.\n",
    "\n",
    "A [chain](https://python.langchain.com/v0.1/docs/modules/chains/) refers to a sequence of calls. In this case these calls include the graph schema retrieval, Cypher generation and querying Neo4j."
   ]
  },
  {
   "cell_type": "code",
   "execution_count": 5,
   "metadata": {},
   "outputs": [],
   "source": [
    "chain = GraphCypherQAChain.from_llm(\n",
    "    llm,\n",
    "    graph=graph,\n",
    "    cypher_prompt=cypher_prompt,\n",
    "    verbose=True,\n",
    "    return_direct=True,\n",
    "    return_intermediate_steps=True,\n",
    ")"
   ]
  },
  {
   "cell_type": "markdown",
   "metadata": {},
   "source": [
    "We can see how the schema is formatted with the `GraphCypherQAChain` property `graph_schema`."
   ]
  },
  {
   "cell_type": "code",
   "execution_count": 6,
   "metadata": {},
   "outputs": [
    {
     "name": "stdout",
     "output_type": "stream",
     "text": [
      "Node properties are the following:\n",
      "Customer {id: STRING, ageBucket: STRING, gender: STRING},Category {id: STRING},Problem {id: STRING, problem: STRING},Question {id: INTEGER, question: STRING},Vehicle {id: STRING, totalProblems: INTEGER},Verbatim {id: STRING, verbatim: STRING, verbatimText: STRING, severity: FLOAT, gender: STRING, make: STRING, model: STRING, adaEmbedding: LIST, titanEmbedding: LIST, ageBucket: STRING, minAge: INTEGER, maxAge: INTEGER}\n",
      "Relationship properties are the following:\n",
      "\n",
      "The relationships are the following:\n",
      "(:Customer)-[:SUBMITTED]->(:Verbatim),(:Problem)-[:HAS_CATEGORY]->(:Category),(:Question)-[:HAS_PROBLEM]->(:Problem),(:Vehicle)-[:HAS_CATEGORY]->(:Category),(:Vehicle)-[:HAS_VERBATIM]->(:Verbatim),(:Verbatim)-[:HAS_CATEGORY]->(:Category),(:Verbatim)-[:HAS_PROBLEM]->(:Problem),(:Verbatim)-[:HAS_QUESTION]->(:Question)\n"
     ]
    }
   ],
   "source": [
    "print(chain.graph_schema)"
   ]
  },
  {
   "cell_type": "markdown",
   "metadata": {},
   "source": [
    "## Chat Function"
   ]
  },
  {
   "cell_type": "markdown",
   "metadata": {},
   "source": [
    "Here we define a simple chat function to make our lives easier.\n",
    "\n",
    "This function will:\n",
    "* Generate Cypher from the user question\n",
    "* Query the Neo4j database\n",
    "* Summarize the query results\n",
    "* Return a Response object containing call information and results"
   ]
  },
  {
   "cell_type": "code",
   "execution_count": 7,
   "metadata": {},
   "outputs": [],
   "source": [
    "def chat(question: str) -> Text2CypherResponse:\n",
    "    # Retrieve the Results from Neo4j\n",
    "    r = chain(question)\n",
    "    print(r)\n",
    "\n",
    "    # Summarize the Results\n",
    "    summary_prompt = create_final_summary_prompt(\n",
    "        tool_execution_result=r.get(\"result\"), question=r.get(\"query\")\n",
    "    )\n",
    "    summary = llm.invoke(summary_prompt)\n",
    "    return Text2CypherResponse(question=question, answer=summary.content, cypher=[r.get(\"intermediate_steps\")[0].get(\"query\")], cypher_result=[r.get(\"result\")])"
   ]
  },
  {
   "cell_type": "code",
   "execution_count": 8,
   "metadata": {},
   "outputs": [],
   "source": [
    "# function to print markdown\n",
    "def print_markdown(text):\n",
    "    display(Markdown(text))"
   ]
  },
  {
   "cell_type": "markdown",
   "metadata": {},
   "source": [
    "## Questions"
   ]
  },
  {
   "cell_type": "markdown",
   "metadata": {},
   "source": [
    "### Please summarize the verbatims for 2023 RDX for question 010 Trunk/TG Touch-Free Sensor DTU and create categories for the problems. As an output, I want the summary, corresponding categories and their verbatims"
   ]
  },
  {
   "cell_type": "code",
   "execution_count": 9,
   "metadata": {},
   "outputs": [
    {
     "name": "stdout",
     "output_type": "stream",
     "text": [
      "\n",
      "\n",
      "\u001b[1m> Entering new GraphCypherQAChain chain...\u001b[0m\n"
     ]
    },
    {
     "name": "stderr",
     "output_type": "stream",
     "text": [
      "/var/folders/7_/vqs74z3j5hscgzbt0ydbmqyw0000gq/T/ipykernel_88698/2771042610.py:3: LangChainDeprecationWarning: The method `Chain.__call__` was deprecated in langchain 0.1.0 and will be removed in 1.0. Use invoke instead.\n",
      "  r = chain(question)\n"
     ]
    },
    {
     "name": "stdout",
     "output_type": "stream",
     "text": [
      "Generated Cypher:\n",
      "\u001b[32;1m\u001b[1;3m\n",
      "MATCH (q:Question {id: 10})<-[:HAS_QUESTION]-(v:Verbatim {model: \"RDX\"})\n",
      "WHERE v.verbatimText IS NOT NULL\n",
      "WITH v, collect(v.verbatim) AS verbatims\n",
      "MATCH (v)-[:HAS_CATEGORY]->(c:Category)\n",
      "WITH c.id AS category, verbatims\n",
      "RETURN category, verbatims, SIZE(verbatims) AS totalVerbatims\n",
      "ORDER BY totalVerbatims DESC\n",
      "LIMIT 5\n",
      "\u001b[0m\n",
      "\n",
      "\u001b[1m> Finished chain.\u001b[0m\n",
      "{'query': 'Please summarize the verbatims for 2023 RDX for question 010 Trunk/TG Touch-Free Sensor DTU and create categories for the problems. As an output, I want the summary, corresponding categories and their verbatims', 'result': [{'category': 'Exterior', 'verbatims': ['foot release does not work consistently'], 'totalVerbatims': 1}, {'category': 'Exterior', 'verbatims': ['At times, the leg action does not close the tailgate.  Other times, when i am loading/unloading the trunk and have my feet under the vehicle, the tailgate closes.'], 'totalVerbatims': 1}, {'category': 'Exterior', 'verbatims': ['My wife and I have not found a consistent place to activate the sensor. We move our feet all along the rear of the car and sometimes it opens others it doesn’t.'], 'totalVerbatims': 1}, {'category': 'Exterior', 'verbatims': ['this feature doesnt work consistently'], 'totalVerbatims': 1}, {'category': 'Exterior', 'verbatims': ['when I move my foot under sensor sometimes the tailgate opens and sometimes it does not. It seems to be hit or miss.'], 'totalVerbatims': 1}], 'intermediate_steps': [{'query': '\\nMATCH (q:Question {id: 10})<-[:HAS_QUESTION]-(v:Verbatim {model: \"RDX\"})\\nWHERE v.verbatimText IS NOT NULL\\nWITH v, collect(v.verbatim) AS verbatims\\nMATCH (v)-[:HAS_CATEGORY]->(c:Category)\\nWITH c.id AS category, verbatims\\nRETURN category, verbatims, SIZE(verbatims) AS totalVerbatims\\nORDER BY totalVerbatims DESC\\nLIMIT 5\\n'}]}\n"
     ]
    }
   ],
   "source": [
    "response = chat(\"Please summarize the verbatims for 2023 RDX for question 010 Trunk/TG Touch-Free Sensor DTU and create categories for the problems. As an output, I want the summary, corresponding categories and their verbatims\")"
   ]
  },
  {
   "cell_type": "code",
   "execution_count": 10,
   "metadata": {},
   "outputs": [
    {
     "name": "stdout",
     "output_type": "stream",
     "text": [
      "\n",
      "Question:\n",
      "Please summarize the verbatims for 2023 RDX for question 010 Trunk/TG Touch-Free Sensor DTU and create categories for the problems. As an output, I want the summary, corresponding categories and their verbatims\n",
      "\n",
      "Cypher:\n",
      "\n",
      "MATCH (q:Question {id: 10})<-[:HAS_QUESTION]-(v:Verbatim {model: \"RDX\"})\n",
      "WHERE v.verbatimText IS NOT NULL\n",
      "WITH v, collect(v.verbatim) AS verbatims\n",
      "MATCH (v)-[:HAS_CATEGORY]->(c:Category)\n",
      "WITH c.id AS category, verbatims\n",
      "RETURN category, verbatims, SIZE(verbatims) AS totalVerbatims\n",
      "ORDER BY totalVerbatims DESC\n",
      "LIMIT 5\n",
      "\n",
      "\n",
      "\n",
      "\n",
      "Cypher Result:\n",
      "[[{'category': 'Exterior', 'verbatims': ['foot release does not work consistently'], 'totalVerbatims': 1}, {'category': 'Exterior', 'verbatims': ['At times, the leg action does not close the tailgate.  Other times, when i am loading/unloading the trunk and have my feet under the vehicle, the tailgate closes.'], 'totalVerbatims': 1}, {'category': 'Exterior', 'verbatims': ['My wife and I have not found a consistent place to activate the sensor. We move our feet all along the rear of the car and sometimes it opens others it doesn’t.'], 'totalVerbatims': 1}, {'category': 'Exterior', 'verbatims': ['this feature doesnt work consistently'], 'totalVerbatims': 1}, {'category': 'Exterior', 'verbatims': ['when I move my foot under sensor sometimes the tailgate opens and sometimes it does not. It seems to be hit or miss.'], 'totalVerbatims': 1}]]\n",
      "            \n",
      "Final Response:\n",
      "**Summary:**\n",
      "\n",
      "The trunk/tailgate touch-free sensor for the 2023 RDX has been reported to have inconsistent performance. Users have experienced difficulty in activating the sensor reliably, leading to frustration. \n",
      "\n",
      "**Categories and Verbatims:**\n",
      "\n",
      "- **Inconsistent Sensor Activation:**\n",
      "  - \"foot release does not work consistently\"\n",
      "  - \"this feature doesnt work consistently\"\n",
      "  - \"when I move my foot under sensor sometimes the tailgate opens and sometimes it does not. It seems to be hit or miss.\"\n",
      "\n",
      "- **Unintended Tailgate Closure:**\n",
      "  - \"At times, the leg action does not close the tailgate.  Other times, when I am loading/unloading the trunk and have my feet under the vehicle, the tailgate closes.\"\n",
      "\n",
      "- **Difficulty in Finding Sensor Activation Point:**\n",
      "  - \"My wife and I have not found a consistent place to activate the sensor. We move our feet all along the rear of the car and sometimes it opens others it doesn’t.\"\n",
      "        \n"
     ]
    }
   ],
   "source": [
    "response.display()"
   ]
  },
  {
   "cell_type": "code",
   "execution_count": 11,
   "metadata": {},
   "outputs": [
    {
     "data": {
      "text/markdown": [
       "**Summary:**\n",
       "\n",
       "The trunk/tailgate touch-free sensor for the 2023 RDX has been reported to have inconsistent performance. Users have experienced difficulty in activating the sensor reliably, leading to frustration. \n",
       "\n",
       "**Categories and Verbatims:**\n",
       "\n",
       "- **Inconsistent Sensor Activation:**\n",
       "  - \"foot release does not work consistently\"\n",
       "  - \"this feature doesnt work consistently\"\n",
       "  - \"when I move my foot under sensor sometimes the tailgate opens and sometimes it does not. It seems to be hit or miss.\"\n",
       "\n",
       "- **Unintended Tailgate Closure:**\n",
       "  - \"At times, the leg action does not close the tailgate.  Other times, when I am loading/unloading the trunk and have my feet under the vehicle, the tailgate closes.\"\n",
       "\n",
       "- **Difficulty in Finding Sensor Activation Point:**\n",
       "  - \"My wife and I have not found a consistent place to activate the sensor. We move our feet all along the rear of the car and sometimes it opens others it doesn’t.\""
      ],
      "text/plain": [
       "<IPython.core.display.Markdown object>"
      ]
     },
     "metadata": {},
     "output_type": "display_data"
    }
   ],
   "source": [
    "print_markdown(response.answer)"
   ]
  },
  {
   "cell_type": "markdown",
   "metadata": {},
   "source": [
    "### What are the top 5 problems about seats for each age buckets for men over the age of 53?"
   ]
  },
  {
   "cell_type": "code",
   "execution_count": 12,
   "metadata": {},
   "outputs": [
    {
     "name": "stdout",
     "output_type": "stream",
     "text": [
      "\n",
      "\n",
      "\u001b[1m> Entering new GraphCypherQAChain chain...\u001b[0m\n",
      "Generated Cypher:\n",
      "\u001b[32;1m\u001b[1;3m\n",
      "MATCH (v:Verbatim)-[:HAS_PROBLEM]->(p:Problem)\n",
      "WHERE v.verbatimText CONTAINS 'seat' \n",
      "  AND v.gender = \"Male\" \n",
      "  AND v.minAge > 53 \n",
      "  AND v.ageBucket IS NOT NULL\n",
      "WITH v.ageBucket AS ageBucket, p.problem AS problem, COLLECT(v.verbatim) AS responses\n",
      "WITH ageBucket, problem, SIZE(responses) AS total, responses\n",
      "WITH * ORDER BY ageBucket, total DESC\n",
      "WITH ageBucket, COLLECT(problem) AS problems, COLLECT(total) AS totals, COLLECT(responses) AS responsesList\n",
      "RETURN ageBucket, problems[..5] AS problem, totals[..5] AS total, responsesList[..5] AS responses\n",
      "LIMIT 5\n",
      "\u001b[0m\n",
      "\n",
      "\u001b[1m> Finished chain.\u001b[0m\n",
      "{'query': 'What are the top 5 problems about seats for each age buckets for men over the age of 53?', 'result': [{'ageBucket': '55-59', 'problem': ['INFO20: Not enough power plugs/USB ports', 'SEAT04: Seats have insufficient range of adjustment', 'SEAT17: Seat - Squeaks/rattles/loose/abnormal noises', 'SEAT18: Seat - Excessively uncomfortable', 'SEAT97: Other Seat Problem(s)'], 'total': [4, 4, 4, 4, 3], 'responses': [['Come on guys?! In todays family-EVERYONE HAS A DEVICE THAT NEEDS CHARGING!!! There should be more conveniently place usb ports for every seat.', 'Could do with usb charging port for the back seats', 'Could use some in back seat.', 'It would be very helpful if the RTL model had plugs in the rear for passengers.  I do not believe it currently does.  Only the one/two on the dash and the ports in the center console, which are problematic for passengers to use from the back seat.'], ['I’m 6’3”. A couple more inches of leg room would be nice.', 'I am 6 feet tall.. Not a good fit with longer legs', 'Bottom seat cushion is on the short side. The end/length of the seat only reaches about 2inches shy of my knee making it uncomfortable on longer drives', 'Should have more front tilt range for me'], ['Squeaks when exiting car.', 'The rattling  noise was coming from the inside of driver seat. Dealer fixed it having the seat removed, readjusted and tightened the loose seat part inside.', 'there is a squeak or rattle you hear when on bumpy road from the passenger side of the car.', 'Rear passenger side seat squeaks when going over bumps.  If you collapse the seat the squeak goes away.  I am planning on taking it to the dealership so they can fix it.'], ['Not enough padding, uncomfortable on longer trips', 'Hard seats, not comfortable at all.', 'Front and back passenger seats are not very comfortable for long drives', 'We had a 2011 odyssey, the seats were the most comfortable I have ever had in a vehicle.  The 2023 model has smaller, harder seats which are NOT comfortable like the earlier model.'], ['No lumbar adjustment - needed.  Also, the armrest on the driver side is slopped toward the driver causing your arm to fall off.', 'Missing the feature to adjust passanger seat height', 'both front seat belts make vibration/ rattling noises at the hight adjustment lever']]}, {'ageBucket': '60-64', 'problem': ['SEAT04: Seats have insufficient range of adjustment', 'SEAT08: Memory seats - Controls DTU/poorly located', 'SEAT97: Other Seat Problem(s)', 'SEAT09: Heated seats - Do not heat fast enough/maintain temperature', 'SEAT10: Cooled/ventilated seats - Do not cool fast enough/maintain temperature/excessively noisy'], 'total': [8, 2, 2, 2, 2], 'responses': [['can adjust the height so it feels like you are sitting in a hole.', 'It is understandable that cost control is important to balance car design and sales. Having said that, it would seem that adding a height adjustment to the passenger seat should not be a big deal. Honda\\'s seat position tends to sit low (noticed this even on top-trim Civic, Accords, CR-Vs). My wife is 5\\'2\" and she barely able to view over the hood. Passenger also do need to feel confident when being driven around and difficulty seeing the front makes the experience uncomfortable. I am getting a raised seat cushion for my wife!', \"My wife is usually in the passenger seat and doesn't like sitting higher than me the driver.  Would like height adjustment to lower the passenger seat.\", 'How hard would it be to put a full range seat like the drivers seat in the front passenger seat?   Did i not already pay enough for the elite trim.level? (Copied from SEAT97): Front passenger height....cant adjust', \"The passenger front seat only has a forward/back and recline feature-cannot raise or lower seat. Maybe it doesn't work?\", 'Not enough leg room', 'passenger side should have adjustments equal to driver side, height and lumber should be included', \"I have a short torso, so I wish seat adjusted a little higher. I'm used to driving pick up trucks so it just feels I am sitting too low, but I'm getting used to it already.\"], ['Pretty difficult to use. I have to go to the dealer to set it off.', 'Always reverts back to setting one after shutting down wehicle'], ['Back seats had there seat belt fastners under the seat. Had to remove bottom seat to retrieve them.', \"Driver's right armrest is adjustable but it's very annoying because you have to position it often it moves too easily once you get it set\"], [\"Seats do not get warm enough or stay warm when compared to other vehicles I've owed.\", 'It seems like on 2 of 3 that it barely gets warm'], ['You can barely feel the cool air.  I have been in other brands of cars and the cool air blows a lot stronger and cools much faster.', 'Ventilated seats are somewhat noisy']]}, {'ageBucket': '65-69', 'problem': ['SEAT04: Seats have insufficient range of adjustment', 'INFO20: Not enough power plugs/USB ports', 'SEAT22: Seat material imperfection', 'SEAT23: Seat materials scuff/soil easily', 'SEAT15: Seat belt uncomfortable'], 'total': [8, 3, 3, 3, 3], 'responses': [['I feel like the seats are to reclined from the build out and it makes the seat angled down on your buttocks making it difficult to get out .', '(Copied from SEAT97): Front passenger seat needs a height adjustment', '(Copied from SEAT97): Front passenger seat has no up down adjustment', '(Copied from SEAT97): The passenger seat does not height adjust', '(Copied from SEAT97): I wish the passenger seat had hieght adjustment.', 'driver seat will adjust up put it also goes clposer to dash', \"The 2023 Ridgeline driver's seat does not raise up high enough for my body style (thin).  This is my third Ridgeline since 2006 and the earlier models had adequate height adjustment for my body style.\", \"the passenger seat can only be adjusted forwarded or backwards.  The driver's seat is limited with height and forward and backwards.  If you are tall, this is a problem.\"], ['None in the backseat', 'Would like the rear seat to come standard with USB ports on the basic model.  Not just the upper models.', 'More USB ports for multiple devices and people, rear seat mainly.'], ['The side seat bolsters on both driver and passenger have wrinkly finish and not snug.', 'Front passenger seat cover (leather) was not attached properly.  Flaps came out during our first trip.  Took it back ti the dealer who fixed it and said that it had never been attached at the factory.', 'I bought a \"new\" 2023 Ridgeline that had 421 miles on it.  Dealer advised it had to be driven long distance to the dealer.  When I went to sit in the vehicle, the driver\\'s seat was at the lowest position, and it appeared to have wrinkles in the leather.  Then I found that the seat did not raise up as higher than my previous Ridgelines.  Not sure why the seat is different than before but it is.'], ['Prefer leather to suede, in part because it is easier to clean.', 'White seats suede hold too much dirt', 'the seat material seems to pick up dry skin particles easily'], ['it cuts across my lower throat, it should be adjustable to lower it to chest heigth', '(Copied from SEAT97): front seat belts the sholder harness cuts the neck area', 'too tight']]}, {'ageBucket': '>=70', 'problem': ['SEAT04: Seats have insufficient range of adjustment', 'SEAT18: Seat - Excessively uncomfortable', 'SEAT97: Other Seat Problem(s)', 'SEAT15: Seat belt uncomfortable', 'SEAT03: Seat adjustment - Controls DTU'], 'total': [29, 9, 8, 6, 6], 'responses': [['I would have liked to have full power passenger seats.  Height adjustment range of driver seat could be better.', 'cannot move the seat far enough for my convenience.', 'Front passenger seat cannot be raised so passenger view view forward and sideward is blocked. Had to purchase a booster seat.', 'Feels like sitting on ground because seat height cannot be adjusted. Wife 5’4 especially difficult time feeling comfortable in passenger seat .', 'Wish front passenger seat had full range as drivers seat', '(Copied from SEAT97): Passanger seat has no height adjustment', 'No height adjustment available.', 'Short people have problems with the limited range of adjustments.  Seat belts are uncomfortable for them.', '(Copied from INT97): Passenger seat too low and cannot be raised.', 'SEAT IS VERY LOW AND CANNOT BE ADJUSTED UP', 'Wife needs to use a cushion when driving . Seat is too low for her. She is 5’1” . Passenger seat sits too low for her; it is also too low for me and I’m 6 foot. There is no adjustment . Electric seat adjustments should be standard .', 'I would like to sit higher than the seat adjustment permits. I and front seat passengers use a pillow to provide additional height', 'Passenger seat is too damn low.  Same as my 2020 Civic', 'The passenger seat needs to have the same adjustments the drivers seat has.', 'Would like to have more rearward range, and without lowering seat as well.', 'Even after sliding the second row seat back there is still not enough room between the second row and the drivers seat.', \"Can't  see over the hood\", 'Occupants are average size adults.  The driver and passenger seats to not move far enough back to provide the most comfortable leg room, and the height adjustment does not seem to work independently from the for/aft adjustment.', 'DRIVER SEATING DOES NOT HAVE ENOUGH LEG ROOM FOR LONG LEGGED DRIVER', 'I am the driver and am 5’8”, my wife is 5’3””.  I find the rear adjustment too little to comfortly leave the van. My wife has great difficulty lining up with the seat when entering the van.  Her seat having no up or down adjstment makes entering the car painful as she has to reach the handle above the door to pull herself up to the seat.', \"driver's seat does not adjust high enough for my 5ft 2in wife. (Copied from SEAT97): drivers seat and steering wheel not aligned which becomes a problem when you are short and need to sit close up to the wheel..\", 'Driver and passenger seat does not go high enough.', 'Difficult to get it just right', '(Copied from SEAT97): Wish I would have researched more on passenger seat with no height adjustment. My wife will not ride in that seat,  to low.  She drives I ride.', 'There is little tilt in the front seats giving a flat short seat that is uncomfortable on long drives', 'no height or lumbar adjustment', \"I'm 5ft 7inches.  Would like a little more height adjustment foe visibility\", 'Front seats height adjustment does not go high enough for me or my wife.', \"Tilt is insufficient to take pressure off just behind and under my knee. Seat is also too deep in length and at butt.. Sufficient height can't be acheived.\"], ['Seat is too firm snd low quality', \"Just completed a 4 hr drive. Sets in our HRV are better by far and these seats don't compare to my 2020 accord for comfort\", '(Copied from INT97): Lumbar seating preferred due to comfort on longer rides.', \"it's like sitting on a piece of plywood no cushioning at all\", '(Copied from INT97): Front seats hard not soft enough', 'Driver seat on this van and three previously owned, have too little support towards back portion of seat. Feels like a ‘hole’ developes. Needs more support. .', 'The passenger front seat has no up or down height adjustment.  This results in my wife having great difficulty and shoulder pain  in entering and departing the van.  The front passenger seat has no armrest adjustment, its position is fixed and tied to the backrest angle.  In our case that results in the armrest being uncomfortable and useless.', 'The front seats are too short for legs and will not move up on the front. Too flat a seat.', 'Driver seat too long and too raised aat under knee area. Butt area too deep.'], ['(Copied from INT97): leather seat bottoms seem to be stretching out leaving a valley', '(Copied from INT97): Seat belt hard to use', 'So when someone sits in the front passenger seat and gets out of the car it seems that the software thinks they are still seated and the seatbelt warning starts to ding.  I have had to reach across while driving to plug in the seat belt even tho no one is sitting there.', 'difficult to reach back/grasp belt behind me.', '(Copied from INT97): Seat belt hard to snap in. Too short, or in wrong position / location.', 'Seat belt buckle in the front seats are hard to get to for fastening the seat belt  Need extenders!', '(Copied from INT97): The seat bottom fabric is not tacked down at the bottom of the seat near the console on one of the front seats.', '(Copied from FCD97): On initial start and drive the seat belt display stays on an excessively long time even when the belts are latched immediately on start'], ['Difficult to latch up before taking off', 'belt usually is on my neck', 'Belt for a short person on front passenger side rides too high, along the neck of the passenger.', 'difficult to reach/grasp from tetracted position. cuts across neck when buckled.', 'Hard to click in. Hard to reach.', 'Seat belts are to low to latch. I purchased seat belt extensions for all seats on all my Odysseys. This 2023 latch is the lowest.'], ['The passenger is unable to adjust the height of the seat', 'For whatever reason, it took me awhile to easily get the second row seats to in a flat position. I now know how to do it.', 'the front passenger seat controls are limited and do not provide sufficient comfort for different size incividuals.', 'I titled the seat back to grab a nap. It took me a while to realize there were two levers.', 'Overerly complicated', 'Both the front driver’s and passenger’s front seats have too limited adjustment ranges.']]}], 'intermediate_steps': [{'query': '\\nMATCH (v:Verbatim)-[:HAS_PROBLEM]->(p:Problem)\\nWHERE v.verbatimText CONTAINS \\'seat\\' \\n  AND v.gender = \"Male\" \\n  AND v.minAge > 53 \\n  AND v.ageBucket IS NOT NULL\\nWITH v.ageBucket AS ageBucket, p.problem AS problem, COLLECT(v.verbatim) AS responses\\nWITH ageBucket, problem, SIZE(responses) AS total, responses\\nWITH * ORDER BY ageBucket, total DESC\\nWITH ageBucket, COLLECT(problem) AS problems, COLLECT(total) AS totals, COLLECT(responses) AS responsesList\\nRETURN ageBucket, problems[..5] AS problem, totals[..5] AS total, responsesList[..5] AS responses\\nLIMIT 5\\n'}]}\n"
     ]
    }
   ],
   "source": [
    "response = chat(\"What are the top 5 problems about seats for each age buckets for men over the age of 53?\")"
   ]
  },
  {
   "cell_type": "code",
   "execution_count": 13,
   "metadata": {},
   "outputs": [
    {
     "name": "stdout",
     "output_type": "stream",
     "text": [
      "\n",
      "Question:\n",
      "What are the top 5 problems about seats for each age buckets for men over the age of 53?\n",
      "\n",
      "Cypher:\n",
      "\n",
      "MATCH (v:Verbatim)-[:HAS_PROBLEM]->(p:Problem)\n",
      "WHERE v.verbatimText CONTAINS 'seat' \n",
      "  AND v.gender = \"Male\" \n",
      "  AND v.minAge > 53 \n",
      "  AND v.ageBucket IS NOT NULL\n",
      "WITH v.ageBucket AS ageBucket, p.problem AS problem, COLLECT(v.verbatim) AS responses\n",
      "WITH ageBucket, problem, SIZE(responses) AS total, responses\n",
      "WITH * ORDER BY ageBucket, total DESC\n",
      "WITH ageBucket, COLLECT(problem) AS problems, COLLECT(total) AS totals, COLLECT(responses) AS responsesList\n",
      "RETURN ageBucket, problems[..5] AS problem, totals[..5] AS total, responsesList[..5] AS responses\n",
      "LIMIT 5\n",
      "\n",
      "\n",
      "\n",
      "\n",
      "Cypher Result:\n",
      "[[{'ageBucket': '55-59', 'problem': ['INFO20: Not enough power plugs/USB ports', 'SEAT04: Seats have insufficient range of adjustment', 'SEAT17: Seat - Squeaks/rattles/loose/abnormal noises', 'SEAT18: Seat - Excessively uncomfortable', 'SEAT97: Other Seat Problem(s)'], 'total': [4, 4, 4, 4, 3], 'responses': [['Come on guys?! In todays family-EVERYONE HAS A DEVICE THAT NEEDS CHARGING!!! There should be more conveniently place usb ports for every seat.', 'Could do with usb charging port for the back seats', 'Could use some in back seat.', 'It would be very helpful if the RTL model had plugs in the rear for passengers.  I do not believe it currently does.  Only the one/two on the dash and the ports in the center console, which are problematic for passengers to use from the back seat.'], ['I’m 6’3”. A couple more inches of leg room would be nice.', 'I am 6 feet tall.. Not a good fit with longer legs', 'Bottom seat cushion is on the short side. The end/length of the seat only reaches about 2inches shy of my knee making it uncomfortable on longer drives', 'Should have more front tilt range for me'], ['Squeaks when exiting car.', 'The rattling  noise was coming from the inside of driver seat. Dealer fixed it having the seat removed, readjusted and tightened the loose seat part inside.', 'there is a squeak or rattle you hear when on bumpy road from the passenger side of the car.', 'Rear passenger side seat squeaks when going over bumps.  If you collapse the seat the squeak goes away.  I am planning on taking it to the dealership so they can fix it.'], ['Not enough padding, uncomfortable on longer trips', 'Hard seats, not comfortable at all.', 'Front and back passenger seats are not very comfortable for long drives', 'We had a 2011 odyssey, the seats were the most comfortable I have ever had in a vehicle.  The 2023 model has smaller, harder seats which are NOT comfortable like the earlier model.'], ['No lumbar adjustment - needed.  Also, the armrest on the driver side is slopped toward the driver causing your arm to fall off.', 'Missing the feature to adjust passanger seat height', 'both front seat belts make vibration/ rattling noises at the hight adjustment lever']]}, {'ageBucket': '60-64', 'problem': ['SEAT04: Seats have insufficient range of adjustment', 'SEAT08: Memory seats - Controls DTU/poorly located', 'SEAT97: Other Seat Problem(s)', 'SEAT09: Heated seats - Do not heat fast enough/maintain temperature', 'SEAT10: Cooled/ventilated seats - Do not cool fast enough/maintain temperature/excessively noisy'], 'total': [8, 2, 2, 2, 2], 'responses': [['can adjust the height so it feels like you are sitting in a hole.', 'It is understandable that cost control is important to balance car design and sales. Having said that, it would seem that adding a height adjustment to the passenger seat should not be a big deal. Honda\\'s seat position tends to sit low (noticed this even on top-trim Civic, Accords, CR-Vs). My wife is 5\\'2\" and she barely able to view over the hood. Passenger also do need to feel confident when being driven around and difficulty seeing the front makes the experience uncomfortable. I am getting a raised seat cushion for my wife!', \"My wife is usually in the passenger seat and doesn't like sitting higher than me the driver.  Would like height adjustment to lower the passenger seat.\", 'How hard would it be to put a full range seat like the drivers seat in the front passenger seat?   Did i not already pay enough for the elite trim.level? (Copied from SEAT97): Front passenger height....cant adjust', \"The passenger front seat only has a forward/back and recline feature-cannot raise or lower seat. Maybe it doesn't work?\", 'Not enough leg room', 'passenger side should have adjustments equal to driver side, height and lumber should be included', \"I have a short torso, so I wish seat adjusted a little higher. I'm used to driving pick up trucks so it just feels I am sitting too low, but I'm getting used to it already.\"], ['Pretty difficult to use. I have to go to the dealer to set it off.', 'Always reverts back to setting one after shutting down wehicle'], ['Back seats had there seat belt fastners under the seat. Had to remove bottom seat to retrieve them.', \"Driver's right armrest is adjustable but it's very annoying because you have to position it often it moves too easily once you get it set\"], [\"Seats do not get warm enough or stay warm when compared to other vehicles I've owed.\", 'It seems like on 2 of 3 that it barely gets warm'], ['You can barely feel the cool air.  I have been in other brands of cars and the cool air blows a lot stronger and cools much faster.', 'Ventilated seats are somewhat noisy']]}, {'ageBucket': '65-69', 'problem': ['SEAT04: Seats have insufficient range of adjustment', 'INFO20: Not enough power plugs/USB ports', 'SEAT22: Seat material imperfection', 'SEAT23: Seat materials scuff/soil easily', 'SEAT15: Seat belt uncomfortable'], 'total': [8, 3, 3, 3, 3], 'responses': [['I feel like the seats are to reclined from the build out and it makes the seat angled down on your buttocks making it difficult to get out .', '(Copied from SEAT97): Front passenger seat needs a height adjustment', '(Copied from SEAT97): Front passenger seat has no up down adjustment', '(Copied from SEAT97): The passenger seat does not height adjust', '(Copied from SEAT97): I wish the passenger seat had hieght adjustment.', 'driver seat will adjust up put it also goes clposer to dash', \"The 2023 Ridgeline driver's seat does not raise up high enough for my body style (thin).  This is my third Ridgeline since 2006 and the earlier models had adequate height adjustment for my body style.\", \"the passenger seat can only be adjusted forwarded or backwards.  The driver's seat is limited with height and forward and backwards.  If you are tall, this is a problem.\"], ['None in the backseat', 'Would like the rear seat to come standard with USB ports on the basic model.  Not just the upper models.', 'More USB ports for multiple devices and people, rear seat mainly.'], ['The side seat bolsters on both driver and passenger have wrinkly finish and not snug.', 'Front passenger seat cover (leather) was not attached properly.  Flaps came out during our first trip.  Took it back ti the dealer who fixed it and said that it had never been attached at the factory.', 'I bought a \"new\" 2023 Ridgeline that had 421 miles on it.  Dealer advised it had to be driven long distance to the dealer.  When I went to sit in the vehicle, the driver\\'s seat was at the lowest position, and it appeared to have wrinkles in the leather.  Then I found that the seat did not raise up as higher than my previous Ridgelines.  Not sure why the seat is different than before but it is.'], ['Prefer leather to suede, in part because it is easier to clean.', 'White seats suede hold too much dirt', 'the seat material seems to pick up dry skin particles easily'], ['it cuts across my lower throat, it should be adjustable to lower it to chest heigth', '(Copied from SEAT97): front seat belts the sholder harness cuts the neck area', 'too tight']]}, {'ageBucket': '>=70', 'problem': ['SEAT04: Seats have insufficient range of adjustment', 'SEAT18: Seat - Excessively uncomfortable', 'SEAT97: Other Seat Problem(s)', 'SEAT15: Seat belt uncomfortable', 'SEAT03: Seat adjustment - Controls DTU'], 'total': [29, 9, 8, 6, 6], 'responses': [['I would have liked to have full power passenger seats.  Height adjustment range of driver seat could be better.', 'cannot move the seat far enough for my convenience.', 'Front passenger seat cannot be raised so passenger view view forward and sideward is blocked. Had to purchase a booster seat.', 'Feels like sitting on ground because seat height cannot be adjusted. Wife 5’4 especially difficult time feeling comfortable in passenger seat .', 'Wish front passenger seat had full range as drivers seat', '(Copied from SEAT97): Passanger seat has no height adjustment', 'No height adjustment available.', 'Short people have problems with the limited range of adjustments.  Seat belts are uncomfortable for them.', '(Copied from INT97): Passenger seat too low and cannot be raised.', 'SEAT IS VERY LOW AND CANNOT BE ADJUSTED UP', 'Wife needs to use a cushion when driving . Seat is too low for her. She is 5’1” . Passenger seat sits too low for her; it is also too low for me and I’m 6 foot. There is no adjustment . Electric seat adjustments should be standard .', 'I would like to sit higher than the seat adjustment permits. I and front seat passengers use a pillow to provide additional height', 'Passenger seat is too damn low.  Same as my 2020 Civic', 'The passenger seat needs to have the same adjustments the drivers seat has.', 'Would like to have more rearward range, and without lowering seat as well.', 'Even after sliding the second row seat back there is still not enough room between the second row and the drivers seat.', \"Can't  see over the hood\", 'Occupants are average size adults.  The driver and passenger seats to not move far enough back to provide the most comfortable leg room, and the height adjustment does not seem to work independently from the for/aft adjustment.', 'DRIVER SEATING DOES NOT HAVE ENOUGH LEG ROOM FOR LONG LEGGED DRIVER', 'I am the driver and am 5’8”, my wife is 5’3””.  I find the rear adjustment too little to comfortly leave the van. My wife has great difficulty lining up with the seat when entering the van.  Her seat having no up or down adjstment makes entering the car painful as she has to reach the handle above the door to pull herself up to the seat.', \"driver's seat does not adjust high enough for my 5ft 2in wife. (Copied from SEAT97): drivers seat and steering wheel not aligned which becomes a problem when you are short and need to sit close up to the wheel..\", 'Driver and passenger seat does not go high enough.', 'Difficult to get it just right', '(Copied from SEAT97): Wish I would have researched more on passenger seat with no height adjustment. My wife will not ride in that seat,  to low.  She drives I ride.', 'There is little tilt in the front seats giving a flat short seat that is uncomfortable on long drives', 'no height or lumbar adjustment', \"I'm 5ft 7inches.  Would like a little more height adjustment foe visibility\", 'Front seats height adjustment does not go high enough for me or my wife.', \"Tilt is insufficient to take pressure off just behind and under my knee. Seat is also too deep in length and at butt.. Sufficient height can't be acheived.\"], ['Seat is too firm snd low quality', \"Just completed a 4 hr drive. Sets in our HRV are better by far and these seats don't compare to my 2020 accord for comfort\", '(Copied from INT97): Lumbar seating preferred due to comfort on longer rides.', \"it's like sitting on a piece of plywood no cushioning at all\", '(Copied from INT97): Front seats hard not soft enough', 'Driver seat on this van and three previously owned, have too little support towards back portion of seat. Feels like a ‘hole’ developes. Needs more support. .', 'The passenger front seat has no up or down height adjustment.  This results in my wife having great difficulty and shoulder pain  in entering and departing the van.  The front passenger seat has no armrest adjustment, its position is fixed and tied to the backrest angle.  In our case that results in the armrest being uncomfortable and useless.', 'The front seats are too short for legs and will not move up on the front. Too flat a seat.', 'Driver seat too long and too raised aat under knee area. Butt area too deep.'], ['(Copied from INT97): leather seat bottoms seem to be stretching out leaving a valley', '(Copied from INT97): Seat belt hard to use', 'So when someone sits in the front passenger seat and gets out of the car it seems that the software thinks they are still seated and the seatbelt warning starts to ding.  I have had to reach across while driving to plug in the seat belt even tho no one is sitting there.', 'difficult to reach back/grasp belt behind me.', '(Copied from INT97): Seat belt hard to snap in. Too short, or in wrong position / location.', 'Seat belt buckle in the front seats are hard to get to for fastening the seat belt  Need extenders!', '(Copied from INT97): The seat bottom fabric is not tacked down at the bottom of the seat near the console on one of the front seats.', '(Copied from FCD97): On initial start and drive the seat belt display stays on an excessively long time even when the belts are latched immediately on start'], ['Difficult to latch up before taking off', 'belt usually is on my neck', 'Belt for a short person on front passenger side rides too high, along the neck of the passenger.', 'difficult to reach/grasp from tetracted position. cuts across neck when buckled.', 'Hard to click in. Hard to reach.', 'Seat belts are to low to latch. I purchased seat belt extensions for all seats on all my Odysseys. This 2023 latch is the lowest.'], ['The passenger is unable to adjust the height of the seat', 'For whatever reason, it took me awhile to easily get the second row seats to in a flat position. I now know how to do it.', 'the front passenger seat controls are limited and do not provide sufficient comfort for different size incividuals.', 'I titled the seat back to grab a nap. It took me a while to realize there were two levers.', 'Overerly complicated', 'Both the front driver’s and passenger’s front seats have too limited adjustment ranges.']]}]]\n",
      "            \n",
      "Final Response:\n",
      "### Age Bucket: 55-59\n",
      "1. **Seats have insufficient range of adjustment**: 4\n",
      "2. **Seat - Squeaks/rattles/loose/abnormal noises**: 4\n",
      "3. **Seat - Excessively uncomfortable**: 4\n",
      "4. **Other Seat Problem(s)**: 3\n",
      "5. **Not enough power plugs/USB ports**: 4\n",
      "\n",
      "### Age Bucket: 60-64\n",
      "1. **Seats have insufficient range of adjustment**: 8\n",
      "2. **Memory seats - Controls DTU/poorly located**: 2\n",
      "3. **Other Seat Problem(s)**: 2\n",
      "4. **Heated seats - Do not heat fast enough/maintain temperature**: 2\n",
      "5. **Cooled/ventilated seats - Do not cool fast enough/maintain temperature/excessively noisy**: 2\n",
      "\n",
      "### Age Bucket: 65-69\n",
      "1. **Seats have insufficient range of adjustment**: 8\n",
      "2. **Seat material imperfection**: 3\n",
      "3. **Seat materials scuff/soil easily**: 3\n",
      "4. **Seat belt uncomfortable**: 3\n",
      "5. **Not enough power plugs/USB ports**: 3\n",
      "\n",
      "### Age Bucket: >=70\n",
      "1. **Seats have insufficient range of adjustment**: 29\n",
      "2. **Seat - Excessively uncomfortable**: 9\n",
      "3. **Other Seat Problem(s)**: 8\n",
      "4. **Seat belt uncomfortable**: 6\n",
      "5. **Seat adjustment - Controls DTU**: 6\n",
      "        \n"
     ]
    }
   ],
   "source": [
    "response.display()"
   ]
  },
  {
   "cell_type": "code",
   "execution_count": 14,
   "metadata": {},
   "outputs": [
    {
     "data": {
      "text/markdown": [
       "### Age Bucket: 55-59\n",
       "1. **Seats have insufficient range of adjustment**: 4\n",
       "2. **Seat - Squeaks/rattles/loose/abnormal noises**: 4\n",
       "3. **Seat - Excessively uncomfortable**: 4\n",
       "4. **Other Seat Problem(s)**: 3\n",
       "5. **Not enough power plugs/USB ports**: 4\n",
       "\n",
       "### Age Bucket: 60-64\n",
       "1. **Seats have insufficient range of adjustment**: 8\n",
       "2. **Memory seats - Controls DTU/poorly located**: 2\n",
       "3. **Other Seat Problem(s)**: 2\n",
       "4. **Heated seats - Do not heat fast enough/maintain temperature**: 2\n",
       "5. **Cooled/ventilated seats - Do not cool fast enough/maintain temperature/excessively noisy**: 2\n",
       "\n",
       "### Age Bucket: 65-69\n",
       "1. **Seats have insufficient range of adjustment**: 8\n",
       "2. **Seat material imperfection**: 3\n",
       "3. **Seat materials scuff/soil easily**: 3\n",
       "4. **Seat belt uncomfortable**: 3\n",
       "5. **Not enough power plugs/USB ports**: 3\n",
       "\n",
       "### Age Bucket: >=70\n",
       "1. **Seats have insufficient range of adjustment**: 29\n",
       "2. **Seat - Excessively uncomfortable**: 9\n",
       "3. **Other Seat Problem(s)**: 8\n",
       "4. **Seat belt uncomfortable**: 6\n",
       "5. **Seat adjustment - Controls DTU**: 6"
      ],
      "text/plain": [
       "<IPython.core.display.Markdown object>"
      ]
     },
     "metadata": {},
     "output_type": "display_data"
    }
   ],
   "source": [
    "print_markdown(response.answer)"
   ]
  },
  {
   "cell_type": "markdown",
   "metadata": {},
   "source": [
    "### What are the total responses under seat23 for honda civic, what is the male to female proportion for these responses and what is the problem for seat23?"
   ]
  },
  {
   "cell_type": "code",
   "execution_count": 15,
   "metadata": {},
   "outputs": [
    {
     "name": "stdout",
     "output_type": "stream",
     "text": [
      "\n",
      "\n",
      "\u001b[1m> Entering new GraphCypherQAChain chain...\u001b[0m\n",
      "Generated Cypher:\n",
      "\u001b[32;1m\u001b[1;3m\n",
      "MATCH (p:Problem {id: \"SEAT23\"})<-[:HAS_PROBLEM]-(v:Verbatim {make: \"Honda\", model: \"Civic\"})\n",
      "WITH p.problem AS problem, COUNT(v) AS totalResponses, \n",
      "SUM(CASE WHEN v.gender = \"Male\" THEN 1 ELSE 0 END) AS males,\n",
      "SUM(CASE WHEN v.gender = \"Female\" THEN 1 ELSE 0 END) AS females\n",
      "RETURN totalResponses, males, females, toFloat(males) /  (CASE WHEN females = 0 THEN 1 ELSE females END) AS maleToFemaleRatio, problem\n",
      "\u001b[0m\n",
      "\n",
      "\u001b[1m> Finished chain.\u001b[0m\n",
      "{'query': 'What are the total responses under seat23 for honda civic, what is the male to female proportion for these responses and what is the problem for seat23?', 'result': [{'totalResponses': 10, 'males': 7, 'females': 3, 'maleToFemaleRatio': 2.3333333333333335, 'problem': 'SEAT23: Seat materials scuff/soil easily'}], 'intermediate_steps': [{'query': '\\nMATCH (p:Problem {id: \"SEAT23\"})<-[:HAS_PROBLEM]-(v:Verbatim {make: \"Honda\", model: \"Civic\"})\\nWITH p.problem AS problem, COUNT(v) AS totalResponses, \\nSUM(CASE WHEN v.gender = \"Male\" THEN 1 ELSE 0 END) AS males,\\nSUM(CASE WHEN v.gender = \"Female\" THEN 1 ELSE 0 END) AS females\\nRETURN totalResponses, males, females, toFloat(males) /  (CASE WHEN females = 0 THEN 1 ELSE females END) AS maleToFemaleRatio, problem\\n'}]}\n"
     ]
    }
   ],
   "source": [
    "response = chat(\"What are the total responses under seat23 for honda civic, what is the male to female proportion for these responses and what is the problem for seat23?\")"
   ]
  },
  {
   "cell_type": "code",
   "execution_count": 16,
   "metadata": {},
   "outputs": [
    {
     "name": "stdout",
     "output_type": "stream",
     "text": [
      "\n",
      "Question:\n",
      "What are the total responses under seat23 for honda civic, what is the male to female proportion for these responses and what is the problem for seat23?\n",
      "\n",
      "Cypher:\n",
      "\n",
      "MATCH (p:Problem {id: \"SEAT23\"})<-[:HAS_PROBLEM]-(v:Verbatim {make: \"Honda\", model: \"Civic\"})\n",
      "WITH p.problem AS problem, COUNT(v) AS totalResponses, \n",
      "SUM(CASE WHEN v.gender = \"Male\" THEN 1 ELSE 0 END) AS males,\n",
      "SUM(CASE WHEN v.gender = \"Female\" THEN 1 ELSE 0 END) AS females\n",
      "RETURN totalResponses, males, females, toFloat(males) /  (CASE WHEN females = 0 THEN 1 ELSE females END) AS maleToFemaleRatio, problem\n",
      "\n",
      "\n",
      "\n",
      "\n",
      "Cypher Result:\n",
      "[[{'totalResponses': 10, 'males': 7, 'females': 3, 'maleToFemaleRatio': 2.3333333333333335, 'problem': 'SEAT23: Seat materials scuff/soil easily'}]]\n",
      "            \n",
      "Final Response:\n",
      "Total responses under SEAT23 for Honda Civic: 10  \n",
      "Male to female proportion for these responses: 2.33  \n",
      "Problem for SEAT23: Seat materials scuff/soil easily\n",
      "        \n"
     ]
    }
   ],
   "source": [
    "response.display()"
   ]
  },
  {
   "cell_type": "code",
   "execution_count": 17,
   "metadata": {},
   "outputs": [
    {
     "data": {
      "text/markdown": [
       "Total responses under SEAT23 for Honda Civic: 10  \n",
       "Male to female proportion for these responses: 2.33  \n",
       "Problem for SEAT23: Seat materials scuff/soil easily"
      ],
      "text/plain": [
       "<IPython.core.display.Markdown object>"
      ]
     },
     "metadata": {},
     "output_type": "display_data"
    }
   ],
   "source": [
    "print_markdown(response.answer)"
   ]
  },
  {
   "cell_type": "markdown",
   "metadata": {},
   "source": [
    "## Your Questions"
   ]
  },
  {
   "cell_type": "code",
   "execution_count": null,
   "metadata": {},
   "outputs": [],
   "source": [
    "response = chat(...)"
   ]
  },
  {
   "cell_type": "code",
   "execution_count": null,
   "metadata": {},
   "outputs": [],
   "source": [
    "response.display()"
   ]
  },
  {
   "cell_type": "code",
   "execution_count": null,
   "metadata": {},
   "outputs": [],
   "source": [
    "print_markdown(response.answer)"
   ]
  }
 ],
 "metadata": {
  "kernelspec": {
   "display_name": "ps-genai-agents-lVTtXIGJ-py3.12",
   "language": "python",
   "name": "python3"
  },
  "language_info": {
   "codemirror_mode": {
    "name": "ipython",
    "version": 3
   },
   "file_extension": ".py",
   "mimetype": "text/x-python",
   "name": "python",
   "nbconvert_exporter": "python",
   "pygments_lexer": "ipython3",
   "version": "3.12.3"
  }
 },
 "nbformat": 4,
 "nbformat_minor": 2
}
