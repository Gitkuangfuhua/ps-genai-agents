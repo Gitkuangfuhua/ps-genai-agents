{
 "cells": [
  {
   "cell_type": "markdown",
   "metadata": {},
   "source": [
    "# Professional Services Retreat | GenAI Workshop"
   ]
  },
  {
   "cell_type": "markdown",
   "metadata": {},
   "source": [
    "# Tools"
   ]
  },
  {
   "cell_type": "markdown",
   "metadata": {},
   "source": [
    "Tools are how agents execute actions. \n",
    "\n",
    "We may define tools to perform actions necessary to satisfy our application scope. \n",
    "\n",
    "In this workshop we use only a single tool - Text2Cypher, but we can also have tools for...\n",
    "* Vector Search\n",
    "* Web Search\n",
    "* Chart Generation\n",
    "* DataFrame Conversion\n",
    "* etc..."
   ]
  },
  {
   "cell_type": "markdown",
   "metadata": {},
   "source": [
    "## Text2Cypher"
   ]
  },
  {
   "cell_type": "markdown",
   "metadata": {},
   "source": [
    "We define our Text2Cypher tool below. "
   ]
  },
  {
   "cell_type": "markdown",
   "metadata": {},
   "source": [
    "```python\n",
    "def create_langchain_text2cypher_tool(cypher_chain: GraphCypherQAChain) -> Callable:\n",
    "    \"\"\"\n",
    "    Create a Text2Cypher tool with the provided cypher chain.\n",
    "\n",
    "    Parameters\n",
    "    ----------\n",
    "    cypher_chain : GraphCypherQAChain\n",
    "        The cypher chain to use.\n",
    "\n",
    "    Returns\n",
    "    -------\n",
    "    Callable\n",
    "        The tool.\n",
    "    \"\"\"\n",
    "\n",
    "    @tool(\"Text2Cypher\", return_direct=False)\n",
    "    def text2cypher(query: str) -> Dict[str, Any]:\n",
    "        \"\"\"\n",
    "        * Useful for maths and aggregations:\n",
    "            - Answering questions requiring math\n",
    "            - Returning lists\n",
    "            - Aggregation like counting, calculating proportion, scores and totals\n",
    "        * Use if looking for specific IDs.\n",
    "        * Use if searching for contents of a Node.\n",
    "        * Use full question as input.\n",
    "        \"\"\"\n",
    "\n",
    "        return cypher_chain.invoke(query)\n",
    "\n",
    "    return text2cypher\n",
    "```"
   ]
  },
  {
   "cell_type": "markdown",
   "metadata": {},
   "source": [
    "The `text2cypher` tool returned by the `create_langchain_text2cypher_tool` function is bound to the `GraphCypherQAChain` we pass as the `cypher_chain` argument. \n",
    "\n",
    "By only requiring the `query` parameter to be passed to the actual tool, we simplify the arguments that an LLM must generate and reduce the chances for error.\n",
    "\n",
    "We use the `@tool` decorator to format the `text2cypher` function as a `LangChain`-recognized tool.\n",
    "\n",
    "The docstring we provide will be read by the LLM and inform it on how to use `text2cypher` in our application."
   ]
  },
  {
   "cell_type": "markdown",
   "metadata": {},
   "source": [
    "## Code "
   ]
  },
  {
   "cell_type": "markdown",
   "metadata": {},
   "source": [
    "[Text2Cypher tool code](../../src/ps_genai_agents/tools/text2cypher.py)\n",
    "\n",
    "[Vector Search tool code](../../src/ps_genai_agents/tools/vector_search.py)"
   ]
  }
 ],
 "metadata": {
  "language_info": {
   "name": "python"
  }
 },
 "nbformat": 4,
 "nbformat_minor": 2
}
